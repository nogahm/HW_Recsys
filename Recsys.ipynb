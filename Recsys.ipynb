{
  "nbformat": 4,
  "nbformat_minor": 0,
  "metadata": {
    "colab": {
      "name": "Recsys.ipynb",
      "version": "0.3.2",
      "provenance": [],
      "collapsed_sections": [],
      "toc_visible": true,
      "include_colab_link": true
    },
    "language_info": {
      "codemirror_mode": {
        "name": "ipython",
        "version": 3
      },
      "file_extension": ".py",
      "mimetype": "text/x-python",
      "name": "python",
      "nbconvert_exporter": "python",
      "pygments_lexer": "ipython3",
      "version": "3.6.2"
    },
    "kernelspec": {
      "display_name": "Python 3",
      "language": "python",
      "name": "python3"
    }
  },
  "cells": [
    {
      "cell_type": "markdown",
      "metadata": {
        "id": "view-in-github",
        "colab_type": "text"
      },
      "source": [
        "<a href=\"https://colab.research.google.com/github/nogahm/HW_Recsys/blob/master/Recsys.ipynb\" target=\"_parent\"><img src=\"https://colab.research.google.com/assets/colab-badge.svg\" alt=\"Open In Colab\"/></a>"
      ]
    },
    {
      "cell_type": "markdown",
      "metadata": {
        "collapsed": true,
        "id": "GKIDoEuNAaiP",
        "colab_type": "text"
      },
      "source": [
        "# **HW1**"
      ]
    },
    {
      "cell_type": "markdown",
      "metadata": {
        "id": "us8gzEnFAaiR",
        "colab_type": "text"
      },
      "source": [
        "## 1 - Data Analysis\n",
        "(we analysed all rating not only training)"
      ]
    },
    {
      "cell_type": "markdown",
      "metadata": {
        "id": "ewssgq-wAaiS",
        "colab_type": "text"
      },
      "source": [
        "**a - Average Ratings**"
      ]
    },
    {
      "cell_type": "code",
      "metadata": {
        "id": "rfHvCREKAaiT",
        "colab_type": "code",
        "colab": {}
      },
      "source": [
        "import numpy as np\n",
        "import pandas as pd\n",
        "import matplotlib.pyplot as plt\n",
        "import operator"
      ],
      "execution_count": 0,
      "outputs": []
    },
    {
      "cell_type": "code",
      "metadata": {
        "id": "WFRdDUjLAaiX",
        "colab_type": "code",
        "colab": {}
      },
      "source": [
        "# read data into dataframe\n",
        "# MOVIELENS_DIR = \"C:\\\\Users\\\\talshemt\\\\PycharmProjects\\\\HW_Recsys\\\\ml-100k\"\n",
        "MOVIELENS_DIR=''\n",
        "RATING_DATA_FILE = \"../u.data\"\n",
        "ratings = pd.read_csv(MOVIELENS_DIR+RATING_DATA_FILE, \n",
        "                    sep='\\t', \n",
        "                    engine='python', \n",
        "                    encoding='latin-1',\n",
        "                    names=['userid', 'movieid', 'rating', 'timestamp'])"
      ],
      "execution_count": 0,
      "outputs": []
    },
    {
      "cell_type": "code",
      "metadata": {
        "id": "lVzWTyHnAaiZ",
        "colab_type": "code",
        "outputId": "2ab9cdb5-dfd8-454b-a08f-0f0523256675",
        "colab": {
          "base_uri": "https://localhost:8080/",
          "height": 300
        }
      },
      "source": [
        "# get average rating for each movie and print histogram\n",
        "average_rating=ratings.filter(['movieid','rating']).groupby('movieid').mean()\n",
        "# sort by rating\n",
        "average_rating.sort_values('rating', inplace=True, ascending=False)\n",
        "fig = average_rating.hist(column=\"rating\")\n",
        "plt.title(\"Average Rating Histogram\")\n",
        "plt.xlabel(\"Rating\", fontsize=15)\n",
        "plt.ylabel(\"# Of Movies in Rating\", fontsize=15)\n",
        "plt.show(fig)"
      ],
      "execution_count": 32,
      "outputs": [
        {
          "output_type": "display_data",
          "data": {
            "image/png": "[encoded data removed]",
            "text/plain": [
              "<Figure size 432x288 with 1 Axes>"
            ]
          },
          "metadata": {
            "tags": []
          }
        }
      ]
    },
    {
      "cell_type": "code",
      "metadata": {
        "id": "RR-_jqfEAaid",
        "colab_type": "code",
        "outputId": "77d8c487-5b65-4c77-ab9b-4c98e126f46d",
        "colab": {
          "base_uri": "https://localhost:8080/",
          "height": 173
        }
      },
      "source": [
        "# print top 3 movies\n",
        "average_rating.head(3)"
      ],
      "execution_count": 33,
      "outputs": [
        {
          "output_type": "execute_result",
          "data": {
            "text/html": [
              "<div>\n",
              "<style scoped>\n",
              "    .dataframe tbody tr th:only-of-type {\n",
              "        vertical-align: middle;\n",
              "    }\n",
              "\n",
              "    .dataframe tbody tr th {\n",
              "        vertical-align: top;\n",
              "    }\n",
              "\n",
              "    .dataframe thead th {\n",
              "        text-align: right;\n",
              "    }\n",
              "</style>\n",
              "<table border=\"1\" class=\"dataframe\">\n",
              "  <thead>\n",
              "    <tr style=\"text-align: right;\">\n",
              "      <th></th>\n",
              "      <th>rating</th>\n",
              "    </tr>\n",
              "    <tr>\n",
              "      <th>movieid</th>\n",
              "      <th></th>\n",
              "    </tr>\n",
              "  </thead>\n",
              "  <tbody>\n",
              "    <tr>\n",
              "      <th>814</th>\n",
              "      <td>5.0</td>\n",
              "    </tr>\n",
              "    <tr>\n",
              "      <th>1599</th>\n",
              "      <td>5.0</td>\n",
              "    </tr>\n",
              "    <tr>\n",
              "      <th>1201</th>\n",
              "      <td>5.0</td>\n",
              "    </tr>\n",
              "  </tbody>\n",
              "</table>\n",
              "</div>"
            ],
            "text/plain": [
              "         rating\n",
              "movieid        \n",
              "814         5.0\n",
              "1599        5.0\n",
              "1201        5.0"
            ]
          },
          "metadata": {
            "tags": []
          },
          "execution_count": 33
        }
      ]
    },
    {
      "cell_type": "markdown",
      "metadata": {
        "id": "RPN7Bs0kAaig",
        "colab_type": "text"
      },
      "source": [
        "**b - Gender Analysis**"
      ]
    },
    {
      "cell_type": "code",
      "metadata": {
        "id": "xq6BjcuQAaih",
        "colab_type": "code",
        "outputId": "37166cde-c5a4-4539-ed72-c0b862dc07c9",
        "colab": {
          "base_uri": "https://localhost:8080/",
          "height": 473
        }
      },
      "source": [
        "# add column gender to ratings\n",
        "USERS_DATA_FILE = \"../u.user\"\n",
        "users = pd.read_csv(MOVIELENS_DIR+USERS_DATA_FILE, \n",
        "                    sep='|', \n",
        "                    engine='python', \n",
        "                    encoding='latin-1',\n",
        "                    names=['userid', 'age' , 'gender' , 'occupation' , 'zip code'])\n",
        "merged_users_movies=pd.merge(ratings,users)\n",
        "\n",
        "#Male Analysis\n",
        "rating_male=merged_users_movies.loc[merged_users_movies['gender'] == 'M']\n",
        "average_rating_male = rating_male.filter(['movieid','rating']).groupby('movieid').mean()\n",
        "# sort by rating\n",
        "average_rating_male.sort_values('rating', inplace=True, ascending=False)\n",
        "fig = average_rating_male.hist(column=\"rating\")\n",
        "plt.title(\"Male Average Rating Histogram\")\n",
        "plt.xlabel(\"Rating\", fontsize=15)\n",
        "plt.ylabel(\"# Of Movies in Rating\", fontsize=15)\n",
        "plt.show(fig)\n",
        "print(\"Top 3 movies by males:\")\n",
        "average_rating_male.head(3)\n"
      ],
      "execution_count": 34,
      "outputs": [
        {
          "output_type": "display_data",
          "data": {
            "image/png": "[encoded data removed]",
            "text/plain": [
              "<Figure size 432x288 with 1 Axes>"
            ]
          },
          "metadata": {
            "tags": []
          }
        },
        {
          "output_type": "stream",
          "text": [
            "Top 3 movies by males:\n"
          ],
          "name": "stdout"
        },
        {
          "output_type": "execute_result",
          "data": {
            "text/html": [
              "<div>\n",
              "<style scoped>\n",
              "    .dataframe tbody tr th:only-of-type {\n",
              "        vertical-align: middle;\n",
              "    }\n",
              "\n",
              "    .dataframe tbody tr th {\n",
              "        vertical-align: top;\n",
              "    }\n",
              "\n",
              "    .dataframe thead th {\n",
              "        text-align: right;\n",
              "    }\n",
              "</style>\n",
              "<table border=\"1\" class=\"dataframe\">\n",
              "  <thead>\n",
              "    <tr style=\"text-align: right;\">\n",
              "      <th></th>\n",
              "      <th>rating</th>\n",
              "    </tr>\n",
              "    <tr>\n",
              "      <th>movieid</th>\n",
              "      <th></th>\n",
              "    </tr>\n",
              "  </thead>\n",
              "  <tbody>\n",
              "    <tr>\n",
              "      <th>1500</th>\n",
              "      <td>5.0</td>\n",
              "    </tr>\n",
              "    <tr>\n",
              "      <th>1201</th>\n",
              "      <td>5.0</td>\n",
              "    </tr>\n",
              "    <tr>\n",
              "      <th>1605</th>\n",
              "      <td>5.0</td>\n",
              "    </tr>\n",
              "  </tbody>\n",
              "</table>\n",
              "</div>"
            ],
            "text/plain": [
              "         rating\n",
              "movieid        \n",
              "1500        5.0\n",
              "1201        5.0\n",
              "1605        5.0"
            ]
          },
          "metadata": {
            "tags": []
          },
          "execution_count": 34
        }
      ]
    },
    {
      "cell_type": "code",
      "metadata": {
        "id": "YENrCY5FAaik",
        "colab_type": "code",
        "outputId": "8955b6b3-e53e-4ec1-df53-5166b50240b7",
        "colab": {
          "base_uri": "https://localhost:8080/",
          "height": 473
        }
      },
      "source": [
        "\n",
        "#Female Analysis\n",
        "rating_female=merged_users_movies.loc[merged_users_movies['gender'] == 'F']\n",
        "average_rating_female = rating_female.filter(['movieid','rating']).groupby('movieid').mean()\n",
        "# sort by rating\n",
        "average_rating_female.sort_values('rating', inplace=True, ascending=False)\n",
        "fig = average_rating_female.hist(column=\"rating\")\n",
        "plt.title(\"Female Average Rating Histogram\")\n",
        "plt.xlabel(\"Rating\", fontsize=15)\n",
        "plt.ylabel(\"# Of Movies in Rating\", fontsize=15)\n",
        "plt.show(fig)\n",
        "print(\"Top 3 movies by females:\")\n",
        "average_rating_female.head(3)"
      ],
      "execution_count": 35,
      "outputs": [
        {
          "output_type": "display_data",
          "data": {
            "image/png": "[encoded data removed]",
            "text/plain": [
              "<Figure size 432x288 with 1 Axes>"
            ]
          },
          "metadata": {
            "tags": []
          }
        },
        {
          "output_type": "stream",
          "text": [
            "Top 3 movies by females:\n"
          ],
          "name": "stdout"
        },
        {
          "output_type": "execute_result",
          "data": {
            "text/html": [
              "<div>\n",
              "<style scoped>\n",
              "    .dataframe tbody tr th:only-of-type {\n",
              "        vertical-align: middle;\n",
              "    }\n",
              "\n",
              "    .dataframe tbody tr th {\n",
              "        vertical-align: top;\n",
              "    }\n",
              "\n",
              "    .dataframe thead th {\n",
              "        text-align: right;\n",
              "    }\n",
              "</style>\n",
              "<table border=\"1\" class=\"dataframe\">\n",
              "  <thead>\n",
              "    <tr style=\"text-align: right;\">\n",
              "      <th></th>\n",
              "      <th>rating</th>\n",
              "    </tr>\n",
              "    <tr>\n",
              "      <th>movieid</th>\n",
              "      <th></th>\n",
              "    </tr>\n",
              "  </thead>\n",
              "  <tbody>\n",
              "    <tr>\n",
              "      <th>1368</th>\n",
              "      <td>5.0</td>\n",
              "    </tr>\n",
              "    <tr>\n",
              "      <th>1451</th>\n",
              "      <td>5.0</td>\n",
              "    </tr>\n",
              "    <tr>\n",
              "      <th>1594</th>\n",
              "      <td>5.0</td>\n",
              "    </tr>\n",
              "  </tbody>\n",
              "</table>\n",
              "</div>"
            ],
            "text/plain": [
              "         rating\n",
              "movieid        \n",
              "1368        5.0\n",
              "1451        5.0\n",
              "1594        5.0"
            ]
          },
          "metadata": {
            "tags": []
          },
          "execution_count": 35
        }
      ]
    },
    {
      "cell_type": "code",
      "metadata": {
        "id": "3X8D3QaOAain",
        "colab_type": "code",
        "outputId": "eee12aa7-b642-4901-e6bd-f341bd0a55f2",
        "colab": {
          "base_uri": "https://localhost:8080/",
          "height": 255
        }
      },
      "source": [
        "# get average difference between genders\n",
        "average_rating_male.rename(columns = {'rating':'male_rating'}, inplace = True)\n",
        "average_rating_female.rename(columns = {'rating':'female_rating'}, inplace = True)\n",
        "merged_users_averages=pd.merge(average_rating_male,average_rating_female,left_index=True,right_index=True,how='outer')\n",
        "# remove NAN\n",
        "merged_users_averages=merged_users_averages[np.isfinite(merged_users_averages['female_rating'])]\n",
        "merged_users_averages=merged_users_averages[np.isfinite(merged_users_averages['male_rating'])]\n",
        "# get difference\n",
        "difference_between_genders=merged_users_averages.apply(lambda row: (abs(row['male_rating']-row['female_rating'])), axis=1)\n",
        "difference_between_genders_df = pd.DataFrame({'movieid':difference_between_genders.index, 'difference':difference_between_genders.values})\n",
        "# get average difference between genders\n",
        "print('Average of differences between male and female ratings: ')\n",
        "print(difference_between_genders_df['difference'].mean())\n",
        "\n",
        "# get top 5 movies with largest difference\n",
        "    #sort ascending:\n",
        "difference_between_genders_df.sort_values('difference', inplace=True, ascending=False)\n",
        "    #print top 5\n",
        "print('Top 5 movies with the greatest difference in ratings between genders: ')\n",
        "difference_between_genders_df.head(5)"
      ],
      "execution_count": 36,
      "outputs": [
        {
          "output_type": "stream",
          "text": [
            "Average of differences between male and female ratings: \n",
            "0.508856945912609\n",
            "Top 5 movies with the greatest difference in ratings between genders: \n"
          ],
          "name": "stdout"
        },
        {
          "output_type": "execute_result",
          "data": {
            "text/html": [
              "<div>\n",
              "<style scoped>\n",
              "    .dataframe tbody tr th:only-of-type {\n",
              "        vertical-align: middle;\n",
              "    }\n",
              "\n",
              "    .dataframe tbody tr th {\n",
              "        vertical-align: top;\n",
              "    }\n",
              "\n",
              "    .dataframe thead th {\n",
              "        text-align: right;\n",
              "    }\n",
              "</style>\n",
              "<table border=\"1\" class=\"dataframe\">\n",
              "  <thead>\n",
              "    <tr style=\"text-align: right;\">\n",
              "      <th></th>\n",
              "      <th>movieid</th>\n",
              "      <th>difference</th>\n",
              "    </tr>\n",
              "  </thead>\n",
              "  <tbody>\n",
              "    <tr>\n",
              "      <th>1271</th>\n",
              "      <td>1306</td>\n",
              "      <td>4.000000</td>\n",
              "    </tr>\n",
              "    <tr>\n",
              "      <th>839</th>\n",
              "      <td>851</td>\n",
              "      <td>3.666667</td>\n",
              "    </tr>\n",
              "    <tr>\n",
              "      <th>1352</th>\n",
              "      <td>1429</td>\n",
              "      <td>3.500000</td>\n",
              "    </tr>\n",
              "    <tr>\n",
              "      <th>636</th>\n",
              "      <td>641</td>\n",
              "      <td>3.419355</td>\n",
              "    </tr>\n",
              "    <tr>\n",
              "      <th>1432</th>\n",
              "      <td>1592</td>\n",
              "      <td>3.250000</td>\n",
              "    </tr>\n",
              "  </tbody>\n",
              "</table>\n",
              "</div>"
            ],
            "text/plain": [
              "      movieid  difference\n",
              "1271     1306    4.000000\n",
              "839       851    3.666667\n",
              "1352     1429    3.500000\n",
              "636       641    3.419355\n",
              "1432     1592    3.250000"
            ]
          },
          "metadata": {
            "tags": []
          },
          "execution_count": 36
        }
      ]
    },
    {
      "cell_type": "markdown",
      "metadata": {
        "id": "Va7a_UigAaip",
        "colab_type": "text"
      },
      "source": [
        "**c - Genre Analysis**"
      ]
    },
    {
      "cell_type": "code",
      "metadata": {
        "id": "HhMdm_UbAaiq",
        "colab_type": "code",
        "outputId": "d8cae08f-ee71-4de9-a3bd-eed1082bd9d6",
        "colab": {
          "base_uri": "https://localhost:8080/",
          "height": 965
        }
      },
      "source": [
        "# add column genre to ratings\n",
        "# read movie info with genre data\n",
        "USERS_DATA_FILE = \"../u.item\"\n",
        "genre = pd.read_csv(MOVIELENS_DIR+USERS_DATA_FILE, \n",
        "                    sep='|', \n",
        "                    engine='python', \n",
        "                    encoding='latin-1',\n",
        "                    names=['movieid', 'movie title', 'release date', 'video release date',\n",
        "              'IMDb URL',  'unknown',  'Action',  'Adventure',  'Animation',\n",
        "              'Children\\'s', 'Comedy',  'Crime', 'Documentary', 'Drama',  'Fantasy', 'Film-Noir','Horror','Musical', 'Mystery', 'Romance', 'Sci-Fi',\n",
        "              'Thriller', 'War', 'Western'])\n",
        "\n",
        "# merge movie info with movie ratings and user data and sort by rating\n",
        "merged_average_rating_genre=pd.merge(average_rating,genre, left_index=True,right_on='movieid', how='outer')\n",
        "\n",
        "# Analyze genre distribution for high rated movies (rating bigger than 4):\n",
        "high_rated_indexes = merged_average_rating_genre['rating']>4.0\n",
        "high_rated = merged_average_rating_genre[high_rated_indexes]\n",
        "\n",
        "# Count high-rated movies per genre\n",
        "genres = ['unknown','Action','Adventure','Animation','Children\\'s','Comedy','Crime','Documentary','Drama','Fantasy','Film-Noir','Horror',\n",
        "'Musical','Mystery','Romance','Sci-Fi','Thriller','War','Western']\n",
        "genres_count = {}\n",
        "for g in genres:\n",
        "    count = 0\n",
        "    genre_movies = high_rated[g] == 1\n",
        "    genres_count[g] = high_rated[genre_movies].shape[0]\n",
        "genres_count_list = sorted(genres_count.items(), key=operator.itemgetter(1),reverse=True)\n",
        "\n",
        "#Display genre count distribution for highly rated movies:\n",
        "fig = plt.figure(1, figsize=(18,13))\n",
        "ax2 = fig.add_subplot(2,1,2)\n",
        "y_axis = [genre[1] for genre in genres_count_list]\n",
        "x_axis = [i for i in range(len(genres_count))]\n",
        "x_label = [genre[0] for genre in genres_count_list]\n",
        "plt.xticks(rotation=85, fontsize = 15)\n",
        "plt.yticks(fontsize = 15)\n",
        "plt.xticks(x_axis, x_label)\n",
        "plt.ylabel(\"No. of occurences\", fontsize = 24, labelpad = 0)\n",
        "ax2.bar(x_axis, y_axis, align = 'center', color='r')\n",
        "plt.title(\"Popularity of Genres in Highly Rated Movies\",bbox={'facecolor':'k', 'pad':5},color='w',fontsize = 30)\n",
        "plt.show()\n",
        "\n",
        "\n",
        "# Analyze genre distribution for low rated movies (rating below 2):\n",
        "low_rated_indexes = merged_average_rating_genre['rating']<2.0\n",
        "low_rated = merged_average_rating_genre[low_rated_indexes]\n",
        "\n",
        "# Count high-rated movies per genre\n",
        "genres_count = {}\n",
        "for g in genres:\n",
        "    count = 0\n",
        "    genre_movies = low_rated[g] == 1\n",
        "    genres_count[g] = low_rated[genre_movies].shape[0]\n",
        "genres_count_list = sorted(genres_count.items(), key=operator.itemgetter(1),reverse=True)\n",
        "\n",
        "#Display genre count distribution for highly rated movies:\n",
        "fig = plt.figure(1, figsize=(18,13))\n",
        "ax2 = fig.add_subplot(2,1,2)\n",
        "y_axis = [genre[1] for genre in genres_count_list]\n",
        "x_axis = [i for i in range(len(genres_count))]\n",
        "x_label = [genre[0] for genre in genres_count_list]\n",
        "plt.xticks(rotation=85, fontsize = 15)\n",
        "plt.yticks(fontsize = 15)\n",
        "plt.xticks(x_axis, x_label)\n",
        "plt.ylabel(\"No. of occurences\", fontsize = 24, labelpad = 0)\n",
        "ax2.bar(x_axis, y_axis, align = 'center', color='r')\n",
        "plt.title(\"Popularity of Genres in Low Rated Movies\",bbox={'facecolor':'k', 'pad':5},color='w',fontsize = 30)\n",
        "plt.show()\n"
      ],
      "execution_count": 37,
      "outputs": [
        {
          "output_type": "display_data",
          "data": {
            "image/png": "[encoded data removed]",
            "text/plain": [
              "<Figure size 1296x936 with 1 Axes>"
            ]
          },
          "metadata": {
            "tags": []
          }
        },
        {
          "output_type": "display_data",
          "data": {
            "image/png": "[encoded data removed]",
            "text/plain": [
              "<Figure size 1296x936 with 1 Axes>"
            ]
          },
          "metadata": {
            "tags": []
          }
        }
      ]
    },
    {
      "cell_type": "markdown",
      "metadata": {
        "id": "WxYPD1FzAait",
        "colab_type": "text"
      },
      "source": [
        "Genre Distribution Analysis for Demographic Details"
      ]
    },
    {
      "cell_type": "markdown",
      "metadata": {
        "id": "1xQGGNqmEtyL",
        "colab_type": "text"
      },
      "source": [
        "Gender Based"
      ]
    },
    {
      "cell_type": "code",
      "metadata": {
        "id": "nDcFpgGKAaiu",
        "colab_type": "code",
        "outputId": "0173527a-b9cb-4d4f-8b20-7773b68464c6",
        "colab": {
          "base_uri": "https://localhost:8080/",
          "height": 1913
        }
      },
      "source": [
        "#Female + Low Rating\n",
        "female_average_rating_genre=pd.merge(average_rating_female,genre, left_index=True,right_on='movieid', how='inner')\n",
        "\n",
        "# Analyze genre distribution for low rated movies (rating below 2):\n",
        "low_rated_indexes = female_average_rating_genre['female_rating']<2.0\n",
        "low_rated = female_average_rating_genre[low_rated_indexes]\n",
        "\n",
        "# Count high-rated movies per genre\n",
        "genres_count = {}\n",
        "for g in genres:\n",
        "    count = 0\n",
        "    genre_movies = low_rated[g] == 1\n",
        "    genres_count[g] = low_rated[genre_movies].shape[0]\n",
        "genres_count_list = sorted(genres_count.items(), key=operator.itemgetter(1),reverse=True)\n",
        "\n",
        "#Display genre count distribution for highly rated movies:\n",
        "fig1 = plt.figure(1, figsize=(18,13))\n",
        "ax2 = fig1.add_subplot(2,1,2)\n",
        "y_axis = [genre[1] for genre in genres_count_list]\n",
        "x_axis = [i for i in range(len(genres_count))]\n",
        "x_label = [genre[0] for genre in genres_count_list]\n",
        "plt.xticks(rotation=85, fontsize = 15)\n",
        "plt.yticks(fontsize = 15)\n",
        "plt.xticks(x_axis, x_label)\n",
        "plt.ylabel(\"No. of occurences\", fontsize = 24, labelpad = 0)\n",
        "ax2.bar(x_axis, y_axis, align = 'center', color='r')\n",
        "plt.title(\"Popularity of Genres in Low Rated Movies By Females\",bbox={'facecolor':'k', 'pad':5},color='w',fontsize = 30)\n",
        "plt.show()\n",
        "\n",
        "#Male + Low Rating\n",
        "male_average_rating_genre=pd.merge(average_rating_male,genre, left_index=True,right_on='movieid', how='inner')\n",
        "\n",
        "# Analyze genre distribution for low rated movies (rating below 2):\n",
        "low_rated_indexes = male_average_rating_genre['male_rating']<2.0\n",
        "low_rated = male_average_rating_genre[low_rated_indexes]\n",
        "\n",
        "# Count high-rated movies per genre\n",
        "genres_count = {}\n",
        "for g in genres:\n",
        "    count = 0\n",
        "    genre_movies = low_rated[g] == 1\n",
        "    genres_count[g] = low_rated[genre_movies].shape[0]\n",
        "genres_count_list = sorted(genres_count.items(), key=operator.itemgetter(1),reverse=True)\n",
        "\n",
        "#Display genre count distribution for highly rated movies:\n",
        "fig2 = plt.figure(1, figsize=(18,13))\n",
        "ax2 = fig2.add_subplot(2,1,2)\n",
        "y_axis = [genre[1] for genre in genres_count_list]\n",
        "x_axis = [i for i in range(len(genres_count))]\n",
        "x_label = [genre[0] for genre in genres_count_list]\n",
        "plt.xticks(rotation=85, fontsize = 15)\n",
        "plt.yticks(fontsize = 15)\n",
        "plt.xticks(x_axis, x_label)\n",
        "plt.ylabel(\"No. of occurences\", fontsize = 24, labelpad = 0)\n",
        "ax2.bar(x_axis, y_axis, align = 'center', color='r')\n",
        "plt.title(\"Popularity of Genres in Low Rated Movies By Males\",bbox={'facecolor':'k', 'pad':5},color='w',fontsize = 30)\n",
        "plt.show()\n",
        "\n",
        "#Female + High Rating\n",
        "female_average_rating_genre=pd.merge(average_rating_female,genre, left_index=True,right_on='movieid', how='inner')\n",
        "\n",
        "# Analyze genre distribution for low rated movies (rating above 4):\n",
        "low_rated_indexes = female_average_rating_genre['female_rating']>4.0\n",
        "low_rated = female_average_rating_genre[low_rated_indexes]\n",
        "\n",
        "# Count high-rated movies per genre\n",
        "genres_count = {}\n",
        "for g in genres:\n",
        "    count = 0\n",
        "    genre_movies = low_rated[g] == 1\n",
        "    genres_count[g] = low_rated[genre_movies].shape[0]\n",
        "genres_count_list = sorted(genres_count.items(), key=operator.itemgetter(1),reverse=True)\n",
        "\n",
        "#Display genre count distribution for highly rated movies:\n",
        "fig1 = plt.figure(1, figsize=(18,13))\n",
        "ax2 = fig1.add_subplot(2,1,2)\n",
        "y_axis = [genre[1] for genre in genres_count_list]\n",
        "x_axis = [i for i in range(len(genres_count))]\n",
        "x_label = [genre[0] for genre in genres_count_list]\n",
        "plt.xticks(rotation=85, fontsize = 15)\n",
        "plt.yticks(fontsize = 15)\n",
        "plt.xticks(x_axis, x_label)\n",
        "plt.ylabel(\"No. of occurences\", fontsize = 24, labelpad = 0)\n",
        "ax2.bar(x_axis, y_axis, align = 'center', color='r')\n",
        "plt.title(\"Popularity of Genres in High Rated Movies By Females\",bbox={'facecolor':'k', 'pad':5},color='w',fontsize = 30)\n",
        "plt.show()\n",
        "\n",
        "#Male + High Rating\n",
        "male_average_rating_genre=pd.merge(average_rating_male,genre, left_index=True,right_on='movieid', how='inner')\n",
        "\n",
        "# Analyze genre distribution for low rated movies (rating above 4):\n",
        "low_rated_indexes = male_average_rating_genre['male_rating']>4.0\n",
        "low_rated = male_average_rating_genre[low_rated_indexes]\n",
        "\n",
        "# Count high-rated movies per genre\n",
        "genres_count = {}\n",
        "for g in genres:\n",
        "    count = 0\n",
        "    genre_movies = low_rated[g] == 1\n",
        "    genres_count[g] = low_rated[genre_movies].shape[0]\n",
        "genres_count_list = sorted(genres_count.items(), key=operator.itemgetter(1),reverse=True)\n",
        "\n",
        "#Display genre count distribution for highly rated movies:\n",
        "fig2 = plt.figure(1, figsize=(18,13))\n",
        "ax2 = fig2.add_subplot(2,1,2)\n",
        "y_axis = [genre[1] for genre in genres_count_list]\n",
        "x_axis = [i for i in range(len(genres_count))]\n",
        "x_label = [genre[0] for genre in genres_count_list]\n",
        "plt.xticks(rotation=85, fontsize = 15)\n",
        "plt.yticks(fontsize = 15)\n",
        "plt.xticks(x_axis, x_label)\n",
        "plt.ylabel(\"No. of occurences\", fontsize = 24, labelpad = 0)\n",
        "ax2.bar(x_axis, y_axis, align = 'center', color='r')\n",
        "plt.title(\"Popularity of Genres in High Rated Movies By Males\",bbox={'facecolor':'k', 'pad':5},color='w',fontsize = 30)\n",
        "plt.show()"
      ],
      "execution_count": 38,
      "outputs": [
        {
          "output_type": "display_data",
          "data": {
            "image/png": "[encoded data removed]",
            "text/plain": [
              "<Figure size 1296x936 with 1 Axes>"
            ]
          },
          "metadata": {
            "tags": []
          }
        },
        {
          "output_type": "display_data",
          "data": {
            "image/png": "[encoded data removed]",
            "text/plain": [
              "<Figure size 1296x936 with 1 Axes>"
            ]
          },
          "metadata": {
            "tags": []
          }
        },
        {
          "output_type": "display_data",
          "data": {
            "image/png": "[encoded data removed]",
            "text/plain": [
              "<Figure size 1296x936 with 1 Axes>"
            ]
          },
          "metadata": {
            "tags": []
          }
        },
        {
          "output_type": "display_data",
          "data": {
            "image/png": "[encoded data removed]",
            "text/plain": [
              "<Figure size 1296x936 with 1 Axes>"
            ]
          },
          "metadata": {
            "tags": []
          }
        }
      ]
    },
    {
      "cell_type": "markdown",
      "metadata": {
        "id": "QD80ehLTGfMp",
        "colab_type": "text"
      },
      "source": [
        "Conclusions:\n",
        "\n",
        "\n",
        "*   We can see that the top two genres are: Drama and Comedy for both genders (but more females liked Comedy than men)\n",
        "*   Some of the genre are similar between the genders but some have differences. For example: Musical is rated as the 7th most popular genre for females, whereas for man it the 14th most popular genre.\n",
        "* In addition - we can see from the \"Low Rated\" histograms that the most seen genres are similar to those with high rating in both genders, meaning that they are the most viewed genre in general.\n",
        "\n"
      ]
    },
    {
      "cell_type": "markdown",
      "metadata": {
        "collapsed": true,
        "id": "tUJrCfvmAaiy",
        "colab_type": "text"
      },
      "source": [
        "**d - Most popular movies.**\n",
        "\n",
        "The popularity will be calculated by:\n",
        "1. We will find the movies that their number of ratings is above the average.\n",
        "2. From the movies we found we will find the top 20 movies that have the highest average rating."
      ]
    },
    {
      "cell_type": "code",
      "metadata": {
        "id": "3jgO_dLYAaiz",
        "colab_type": "code",
        "outputId": "5eea3178-2694-4ebd-e87a-7354d6347e9d",
        "colab": {
          "base_uri": "https://localhost:8080/",
          "height": 771
        }
      },
      "source": [
        "# Count ratings per movie\n",
        "count_rating_per_movie = ratings['movieid'].value_counts()\n",
        "count_rating_per_movie_df = pd.DataFrame({'movieid':count_rating_per_movie.index, 'frequency':count_rating_per_movie.values})\n",
        "\n",
        "#Merge with average rating:\n",
        "count_with_rating = pd.merge(average_rating, count_rating_per_movie_df, left_index=True, right_on='movieid', how='inner')\n",
        "\n",
        "#Get average frequency\n",
        "avg_freq = count_with_rating['frequency'].mean()\n",
        "\n",
        "#Get movies with frequency over average frequency\n",
        "high_freq_indexes = count_with_rating['frequency']>avg_freq\n",
        "high_freq = count_with_rating[high_freq_indexes]\n",
        "\n",
        "#Get movies with highest rating within movies with high rating frequency\n",
        "high_freq.sort_values('rating', inplace=True, ascending=False)\n",
        "\n",
        "#Get top 20\n",
        "print('Top 20 most popular movies:')\n",
        "high_freq.head(20)"
      ],
      "execution_count": 39,
      "outputs": [
        {
          "output_type": "stream",
          "text": [
            "Top 20 most popular movies:\n"
          ],
          "name": "stdout"
        },
        {
          "output_type": "stream",
          "text": [
            "/usr/local/lib/python3.6/dist-packages/ipykernel_launcher.py:15: SettingWithCopyWarning: \n",
            "A value is trying to be set on a copy of a slice from a DataFrame\n",
            "\n",
            "See the caveats in the documentation: http://pandas.pydata.org/pandas-docs/stable/indexing.html#indexing-view-versus-copy\n",
            "  from ipykernel import kernelapp as app\n"
          ],
          "name": "stderr"
        },
        {
          "output_type": "execute_result",
          "data": {
            "text/html": [
              "<div>\n",
              "<style scoped>\n",
              "    .dataframe tbody tr th:only-of-type {\n",
              "        vertical-align: middle;\n",
              "    }\n",
              "\n",
              "    .dataframe tbody tr th {\n",
              "        vertical-align: top;\n",
              "    }\n",
              "\n",
              "    .dataframe thead th {\n",
              "        text-align: right;\n",
              "    }\n",
              "</style>\n",
              "<table border=\"1\" class=\"dataframe\">\n",
              "  <thead>\n",
              "    <tr style=\"text-align: right;\">\n",
              "      <th></th>\n",
              "      <th>rating</th>\n",
              "      <th>movieid</th>\n",
              "      <th>frequency</th>\n",
              "    </tr>\n",
              "  </thead>\n",
              "  <tbody>\n",
              "    <tr>\n",
              "      <th>305</th>\n",
              "      <td>4.491071</td>\n",
              "      <td>408</td>\n",
              "      <td>112</td>\n",
              "    </tr>\n",
              "    <tr>\n",
              "      <th>34</th>\n",
              "      <td>4.466443</td>\n",
              "      <td>318</td>\n",
              "      <td>298</td>\n",
              "    </tr>\n",
              "    <tr>\n",
              "      <th>286</th>\n",
              "      <td>4.466102</td>\n",
              "      <td>169</td>\n",
              "      <td>118</td>\n",
              "    </tr>\n",
              "    <tr>\n",
              "      <th>74</th>\n",
              "      <td>4.456790</td>\n",
              "      <td>483</td>\n",
              "      <td>243</td>\n",
              "    </tr>\n",
              "    <tr>\n",
              "      <th>483</th>\n",
              "      <td>4.447761</td>\n",
              "      <td>114</td>\n",
              "      <td>67</td>\n",
              "    </tr>\n",
              "    <tr>\n",
              "      <th>46</th>\n",
              "      <td>4.445230</td>\n",
              "      <td>64</td>\n",
              "      <td>283</td>\n",
              "    </tr>\n",
              "    <tr>\n",
              "      <th>106</th>\n",
              "      <td>4.387560</td>\n",
              "      <td>603</td>\n",
              "      <td>209</td>\n",
              "    </tr>\n",
              "    <tr>\n",
              "      <th>55</th>\n",
              "      <td>4.385768</td>\n",
              "      <td>12</td>\n",
              "      <td>267</td>\n",
              "    </tr>\n",
              "    <tr>\n",
              "      <th>0</th>\n",
              "      <td>4.358491</td>\n",
              "      <td>50</td>\n",
              "      <td>583</td>\n",
              "    </tr>\n",
              "    <tr>\n",
              "      <th>263</th>\n",
              "      <td>4.344000</td>\n",
              "      <td>178</td>\n",
              "      <td>125</td>\n",
              "    </tr>\n",
              "    <tr>\n",
              "      <th>453</th>\n",
              "      <td>4.333333</td>\n",
              "      <td>513</td>\n",
              "      <td>72</td>\n",
              "    </tr>\n",
              "    <tr>\n",
              "      <th>119</th>\n",
              "      <td>4.292929</td>\n",
              "      <td>134</td>\n",
              "      <td>198</td>\n",
              "    </tr>\n",
              "    <tr>\n",
              "      <th>98</th>\n",
              "      <td>4.292237</td>\n",
              "      <td>427</td>\n",
              "      <td>219</td>\n",
              "    </tr>\n",
              "    <tr>\n",
              "      <th>56</th>\n",
              "      <td>4.291667</td>\n",
              "      <td>357</td>\n",
              "      <td>264</td>\n",
              "    </tr>\n",
              "    <tr>\n",
              "      <th>14</th>\n",
              "      <td>4.289744</td>\n",
              "      <td>98</td>\n",
              "      <td>390</td>\n",
              "    </tr>\n",
              "    <tr>\n",
              "      <th>141</th>\n",
              "      <td>4.284916</td>\n",
              "      <td>480</td>\n",
              "      <td>179</td>\n",
              "    </tr>\n",
              "    <tr>\n",
              "      <th>11</th>\n",
              "      <td>4.283293</td>\n",
              "      <td>127</td>\n",
              "      <td>413</td>\n",
              "    </tr>\n",
              "    <tr>\n",
              "      <th>178</th>\n",
              "      <td>4.265432</td>\n",
              "      <td>285</td>\n",
              "      <td>162</td>\n",
              "    </tr>\n",
              "    <tr>\n",
              "      <th>120</th>\n",
              "      <td>4.262626</td>\n",
              "      <td>272</td>\n",
              "      <td>198</td>\n",
              "    </tr>\n",
              "    <tr>\n",
              "      <th>239</th>\n",
              "      <td>4.259542</td>\n",
              "      <td>657</td>\n",
              "      <td>131</td>\n",
              "    </tr>\n",
              "  </tbody>\n",
              "</table>\n",
              "</div>"
            ],
            "text/plain": [
              "       rating  movieid  frequency\n",
              "305  4.491071      408        112\n",
              "34   4.466443      318        298\n",
              "286  4.466102      169        118\n",
              "74   4.456790      483        243\n",
              "483  4.447761      114         67\n",
              "46   4.445230       64        283\n",
              "106  4.387560      603        209\n",
              "55   4.385768       12        267\n",
              "0    4.358491       50        583\n",
              "263  4.344000      178        125\n",
              "453  4.333333      513         72\n",
              "119  4.292929      134        198\n",
              "98   4.292237      427        219\n",
              "56   4.291667      357        264\n",
              "14   4.289744       98        390\n",
              "141  4.284916      480        179\n",
              "11   4.283293      127        413\n",
              "178  4.265432      285        162\n",
              "120  4.262626      272        198\n",
              "239  4.259542      657        131"
            ]
          },
          "metadata": {
            "tags": []
          },
          "execution_count": 39
        }
      ]
    },
    {
      "cell_type": "markdown",
      "metadata": {
        "id": "-H1AclMtAai2",
        "colab_type": "text"
      },
      "source": [
        "# 2 - Non-personal Recommendations\n",
        "\n"
      ]
    },
    {
      "cell_type": "markdown",
      "metadata": {
        "id": "ocyM3J3sAai2",
        "colab_type": "text"
      },
      "source": [
        "**a - Build and train a model based on linear regression**"
      ]
    },
    {
      "cell_type": "code",
      "metadata": {
        "id": "8cZhzmpQAai3",
        "colab_type": "code",
        "outputId": "3c6f697c-c11b-46c8-bfe9-c4bc1c570f61",
        "colab": {
          "base_uri": "https://localhost:8080/",
          "height": 68
        }
      },
      "source": [
        "#Read training data\n",
        "from sklearn import datasets, linear_model\n",
        "from sklearn.metrics import mean_absolute_error, r2_score\n",
        "RATING_TRAINING_FILE = \"../u1.base\"\n",
        "RATING_TEST_FILE = \"../u1.test\"\n",
        "ratings_training = pd.read_csv(MOVIELENS_DIR+RATING_TRAINING_FILE, \n",
        "                    sep='\\t', \n",
        "                    engine='python', \n",
        "                    encoding='latin-1',\n",
        "                    names=['userid', 'movieid', 'rating', 'timestamp'])\n",
        "ratings_test = pd.read_csv(MOVIELENS_DIR+RATING_TEST_FILE, \n",
        "                    sep='\\t', \n",
        "                    engine='python', \n",
        "                    encoding='latin-1',\n",
        "                    names=['userid', 'movieid', 'rating', 'timestamp'])\n",
        "\n",
        "avg_ratings_training = ratings_training.filter(['movieid','rating']).groupby('movieid').mean()\n",
        "training = pd.merge(avg_ratings_training, genre, left_index=True, right_on='movieid', how='left')\n",
        "training_X = training[training.columns[6:]]\n",
        "training_Y = (training.rating).values\n",
        "\n",
        "#create and train the model\n",
        "regr = linear_model.LinearRegression()\n",
        "regr.fit(training_X, training_Y)\n",
        "\n",
        "#Evaluate the model with test set\n",
        "avg_ratings_test = ratings_test.filter(['movieid','rating']).groupby('movieid').mean()\n",
        "test = pd.merge(avg_ratings_test, genre, left_index=True, right_on='movieid', how='left')\n",
        "test_X = test[test.columns[6:]]\n",
        "test_Y = (test.rating).values\n",
        "test_pred = regr.predict(test_X)\n",
        "\n",
        "# MAE\n",
        "print('MAE: \\n')\n",
        "print(mean_absolute_error(test_Y, test_pred))"
      ],
      "execution_count": 53,
      "outputs": [
        {
          "output_type": "stream",
          "text": [
            "MAE: \n",
            "\n",
            "0.7026804223720173\n"
          ],
          "name": "stdout"
        }
      ]
    },
    {
      "cell_type": "markdown",
      "metadata": {
        "id": "nLooTLdAAai6",
        "colab_type": "text"
      },
      "source": [
        "**b - Recommend 20 new movies for each user**"
      ]
    },
    {
      "cell_type": "markdown",
      "metadata": {
        "id": "TeWN35llogfx",
        "colab_type": "text"
      },
      "source": [
        "Random"
      ]
    },
    {
      "cell_type": "code",
      "metadata": {
        "id": "h-1SKlNEAai7",
        "colab_type": "code",
        "outputId": "1633c2c0-36ff-47e2-b104-fe84426b8bd7",
        "colab": {
          "base_uri": "https://localhost:8080/",
          "height": 68
        }
      },
      "source": [
        "import random\n",
        "# Random\n",
        "users_train=ratings_training.userid.unique()\n",
        "total_intersection=0\n",
        "total_retrieved=0\n",
        "total_relevant=0\n",
        "# for each user, get random 20 movies he didnt watch\n",
        "for id in users_train:\n",
        "  user_movies=ratings_training.loc[ratings_training['userid']==id]\n",
        "  # get all movies user didnt watch\n",
        "  movies=list(set(ratings_training['movieid'].tolist()) -  set(user_movies['movieid'].tolist()))\n",
        "  rec_for_user= list()\n",
        "  while len(rec_for_user)<20:\n",
        "    rand=random.choice(movies)\n",
        "    # add to rec and remove from movies\n",
        "    rec_for_user.append(rand)\n",
        "    movies.remove(rand)\n",
        "  # get number of recoomended movies that the user watched on test\n",
        "  test_movies_for_user=ratings_test.loc[ratings_test['userid']==id]\n",
        " \n",
        "  intersection=test_movies_for_user[test_movies_for_user['movieid'].isin(rec_for_user)]\n",
        "  # calculate for precision and recall\n",
        "  total_intersection=total_intersection+len(intersection)\n",
        "  total_retrieved=total_retrieved+len(rec_for_user)\n",
        "  total_relevant=total_relevant+len(test_movies_for_user)\n",
        "  \n",
        "print('Random')\n",
        "print('Precision: ', total_intersection/total_retrieved)\n",
        "print('Recall: ', total_intersection/total_relevant)\n"
      ],
      "execution_count": 71,
      "outputs": [
        {
          "output_type": "stream",
          "text": [
            "Random\n",
            "Precision:  0.015376458112407211\n",
            "Recall:  0.0145\n"
          ],
          "name": "stdout"
        }
      ]
    },
    {
      "cell_type": "markdown",
      "metadata": {
        "id": "qQem-Junoie6",
        "colab_type": "text"
      },
      "source": [
        "Average"
      ]
    },
    {
      "cell_type": "code",
      "metadata": {
        "id": "1ShwDUVDorzD",
        "colab_type": "code",
        "outputId": "eb589f30-2667-4b72-e809-05b562de8b10",
        "colab": {
          "base_uri": "https://localhost:8080/",
          "height": 68
        }
      },
      "source": [
        "# Average\n",
        "users_train=ratings_training.userid.unique()\n",
        "total_intersection=0\n",
        "total_retrieved=0\n",
        "total_relevant=0\n",
        "# sort by prediction rate\n",
        "predicted=test.copy()\n",
        "predicted['rating']=test_pred\n",
        "predicted.sort_values(by='rating', inplace=True, ascending=False)\n",
        "# for each user, get random 20 movies he didnt watch\n",
        "for id in users_train:\n",
        "  user_movies=ratings_training.loc[ratings_training['userid']==id]\n",
        "  # get all movies user didnt watch\n",
        "  movies=list(set(predicted['movieid'].tolist()) -  set(user_movies['movieid'].tolist()))\n",
        "  rec_for_user= list()\n",
        "             \n",
        "  while len(rec_for_user)<20:\n",
        "    rec=movies[0]\n",
        "    # add to rec and remove from movies\n",
        "    rec_for_user.append(rec)\n",
        "    movies.remove(rec)\n",
        "  # get number of recoomended movies that the user watched on test\n",
        "  test_movies_for_user=ratings_test.loc[ratings_test['userid']==id]\n",
        " \n",
        "  intersection=test_movies_for_user[test_movies_for_user['movieid'].isin(rec_for_user)]\n",
        "  # calculate for precision and recall\n",
        "  total_intersection=total_intersection+len(intersection)\n",
        "  total_retrieved=total_retrieved+len(rec_for_user)\n",
        "  total_relevant=total_relevant+len(test_movies_for_user)\n",
        "\n",
        "print('By Average')\n",
        "print('Precision: ', total_intersection/total_retrieved)\n",
        "print('Recall: ', total_intersection/total_relevant)"
      ],
      "execution_count": 78,
      "outputs": [
        {
          "output_type": "stream",
          "text": [
            "By Average\n",
            "Precision:  0.045387062566277836\n",
            "Recall:  0.0428\n"
          ],
          "name": "stdout"
        }
      ]
    },
    {
      "cell_type": "markdown",
      "metadata": {
        "id": "Voyvg8RG0Cfb",
        "colab_type": "text"
      },
      "source": [
        "Both methods returned low precision and recall. However random recall and precision were lower.\n",
        "The results make sense, because people dont necessarily watch the highest rated movies, and we need to consider other parameters (information about the user and his tast)"
      ]
    },
    {
      "cell_type": "markdown",
      "metadata": {
        "id": "LvuksQqxJyHs",
        "colab_type": "text"
      },
      "source": [
        "**c - repeat a, b for different genders**"
      ]
    },
    {
      "cell_type": "markdown",
      "metadata": {
        "id": "WCszTfO5PYAG",
        "colab_type": "text"
      },
      "source": [
        "Linear regression prediction (a)"
      ]
    },
    {
      "cell_type": "code",
      "metadata": {
        "id": "0Me4cRrmJ370",
        "colab_type": "code",
        "outputId": "2af7593e-4b1f-4654-e741-ee1c6cf180f3",
        "colab": {
          "base_uri": "https://localhost:8080/",
          "height": 85
        }
      },
      "source": [
        "# get only female train and test\n",
        "ratings_training_f = pd.merge(ratings_training, rating_female, on=['movieid','userid', 'rating','timestamp'], how='right')\n",
        "ratings_test_f = pd.merge(ratings_test, rating_female, on=['movieid','userid', 'rating','timestamp'], how='right')\n",
        "\n",
        "avg_ratings_training_f = ratings_training_f.filter(['movieid','rating']).groupby('movieid').mean()\n",
        "training_f = pd.merge(avg_ratings_training_f, genre, left_index=True, right_on='movieid', how='left')\n",
        "training_X_f = training_f[training_f.columns[6:]]\n",
        "training_Y_f = (training_f.rating).values\n",
        "\n",
        "#create and train the model\n",
        "regr_f = linear_model.LinearRegression()\n",
        "regr_f.fit(training_X_f, training_Y_f)\n",
        "\n",
        "#Evaluate the model with test set\n",
        "avg_ratings_test_f = ratings_test_f.filter(['movieid','rating']).groupby('movieid').mean()\n",
        "test_f = pd.merge(avg_ratings_test_f, genre, left_index=True, right_on='movieid', how='left')\n",
        "test_X_f = test_f[test_f.columns[6:]]\n",
        "test_Y_f = (test_f.rating).values\n",
        "test_pred_f = regr_f.predict(test_X_f)\n",
        "\n",
        "# MAE\n",
        "print('Female based MAE:')\n",
        "print(mean_absolute_error(test_Y_f, test_pred_f))\n",
        "\n",
        "# get only male train and test\n",
        "ratings_training_m = pd.merge(ratings_training, rating_male, on=['movieid','userid', 'rating','timestamp'], how='right')\n",
        "ratings_test_m = pd.merge(ratings_test, rating_male, on=['movieid','userid', 'rating','timestamp'], how='right')\n",
        "\n",
        "avg_ratings_training_m = ratings_training_m.filter(['movieid','rating']).groupby('movieid').mean()\n",
        "training_m = pd.merge(avg_ratings_training_m, genre, left_index=True, right_on='movieid', how='left')\n",
        "training_X_m = training_m[training_m.columns[6:]]\n",
        "training_Y_m = (training_m.rating).values\n",
        "\n",
        "#create and train the model\n",
        "regr_m = linear_model.LinearRegression()\n",
        "regr_m.fit(training_X_m, training_Y_m)\n",
        "\n",
        "#Evaluate the model with test set\n",
        "avg_ratings_test_m = ratings_test_m.filter(['movieid','rating']).groupby('movieid').mean()\n",
        "test_m = pd.merge(avg_ratings_test_m, genre, left_index=True, right_on='movieid', how='left')\n",
        "test_X_m = test_m[test_m.columns[6:]]\n",
        "test_Y_m = (test_m.rating).values\n",
        "test_pred_m = regr_m.predict(test_X_m)\n",
        "\n",
        "# MAE\n",
        "print('Male based MAE:')\n",
        "print(mean_absolute_error(test_Y_m, test_pred_m))"
      ],
      "execution_count": 79,
      "outputs": [
        {
          "output_type": "stream",
          "text": [
            "Female based MAE:\n",
            "0.6337220191216182\n",
            "Male based MAE:\n",
            "0.583027167229386\n"
          ],
          "name": "stdout"
        }
      ]
    },
    {
      "cell_type": "markdown",
      "metadata": {
        "id": "Z3H2fOyL1AM8",
        "colab_type": "text"
      },
      "source": [
        "Recommend 20 new movies for each user (b)"
      ]
    },
    {
      "cell_type": "code",
      "metadata": {
        "id": "sAkecWS51ad7",
        "colab_type": "code",
        "colab": {
          "base_uri": "https://localhost:8080/",
          "height": 102
        },
        "outputId": "53b18fcf-556c-4cc8-9571-0692aa1d8bfc"
      },
      "source": [
        "import random\n",
        "# Random\n",
        "users_train=ratings_training.userid.unique()\n",
        "total_intersection_M=0\n",
        "total_retrieved_M=0\n",
        "total_relevant_M=0\n",
        "total_intersection_F=0\n",
        "total_retrieved_F=0\n",
        "total_relevant_F=0\n",
        "# for each user, get random 20 movies he didnt watch\n",
        "for id in users_train:\n",
        "  user_movies=ratings_training.loc[ratings_training['userid']==id]\n",
        "  # get all movies user didnt watch\n",
        "  movies=list(set(ratings_training['movieid'].tolist()) -  set(user_movies['movieid'].tolist()))\n",
        "  rec_for_user= list()\n",
        "  while len(rec_for_user)<20:\n",
        "    rand=random.choice(movies)\n",
        "    # add to rec and remove from movies\n",
        "    rec_for_user.append(rand)\n",
        "    movies.remove(rand)\n",
        "  # get number of recoomended movies that the user watched on test\n",
        "  test_movies_for_user=ratings_test.loc[ratings_test['userid']==id]\n",
        " \n",
        "  intersection=test_movies_for_user[test_movies_for_user['movieid'].isin(rec_for_user)]\n",
        "  # calculate for precision and recall for each gender\n",
        "  if(len(users.loc[(users['userid']==id) & (users['gender']=='F')])>0):\n",
        "    total_intersection_F=total_intersection_F+len(intersection)\n",
        "    total_retrieved_F=total_retrieved_F+len(rec_for_user)\n",
        "    total_relevant_F=total_relevant_F+len(test_movies_for_user)\n",
        "  else:\n",
        "    total_intersection_M=total_intersection_M+len(intersection)\n",
        "    total_retrieved_M=total_retrieved_M+len(rec_for_user)\n",
        "    total_relevant_M=total_relevant_M+len(test_movies_for_user)\n",
        "  \n",
        "print('Random')\n",
        "print('Precision Female: ', total_intersection_F/total_retrieved_F)\n",
        "print('Recall Female: ', total_intersection_F/total_relevant_F)\n",
        "\n",
        "print('Precision Male: ', total_intersection_M/total_retrieved_M)\n",
        "print('Recall Male: ', total_intersection_M/total_relevant_M)"
      ],
      "execution_count": 90,
      "outputs": [
        {
          "output_type": "stream",
          "text": [
            "Random\n",
            "Precision Female:  0.01391941391941392\n",
            "Recall Female:  0.015725222429133042\n",
            "Precision Male:  0.014701492537313433\n",
            "Recall Male:  0.012988725522515988\n"
          ],
          "name": "stdout"
        }
      ]
    },
    {
      "cell_type": "code",
      "metadata": {
        "id": "5l5S5N9s4Ohs",
        "colab_type": "code",
        "colab": {
          "base_uri": "https://localhost:8080/",
          "height": 102
        },
        "outputId": "b34635c3-c4ba-4f63-9ba2-84b5c19bc61d"
      },
      "source": [
        "# Average\n",
        "users_train=ratings_training.userid.unique()\n",
        "total_intersection_M=0\n",
        "total_retrieved_M=0\n",
        "total_relevant_M=0\n",
        "total_intersection_F=0\n",
        "total_retrieved_F=0\n",
        "total_relevant_F=0\n",
        "# sort by prediction rate\n",
        "predicted=test.copy()\n",
        "predicted['rating']=test_pred\n",
        "predicted.sort_values(by='rating', inplace=True, ascending=False)\n",
        "# for each user, get random 20 movies he didnt watch\n",
        "for id in users_train:\n",
        "  user_movies=ratings_training.loc[ratings_training['userid']==id]\n",
        "  # get all movies user didnt watch\n",
        "  movies=list(set(predicted['movieid'].tolist()) -  set(user_movies['movieid'].tolist()))\n",
        "  rec_for_user= list()\n",
        "             \n",
        "  while len(rec_for_user)<20:\n",
        "    rec=movies[0]\n",
        "    # add to rec and remove from movies\n",
        "    rec_for_user.append(rec)\n",
        "    movies.remove(rec)\n",
        "  # get number of recoomended movies that the user watched on test\n",
        "  test_movies_for_user=ratings_test.loc[ratings_test['userid']==id]\n",
        " \n",
        "  intersection=test_movies_for_user[test_movies_for_user['movieid'].isin(rec_for_user)]\n",
        "  # calculate for precision and recall for each gender\n",
        "  if(len(users.loc[(users['userid']==id) & (users['gender']=='F')])>0):\n",
        "    total_intersection_F=total_intersection_F+len(intersection)\n",
        "    total_retrieved_F=total_retrieved_F+len(rec_for_user)\n",
        "    total_relevant_F=total_relevant_F+len(test_movies_for_user)\n",
        "  else:\n",
        "    total_intersection_M=total_intersection_M+len(intersection)\n",
        "    total_retrieved_M=total_retrieved_M+len(rec_for_user)\n",
        "    total_relevant_M=total_relevant_M+len(test_movies_for_user)\n",
        "\n",
        "print('By Average')\n",
        "print('Precision Female: ', total_intersection_F/total_retrieved_F)\n",
        "print('Recall Female: ', total_intersection_F/total_relevant_F)\n",
        "\n",
        "print('Precision Male: ', total_intersection_M/total_retrieved_M)\n",
        "print('Recall Male: ', total_intersection_M/total_relevant_M)"
      ],
      "execution_count": 91,
      "outputs": [
        {
          "output_type": "stream",
          "text": [
            "By Average\n",
            "Precision Female:  0.037545787545787544\n",
            "Recall Female:  0.04241671839437203\n",
            "Precision Male:  0.048582089552238805\n",
            "Recall Male:  0.04292213357948177\n"
          ],
          "name": "stdout"
        }
      ]
    },
    {
      "cell_type": "markdown",
      "metadata": {
        "id": "jNZN4JmlOTWG",
        "colab_type": "text"
      },
      "source": [
        "Conclusion: As we can see the MAE for male is smaller than for females. This can be caused by the difference between the training set sizes (larger for males than for females) which can cause a less training model and overfitting.\n",
        "\n",
        "Precision and recall are very similar for both genders in both methods, and the results before the division by gender are also similar to those after division."
      ]
    },
    {
      "cell_type": "markdown",
      "metadata": {
        "id": "EdyymS9KAai-",
        "colab_type": "text"
      },
      "source": [
        "# 3 - Personal Recommendations"
      ]
    },
    {
      "cell_type": "markdown",
      "metadata": {
        "id": "Y2rRoHVGAai-",
        "colab_type": "text"
      },
      "source": [
        "**a - Build a model based on matrix factorization (item similarity and item content)**"
      ]
    },
    {
      "cell_type": "code",
      "metadata": {
        "id": "jFdf4DYfAai_",
        "colab_type": "code",
        "colab": {
          "base_uri": "https://localhost:8080/",
          "height": 663
        },
        "outputId": "47f57028-37c9-41e6-eb7a-5bac87e421b0"
      },
      "source": [
        "!pip install turicreate\n",
        "import turicreate as tc\n",
        "from datetime import datetime"
      ],
      "execution_count": 92,
      "outputs": [
        {
          "output_type": "stream",
          "text": [
            "Collecting turicreate\n",
            "\u001b[?25l  Downloading https://files.pythonhosted.org/packages/4e/21/b063169a13bb5098d98a1eba6a4a2a21680742f226ca3d5026ba41cf2268/turicreate-5.5-cp36-cp36m-manylinux1_x86_64.whl (85.9MB)\n",
            "\u001b[K     |████████████████████████████████| 85.9MB 1.2MB/s \n",
            "\u001b[?25hRequirement already satisfied: resampy==0.2.1 in /usr/local/lib/python3.6/dist-packages (from turicreate) (0.2.1)\n",
            "Collecting coremltools==2.1.0 (from turicreate)\n",
            "\u001b[?25l  Downloading https://files.pythonhosted.org/packages/b9/9d/7ec5a2480c6afce4fcb99de1650b7abfd1457b2ef1de5ce39bf7bee8a8ae/coremltools-2.1.0-cp36-none-manylinux1_x86_64.whl (2.7MB)\n",
            "\u001b[K     |████████████████████████████████| 2.7MB 34.9MB/s \n",
            "\u001b[?25hRequirement already satisfied: scipy>=0.14.0 in /usr/local/lib/python3.6/dist-packages (from turicreate) (1.2.1)\n",
            "Requirement already satisfied: six>=1.10.0 in /usr/local/lib/python3.6/dist-packages (from turicreate) (1.12.0)\n",
            "Collecting mxnet<1.2.0,>=1.1.0 (from turicreate)\n",
            "\u001b[?25l  Downloading https://files.pythonhosted.org/packages/96/98/c9877e100c3d1ac92263bfaba7bb8a49294e099046592040a2ff8620ac61/mxnet-1.1.0.post0-py2.py3-none-manylinux1_x86_64.whl (23.8MB)\n",
            "\u001b[K     |████████████████████████████████| 23.8MB 2.0MB/s \n",
            "\u001b[?25hRequirement already satisfied: prettytable==0.7.2 in /usr/local/lib/python3.6/dist-packages (from turicreate) (0.7.2)\n",
            "Requirement already satisfied: decorator>=4.0.9 in /usr/local/lib/python3.6/dist-packages (from turicreate) (4.4.0)\n",
            "Requirement already satisfied: pandas>=0.19.0 in /usr/local/lib/python3.6/dist-packages (from turicreate) (0.24.2)\n",
            "Requirement already satisfied: pillow>=3.3.0 in /usr/local/lib/python3.6/dist-packages (from turicreate) (4.3.0)\n",
            "Requirement already satisfied: requests>=2.9.1 in /usr/local/lib/python3.6/dist-packages (from turicreate) (2.21.0)\n",
            "Requirement already satisfied: numpy in /usr/local/lib/python3.6/dist-packages (from turicreate) (1.16.3)\n",
            "Requirement already satisfied: numba>=0.32 in /usr/local/lib/python3.6/dist-packages (from resampy==0.2.1->turicreate) (0.40.1)\n",
            "Requirement already satisfied: protobuf>=3.1.0 in /usr/local/lib/python3.6/dist-packages (from coremltools==2.1.0->turicreate) (3.7.1)\n",
            "Collecting graphviz<0.9.0,>=0.8.1 (from mxnet<1.2.0,>=1.1.0->turicreate)\n",
            "  Downloading https://files.pythonhosted.org/packages/53/39/4ab213673844e0c004bed8a0781a0721a3f6bb23eb8854ee75c236428892/graphviz-0.8.4-py2.py3-none-any.whl\n",
            "Requirement already satisfied: pytz>=2011k in /usr/local/lib/python3.6/dist-packages (from pandas>=0.19.0->turicreate) (2018.9)\n",
            "Requirement already satisfied: python-dateutil>=2.5.0 in /usr/local/lib/python3.6/dist-packages (from pandas>=0.19.0->turicreate) (2.5.3)\n",
            "Requirement already satisfied: olefile in /usr/local/lib/python3.6/dist-packages (from pillow>=3.3.0->turicreate) (0.46)\n",
            "Requirement already satisfied: certifi>=2017.4.17 in /usr/local/lib/python3.6/dist-packages (from requests>=2.9.1->turicreate) (2019.3.9)\n",
            "Requirement already satisfied: urllib3<1.25,>=1.21.1 in /usr/local/lib/python3.6/dist-packages (from requests>=2.9.1->turicreate) (1.24.3)\n",
            "Requirement already satisfied: idna<2.9,>=2.5 in /usr/local/lib/python3.6/dist-packages (from requests>=2.9.1->turicreate) (2.8)\n",
            "Requirement already satisfied: chardet<3.1.0,>=3.0.2 in /usr/local/lib/python3.6/dist-packages (from requests>=2.9.1->turicreate) (3.0.4)\n",
            "Requirement already satisfied: llvmlite>=0.25.0dev0 in /usr/local/lib/python3.6/dist-packages (from numba>=0.32->resampy==0.2.1->turicreate) (0.28.0)\n",
            "Requirement already satisfied: setuptools in /usr/local/lib/python3.6/dist-packages (from protobuf>=3.1.0->coremltools==2.1.0->turicreate) (41.0.1)\n",
            "\u001b[31mERROR: mxnet 1.1.0.post0 has requirement numpy<1.15.0,>=1.8.2, but you'll have numpy 1.16.3 which is incompatible.\u001b[0m\n",
            "\u001b[31mERROR: mxnet 1.1.0.post0 has requirement requests<2.19.0,>=2.18.4, but you'll have requests 2.21.0 which is incompatible.\u001b[0m\n",
            "Installing collected packages: coremltools, graphviz, mxnet, turicreate\n",
            "  Found existing installation: graphviz 0.10.1\n",
            "    Uninstalling graphviz-0.10.1:\n",
            "      Successfully uninstalled graphviz-0.10.1\n",
            "Successfully installed coremltools-2.1.0 graphviz-0.8.4 mxnet-1.1.0.post0 turicreate-5.5\n"
          ],
          "name": "stdout"
        }
      ]
    },
    {
      "cell_type": "markdown",
      "metadata": {
        "id": "uyqn_IebQcBf",
        "colab_type": "text"
      },
      "source": [
        "prepeare the data - remove rare movies"
      ]
    },
    {
      "cell_type": "code",
      "metadata": {
        "id": "zO1aqoZJAajD",
        "colab_type": "code",
        "outputId": "44eef106-c278-494c-8174-aedf2ffff88b",
        "colab": {
          "base_uri": "https://localhost:8080/",
          "height": 391
        }
      },
      "source": [
        "# remove rare movies\n",
        "rare_items = (tc.SFrame(ratings)).groupby('movieid', tc.aggregate.COUNT()).sort('Count')\n",
        "rare_items = rare_items[rare_items['Count'] <= 5]\n",
        "\n",
        "sframe_train = tc.SFrame.read_csv(\"../u1.base\",sep='\\t',header=False)\n",
        "sframe_train = sframe_train.rename({'X1': 'userid','X2':'movieid','X3':'rating','X4':'timestamp'})\n",
        "\n",
        "train_non_rare=sframe_train.filter_by(rare_items['movieid'], 'movieid', exclude=True)\n",
        "train_non_rare['timestamp'] = train_non_rare['timestamp'].astype(datetime)\n",
        "\n",
        "sframe_test = tc.SFrame.read_csv(\"../u1.test\",sep='\\t',header=False)\n",
        "sframe_test = sframe_test.rename({'X1': 'userid','X2':'movieid','X3':'rating','X4':'timestamp'})\n",
        "test_non_rare=sframe_test.filter_by(rare_items['movieid'], 'movieid', exclude=True)\n",
        "test_non_rare['timestamp'] = test_non_rare['timestamp'].astype(datetime)\n",
        "\n",
        "# get movies name, year and genres\n",
        "genre_temp=genre.drop(columns=['release date','video release date','IMDb URL'])\n",
        "sframe_genre=tc.SFrame(genre_temp)\n",
        "train_non_rare=train_non_rare.join(sframe_genre,how='left')\n",
        "train_non_rare['year'] = train_non_rare['movie title'].apply(lambda x: x[-5:-1])\n",
        "train_non_rare['movie title'] = train_non_rare['movie title'].apply(lambda x: x[:-7])\n",
        "test_non_rare=test_non_rare.join(sframe_genre,how='left')\n",
        "test_non_rare['year'] = test_non_rare['movie title'].apply(lambda x: x[-5:-1])\n",
        "test_non_rare['movie title'] = test_non_rare['movie title'].apply(lambda x: x[:-7])"
      ],
      "execution_count": 93,
      "outputs": [
        {
          "output_type": "display_data",
          "data": {
            "text/html": [
              "<pre>Finished parsing file /u1.base</pre>"
            ],
            "text/plain": [
              "Finished parsing file /u1.base"
            ]
          },
          "metadata": {
            "tags": []
          }
        },
        {
          "output_type": "display_data",
          "data": {
            "text/html": [
              "<pre>Parsing completed. Parsed 100 lines in 0.080302 secs.</pre>"
            ],
            "text/plain": [
              "Parsing completed. Parsed 100 lines in 0.080302 secs."
            ]
          },
          "metadata": {
            "tags": []
          }
        },
        {
          "output_type": "stream",
          "text": [
            "------------------------------------------------------\n",
            "Inferred types from first 100 line(s) of file as \n",
            "column_type_hints=[int,int,int,int]\n",
            "If parsing fails due to incorrect types, you can correct\n",
            "the inferred type list above and pass it to read_csv in\n",
            "the column_type_hints argument\n",
            "------------------------------------------------------\n"
          ],
          "name": "stdout"
        },
        {
          "output_type": "display_data",
          "data": {
            "text/html": [
              "<pre>Finished parsing file /u1.base</pre>"
            ],
            "text/plain": [
              "Finished parsing file /u1.base"
            ]
          },
          "metadata": {
            "tags": []
          }
        },
        {
          "output_type": "display_data",
          "data": {
            "text/html": [
              "<pre>Parsing completed. Parsed 80000 lines in 0.063959 secs.</pre>"
            ],
            "text/plain": [
              "Parsing completed. Parsed 80000 lines in 0.063959 secs."
            ]
          },
          "metadata": {
            "tags": []
          }
        },
        {
          "output_type": "display_data",
          "data": {
            "text/html": [
              "<pre>Finished parsing file /u1.test</pre>"
            ],
            "text/plain": [
              "Finished parsing file /u1.test"
            ]
          },
          "metadata": {
            "tags": []
          }
        },
        {
          "output_type": "display_data",
          "data": {
            "text/html": [
              "<pre>Parsing completed. Parsed 100 lines in 0.024818 secs.</pre>"
            ],
            "text/plain": [
              "Parsing completed. Parsed 100 lines in 0.024818 secs."
            ]
          },
          "metadata": {
            "tags": []
          }
        },
        {
          "output_type": "stream",
          "text": [
            "------------------------------------------------------\n",
            "Inferred types from first 100 line(s) of file as \n",
            "column_type_hints=[int,int,int,int]\n",
            "If parsing fails due to incorrect types, you can correct\n",
            "the inferred type list above and pass it to read_csv in\n",
            "the column_type_hints argument\n",
            "------------------------------------------------------\n"
          ],
          "name": "stdout"
        },
        {
          "output_type": "display_data",
          "data": {
            "text/html": [
              "<pre>Finished parsing file /u1.test</pre>"
            ],
            "text/plain": [
              "Finished parsing file /u1.test"
            ]
          },
          "metadata": {
            "tags": []
          }
        },
        {
          "output_type": "display_data",
          "data": {
            "text/html": [
              "<pre>Parsing completed. Parsed 20000 lines in 0.025031 secs.</pre>"
            ],
            "text/plain": [
              "Parsing completed. Parsed 20000 lines in 0.025031 secs."
            ]
          },
          "metadata": {
            "tags": []
          }
        }
      ]
    },
    {
      "cell_type": "markdown",
      "metadata": {
        "id": "duCHhXoEtYyl",
        "colab_type": "text"
      },
      "source": [
        "create matrix factorization model"
      ]
    },
    {
      "cell_type": "code",
      "metadata": {
        "id": "LktAtjNztXMh",
        "colab_type": "code",
        "colab": {
          "base_uri": "https://localhost:8080/",
          "height": 799
        },
        "outputId": "1be1eb38-1263-43e7-cc48-6665a40e21dc"
      },
      "source": [
        "# create and train the model\n",
        "matrixfact_model = tc.recommender.factorization_recommender.create(train_non_rare.remove_column('timestamp'), 'userid', 'movieid', target='rating', item_data=sframe_genre)"
      ],
      "execution_count": 98,
      "outputs": [
        {
          "output_type": "display_data",
          "data": {
            "text/html": [
              "<pre>Preparing data set.</pre>"
            ],
            "text/plain": [
              "Preparing data set."
            ]
          },
          "metadata": {
            "tags": []
          }
        },
        {
          "output_type": "display_data",
          "data": {
            "text/html": [
              "<pre>    Data has 79226 observations with 943 users and 1682 items.</pre>"
            ],
            "text/plain": [
              "    Data has 79226 observations with 943 users and 1682 items."
            ]
          },
          "metadata": {
            "tags": []
          }
        },
        {
          "output_type": "display_data",
          "data": {
            "text/html": [
              "<pre>    Data prepared in: 0.363732s</pre>"
            ],
            "text/plain": [
              "    Data prepared in: 0.363732s"
            ]
          },
          "metadata": {
            "tags": []
          }
        },
        {
          "output_type": "display_data",
          "data": {
            "text/html": [
              "<pre>Training factorization_recommender for recommendations.</pre>"
            ],
            "text/plain": [
              "Training factorization_recommender for recommendations."
            ]
          },
          "metadata": {
            "tags": []
          }
        },
        {
          "output_type": "display_data",
          "data": {
            "text/html": [
              "<pre>+--------------------------------+--------------------------------------------------+----------+</pre>"
            ],
            "text/plain": [
              "+--------------------------------+--------------------------------------------------+----------+"
            ]
          },
          "metadata": {
            "tags": []
          }
        },
        {
          "output_type": "display_data",
          "data": {
            "text/html": [
              "<pre>| Parameter                      | Description                                      | Value    |</pre>"
            ],
            "text/plain": [
              "| Parameter                      | Description                                      | Value    |"
            ]
          },
          "metadata": {
            "tags": []
          }
        },
        {
          "output_type": "display_data",
          "data": {
            "text/html": [
              "<pre>+--------------------------------+--------------------------------------------------+----------+</pre>"
            ],
            "text/plain": [
              "+--------------------------------+--------------------------------------------------+----------+"
            ]
          },
          "metadata": {
            "tags": []
          }
        },
        {
          "output_type": "display_data",
          "data": {
            "text/html": [
              "<pre>| num_factors                    | Factor Dimension                                 | 8        |</pre>"
            ],
            "text/plain": [
              "| num_factors                    | Factor Dimension                                 | 8        |"
            ]
          },
          "metadata": {
            "tags": []
          }
        },
        {
          "output_type": "display_data",
          "data": {
            "text/html": [
              "<pre>| regularization                 | L2 Regularization on Factors                     | 1e-08    |</pre>"
            ],
            "text/plain": [
              "| regularization                 | L2 Regularization on Factors                     | 1e-08    |"
            ]
          },
          "metadata": {
            "tags": []
          }
        },
        {
          "output_type": "display_data",
          "data": {
            "text/html": [
              "<pre>| solver                         | Solver used for training                         | adagrad  |</pre>"
            ],
            "text/plain": [
              "| solver                         | Solver used for training                         | adagrad  |"
            ]
          },
          "metadata": {
            "tags": []
          }
        },
        {
          "output_type": "display_data",
          "data": {
            "text/html": [
              "<pre>| linear_regularization          | L2 Regularization on Linear Coefficients         | 1e-10    |</pre>"
            ],
            "text/plain": [
              "| linear_regularization          | L2 Regularization on Linear Coefficients         | 1e-10    |"
            ]
          },
          "metadata": {
            "tags": []
          }
        },
        {
          "output_type": "display_data",
          "data": {
            "text/html": [
              "<pre>| side_data_factorization        | Assign Factors for Side Data                     | True     |</pre>"
            ],
            "text/plain": [
              "| side_data_factorization        | Assign Factors for Side Data                     | True     |"
            ]
          },
          "metadata": {
            "tags": []
          }
        },
        {
          "output_type": "display_data",
          "data": {
            "text/html": [
              "<pre>| max_iterations                 | Maximum Number of Iterations                     | 50       |</pre>"
            ],
            "text/plain": [
              "| max_iterations                 | Maximum Number of Iterations                     | 50       |"
            ]
          },
          "metadata": {
            "tags": []
          }
        },
        {
          "output_type": "display_data",
          "data": {
            "text/html": [
              "<pre>+--------------------------------+--------------------------------------------------+----------+</pre>"
            ],
            "text/plain": [
              "+--------------------------------+--------------------------------------------------+----------+"
            ]
          },
          "metadata": {
            "tags": []
          }
        },
        {
          "output_type": "display_data",
          "data": {
            "text/html": [
              "<pre>  Optimizing model using SGD; tuning step size.</pre>"
            ],
            "text/plain": [
              "  Optimizing model using SGD; tuning step size."
            ]
          },
          "metadata": {
            "tags": []
          }
        },
        {
          "output_type": "display_data",
          "data": {
            "text/html": [
              "<pre>  Using 10000 / 79226 points for tuning the step size.</pre>"
            ],
            "text/plain": [
              "  Using 10000 / 79226 points for tuning the step size."
            ]
          },
          "metadata": {
            "tags": []
          }
        },
        {
          "output_type": "display_data",
          "data": {
            "text/html": [
              "<pre>+---------+-------------------+------------------------------------------+</pre>"
            ],
            "text/plain": [
              "+---------+-------------------+------------------------------------------+"
            ]
          },
          "metadata": {
            "tags": []
          }
        },
        {
          "output_type": "display_data",
          "data": {
            "text/html": [
              "<pre>| Attempt | Initial Step Size | Estimated Objective Value                |</pre>"
            ],
            "text/plain": [
              "| Attempt | Initial Step Size | Estimated Objective Value                |"
            ]
          },
          "metadata": {
            "tags": []
          }
        },
        {
          "output_type": "display_data",
          "data": {
            "text/html": [
              "<pre>+---------+-------------------+------------------------------------------+</pre>"
            ],
            "text/plain": [
              "+---------+-------------------+------------------------------------------+"
            ]
          },
          "metadata": {
            "tags": []
          }
        },
        {
          "output_type": "display_data",
          "data": {
            "text/html": [
              "<pre>| 0       | 1.16279           | Not Viable                               |</pre>"
            ],
            "text/plain": [
              "| 0       | 1.16279           | Not Viable                               |"
            ]
          },
          "metadata": {
            "tags": []
          }
        },
        {
          "output_type": "display_data",
          "data": {
            "text/html": [
              "<pre>| 1       | 0.290698          | 0.563647                                 |</pre>"
            ],
            "text/plain": [
              "| 1       | 0.290698          | 0.563647                                 |"
            ]
          },
          "metadata": {
            "tags": []
          }
        },
        {
          "output_type": "display_data",
          "data": {
            "text/html": [
              "<pre>| 2       | 0.145349          | 0.295038                                 |</pre>"
            ],
            "text/plain": [
              "| 2       | 0.145349          | 0.295038                                 |"
            ]
          },
          "metadata": {
            "tags": []
          }
        },
        {
          "output_type": "display_data",
          "data": {
            "text/html": [
              "<pre>| 3       | 0.0726744         | 0.586262                                 |</pre>"
            ],
            "text/plain": [
              "| 3       | 0.0726744         | 0.586262                                 |"
            ]
          },
          "metadata": {
            "tags": []
          }
        },
        {
          "output_type": "display_data",
          "data": {
            "text/html": [
              "<pre>| 4       | 0.0363372         | 0.691071                                 |</pre>"
            ],
            "text/plain": [
              "| 4       | 0.0363372         | 0.691071                                 |"
            ]
          },
          "metadata": {
            "tags": []
          }
        },
        {
          "output_type": "display_data",
          "data": {
            "text/html": [
              "<pre>+---------+-------------------+------------------------------------------+</pre>"
            ],
            "text/plain": [
              "+---------+-------------------+------------------------------------------+"
            ]
          },
          "metadata": {
            "tags": []
          }
        },
        {
          "output_type": "display_data",
          "data": {
            "text/html": [
              "<pre>| Final   | 0.145349          | 0.295038                                 |</pre>"
            ],
            "text/plain": [
              "| Final   | 0.145349          | 0.295038                                 |"
            ]
          },
          "metadata": {
            "tags": []
          }
        },
        {
          "output_type": "display_data",
          "data": {
            "text/html": [
              "<pre>+---------+-------------------+------------------------------------------+</pre>"
            ],
            "text/plain": [
              "+---------+-------------------+------------------------------------------+"
            ]
          },
          "metadata": {
            "tags": []
          }
        },
        {
          "output_type": "display_data",
          "data": {
            "text/html": [
              "<pre>Starting Optimization.</pre>"
            ],
            "text/plain": [
              "Starting Optimization."
            ]
          },
          "metadata": {
            "tags": []
          }
        },
        {
          "output_type": "display_data",
          "data": {
            "text/html": [
              "<pre>+---------+--------------+-------------------+-----------------------+-------------+</pre>"
            ],
            "text/plain": [
              "+---------+--------------+-------------------+-----------------------+-------------+"
            ]
          },
          "metadata": {
            "tags": []
          }
        },
        {
          "output_type": "display_data",
          "data": {
            "text/html": [
              "<pre>| Iter.   | Elapsed Time | Approx. Objective | Approx. Training RMSE | Step Size   |</pre>"
            ],
            "text/plain": [
              "| Iter.   | Elapsed Time | Approx. Objective | Approx. Training RMSE | Step Size   |"
            ]
          },
          "metadata": {
            "tags": []
          }
        },
        {
          "output_type": "display_data",
          "data": {
            "text/html": [
              "<pre>+---------+--------------+-------------------+-----------------------+-------------+</pre>"
            ],
            "text/plain": [
              "+---------+--------------+-------------------+-----------------------+-------------+"
            ]
          },
          "metadata": {
            "tags": []
          }
        },
        {
          "output_type": "display_data",
          "data": {
            "text/html": [
              "<pre>| Initial | 111us        | 1.24014           | 1.11361               |             |</pre>"
            ],
            "text/plain": [
              "| Initial | 111us        | 1.24014           | 1.11361               |             |"
            ]
          },
          "metadata": {
            "tags": []
          }
        },
        {
          "output_type": "display_data",
          "data": {
            "text/html": [
              "<pre>+---------+--------------+-------------------+-----------------------+-------------+</pre>"
            ],
            "text/plain": [
              "+---------+--------------+-------------------+-----------------------+-------------+"
            ]
          },
          "metadata": {
            "tags": []
          }
        },
        {
          "output_type": "display_data",
          "data": {
            "text/html": [
              "<pre>| 1       | 234.84ms     | 1.07751           | 1.03803               | 0.145349    |</pre>"
            ],
            "text/plain": [
              "| 1       | 234.84ms     | 1.07751           | 1.03803               | 0.145349    |"
            ]
          },
          "metadata": {
            "tags": []
          }
        },
        {
          "output_type": "display_data",
          "data": {
            "text/html": [
              "<pre>| 2       | 447.443ms    | 0.811108          | 0.90061               | 0.145349    |</pre>"
            ],
            "text/plain": [
              "| 2       | 447.443ms    | 0.811108          | 0.90061               | 0.145349    |"
            ]
          },
          "metadata": {
            "tags": []
          }
        },
        {
          "output_type": "display_data",
          "data": {
            "text/html": [
              "<pre>| 3       | 670.177ms    | 0.747482          | 0.864564              | 0.145349    |</pre>"
            ],
            "text/plain": [
              "| 3       | 670.177ms    | 0.747482          | 0.864564              | 0.145349    |"
            ]
          },
          "metadata": {
            "tags": []
          }
        },
        {
          "output_type": "display_data",
          "data": {
            "text/html": [
              "<pre>| 4       | 896.578ms    | 0.704962          | 0.839613              | 0.145349    |</pre>"
            ],
            "text/plain": [
              "| 4       | 896.578ms    | 0.704962          | 0.839613              | 0.145349    |"
            ]
          },
          "metadata": {
            "tags": []
          }
        },
        {
          "output_type": "display_data",
          "data": {
            "text/html": [
              "<pre>| 5       | 1.11s        | 0.674068          | 0.821009              | 0.145349    |</pre>"
            ],
            "text/plain": [
              "| 5       | 1.11s        | 0.674068          | 0.821009              | 0.145349    |"
            ]
          },
          "metadata": {
            "tags": []
          }
        },
        {
          "output_type": "display_data",
          "data": {
            "text/html": [
              "<pre>| 10      | 2.17s        | 0.602029          | 0.775895              | 0.145349    |</pre>"
            ],
            "text/plain": [
              "| 10      | 2.17s        | 0.602029          | 0.775895              | 0.145349    |"
            ]
          },
          "metadata": {
            "tags": []
          }
        },
        {
          "output_type": "display_data",
          "data": {
            "text/html": [
              "<pre>| 25      | 5.36s        | 0.549895          | 0.741536              | 0.145349    |</pre>"
            ],
            "text/plain": [
              "| 25      | 5.36s        | 0.549895          | 0.741536              | 0.145349    |"
            ]
          },
          "metadata": {
            "tags": []
          }
        },
        {
          "output_type": "display_data",
          "data": {
            "text/html": [
              "<pre>| 50      | 10.70s       | 0.526513          | 0.725596              | 0.145349    |</pre>"
            ],
            "text/plain": [
              "| 50      | 10.70s       | 0.526513          | 0.725596              | 0.145349    |"
            ]
          },
          "metadata": {
            "tags": []
          }
        },
        {
          "output_type": "display_data",
          "data": {
            "text/html": [
              "<pre>+---------+--------------+-------------------+-----------------------+-------------+</pre>"
            ],
            "text/plain": [
              "+---------+--------------+-------------------+-----------------------+-------------+"
            ]
          },
          "metadata": {
            "tags": []
          }
        },
        {
          "output_type": "display_data",
          "data": {
            "text/html": [
              "<pre>Optimization Complete: Maximum number of passes through the data reached.</pre>"
            ],
            "text/plain": [
              "Optimization Complete: Maximum number of passes through the data reached."
            ]
          },
          "metadata": {
            "tags": []
          }
        },
        {
          "output_type": "display_data",
          "data": {
            "text/html": [
              "<pre>Computing final objective value and training RMSE.</pre>"
            ],
            "text/plain": [
              "Computing final objective value and training RMSE."
            ]
          },
          "metadata": {
            "tags": []
          }
        },
        {
          "output_type": "display_data",
          "data": {
            "text/html": [
              "<pre>       Final objective value: 0.5134</pre>"
            ],
            "text/plain": [
              "       Final objective value: 0.5134"
            ]
          },
          "metadata": {
            "tags": []
          }
        },
        {
          "output_type": "display_data",
          "data": {
            "text/html": [
              "<pre>       Final training RMSE: 0.716504</pre>"
            ],
            "text/plain": [
              "       Final training RMSE: 0.716504"
            ]
          },
          "metadata": {
            "tags": []
          }
        }
      ]
    },
    {
      "cell_type": "markdown",
      "metadata": {
        "id": "0-xh5XzNRIx5",
        "colab_type": "text"
      },
      "source": [
        "Create item similarity model"
      ]
    },
    {
      "cell_type": "code",
      "metadata": {
        "id": "KOlIvXHZL7NL",
        "colab_type": "code",
        "colab": {
          "base_uri": "https://localhost:8080/",
          "height": 428
        },
        "outputId": "a1902320-e2ac-48c4-adca-8488f734a3e6"
      },
      "source": [
        "# create and train the model\n",
        "item_sim_model = tc.recommender.item_similarity_recommender.create(train_non_rare.remove_column('timestamp'), 'userid', 'movieid', target='rating', item_data=sframe_genre)"
      ],
      "execution_count": 95,
      "outputs": [
        {
          "output_type": "display_data",
          "data": {
            "text/html": [
              "<pre>Warning: Ignoring columns movie title, unknown, Action, Adventure, Animation, Children's, Comedy, Crime, Documentary, Drama, Fantasy, Film-Noir, Horror, Musical, Mystery, Romance, Sci-Fi, Thriller, War, Western, year;</pre>"
            ],
            "text/plain": [
              "Warning: Ignoring columns movie title, unknown, Action, Adventure, Animation, Children's, Comedy, Crime, Documentary, Drama, Fantasy, Film-Noir, Horror, Musical, Mystery, Romance, Sci-Fi, Thriller, War, Western, year;"
            ]
          },
          "metadata": {
            "tags": []
          }
        },
        {
          "output_type": "display_data",
          "data": {
            "text/html": [
              "<pre>    To use these columns in scoring predictions, use a model that allows the use of additional features.</pre>"
            ],
            "text/plain": [
              "    To use these columns in scoring predictions, use a model that allows the use of additional features."
            ]
          },
          "metadata": {
            "tags": []
          }
        },
        {
          "output_type": "display_data",
          "data": {
            "text/html": [
              "<pre>Preparing data set.</pre>"
            ],
            "text/plain": [
              "Preparing data set."
            ]
          },
          "metadata": {
            "tags": []
          }
        },
        {
          "output_type": "display_data",
          "data": {
            "text/html": [
              "<pre>    Data has 79226 observations with 943 users and 1682 items.</pre>"
            ],
            "text/plain": [
              "    Data has 79226 observations with 943 users and 1682 items."
            ]
          },
          "metadata": {
            "tags": []
          }
        },
        {
          "output_type": "display_data",
          "data": {
            "text/html": [
              "<pre>    Data prepared in: 0.09926s</pre>"
            ],
            "text/plain": [
              "    Data prepared in: 0.09926s"
            ]
          },
          "metadata": {
            "tags": []
          }
        },
        {
          "output_type": "display_data",
          "data": {
            "text/html": [
              "<pre>Training model from provided data.</pre>"
            ],
            "text/plain": [
              "Training model from provided data."
            ]
          },
          "metadata": {
            "tags": []
          }
        },
        {
          "output_type": "display_data",
          "data": {
            "text/html": [
              "<pre>Gathering per-item and per-user statistics.</pre>"
            ],
            "text/plain": [
              "Gathering per-item and per-user statistics."
            ]
          },
          "metadata": {
            "tags": []
          }
        },
        {
          "output_type": "display_data",
          "data": {
            "text/html": [
              "<pre>+--------------------------------+------------+</pre>"
            ],
            "text/plain": [
              "+--------------------------------+------------+"
            ]
          },
          "metadata": {
            "tags": []
          }
        },
        {
          "output_type": "display_data",
          "data": {
            "text/html": [
              "<pre>| Elapsed Time (Item Statistics) | % Complete |</pre>"
            ],
            "text/plain": [
              "| Elapsed Time (Item Statistics) | % Complete |"
            ]
          },
          "metadata": {
            "tags": []
          }
        },
        {
          "output_type": "display_data",
          "data": {
            "text/html": [
              "<pre>+--------------------------------+------------+</pre>"
            ],
            "text/plain": [
              "+--------------------------------+------------+"
            ]
          },
          "metadata": {
            "tags": []
          }
        },
        {
          "output_type": "display_data",
          "data": {
            "text/html": [
              "<pre>| 14.028ms                       | 100        |</pre>"
            ],
            "text/plain": [
              "| 14.028ms                       | 100        |"
            ]
          },
          "metadata": {
            "tags": []
          }
        },
        {
          "output_type": "display_data",
          "data": {
            "text/html": [
              "<pre>+--------------------------------+------------+</pre>"
            ],
            "text/plain": [
              "+--------------------------------+------------+"
            ]
          },
          "metadata": {
            "tags": []
          }
        },
        {
          "output_type": "display_data",
          "data": {
            "text/html": [
              "<pre>Setting up lookup tables.</pre>"
            ],
            "text/plain": [
              "Setting up lookup tables."
            ]
          },
          "metadata": {
            "tags": []
          }
        },
        {
          "output_type": "display_data",
          "data": {
            "text/html": [
              "<pre>Processing data in one pass using dense lookup tables.</pre>"
            ],
            "text/plain": [
              "Processing data in one pass using dense lookup tables."
            ]
          },
          "metadata": {
            "tags": []
          }
        },
        {
          "output_type": "display_data",
          "data": {
            "text/html": [
              "<pre>+-------------------------------------+------------------+-----------------+</pre>"
            ],
            "text/plain": [
              "+-------------------------------------+------------------+-----------------+"
            ]
          },
          "metadata": {
            "tags": []
          }
        },
        {
          "output_type": "display_data",
          "data": {
            "text/html": [
              "<pre>| Elapsed Time (Constructing Lookups) | Total % Complete | Items Processed |</pre>"
            ],
            "text/plain": [
              "| Elapsed Time (Constructing Lookups) | Total % Complete | Items Processed |"
            ]
          },
          "metadata": {
            "tags": []
          }
        },
        {
          "output_type": "display_data",
          "data": {
            "text/html": [
              "<pre>+-------------------------------------+------------------+-----------------+</pre>"
            ],
            "text/plain": [
              "+-------------------------------------+------------------+-----------------+"
            ]
          },
          "metadata": {
            "tags": []
          }
        },
        {
          "output_type": "display_data",
          "data": {
            "text/html": [
              "<pre>| 23.313ms                            | 0                | 2               |</pre>"
            ],
            "text/plain": [
              "| 23.313ms                            | 0                | 2               |"
            ]
          },
          "metadata": {
            "tags": []
          }
        },
        {
          "output_type": "display_data",
          "data": {
            "text/html": [
              "<pre>| 187.3ms                             | 100              | 1682            |</pre>"
            ],
            "text/plain": [
              "| 187.3ms                             | 100              | 1682            |"
            ]
          },
          "metadata": {
            "tags": []
          }
        },
        {
          "output_type": "display_data",
          "data": {
            "text/html": [
              "<pre>+-------------------------------------+------------------+-----------------+</pre>"
            ],
            "text/plain": [
              "+-------------------------------------+------------------+-----------------+"
            ]
          },
          "metadata": {
            "tags": []
          }
        },
        {
          "output_type": "display_data",
          "data": {
            "text/html": [
              "<pre>Finalizing lookup tables.</pre>"
            ],
            "text/plain": [
              "Finalizing lookup tables."
            ]
          },
          "metadata": {
            "tags": []
          }
        },
        {
          "output_type": "display_data",
          "data": {
            "text/html": [
              "<pre>Generating candidate set for working with new users.</pre>"
            ],
            "text/plain": [
              "Generating candidate set for working with new users."
            ]
          },
          "metadata": {
            "tags": []
          }
        },
        {
          "output_type": "display_data",
          "data": {
            "text/html": [
              "<pre>Finished training in 0.215439s</pre>"
            ],
            "text/plain": [
              "Finished training in 0.215439s"
            ]
          },
          "metadata": {
            "tags": []
          }
        }
      ]
    },
    {
      "cell_type": "markdown",
      "metadata": {
        "id": "-wSF7OdmSceo",
        "colab_type": "text"
      },
      "source": [
        "Create item content model"
      ]
    },
    {
      "cell_type": "code",
      "metadata": {
        "id": "YxILa5gwSoJZ",
        "colab_type": "code",
        "colab": {
          "base_uri": "https://localhost:8080/",
          "height": 870
        },
        "outputId": "5009c58f-ed98-4595-b2b0-cd51be31693d"
      },
      "source": [
        "# create and train the model\n",
        "item_content_model = tc.recommender.item_content_recommender.create(item_data=sframe_genre,item_id='movieid',observation_data= train_non_rare.remove_column('timestamp'),user_id='userid', target='rating' )"
      ],
      "execution_count": 96,
      "outputs": [
        {
          "output_type": "stream",
          "text": [
            "Applying transform:\n",
            "Class             : AutoVectorizer\n",
            "\n",
            "Model Fields\n",
            "------------\n",
            "Features          : ['movie title', 'unknown', 'Action', 'Adventure', 'Animation', \"Children's\", 'Comedy', 'Crime', 'Documentary', 'Drama', 'Fantasy', 'Film-Noir', 'Horror', 'Musical', 'Mystery', 'Romance', 'Sci-Fi', 'Thriller', 'War', 'Western']\n",
            "Excluded Features : ['movieid']\n",
            "\n",
            "Column       Type  Interpretation  Transforms                         Output Type\n",
            "-----------  ----  --------------  ---------------------------------  -----------\n",
            "movie title  str   short_text      3-Character NGram Counts -> TFIDF  dict       \n",
            "unknown      int   categorical     astype(str)                        str        \n",
            "Action       int   categorical     astype(str)                        str        \n",
            "Adventure    int   categorical     astype(str)                        str        \n",
            "Animation    int   categorical     astype(str)                        str        \n",
            "Children's   int   categorical     astype(str)                        str        \n",
            "Comedy       int   categorical     astype(str)                        str        \n",
            "Crime        int   categorical     astype(str)                        str        \n",
            "Documentary  int   categorical     astype(str)                        str        \n",
            "Drama        int   categorical     astype(str)                        str        \n",
            "Fantasy      int   categorical     astype(str)                        str        \n",
            "Film-Noir    int   categorical     astype(str)                        str        \n",
            "Horror       int   categorical     astype(str)                        str        \n",
            "Musical      int   categorical     astype(str)                        str        \n",
            "Mystery      int   categorical     astype(str)                        str        \n",
            "Romance      int   categorical     astype(str)                        str        \n",
            "Sci-Fi       int   categorical     astype(str)                        str        \n",
            "Thriller     int   categorical     astype(str)                        str        \n",
            "War          int   categorical     astype(str)                        str        \n",
            "Western      int   categorical     astype(str)                        str        \n",
            "\n",
            "\n",
            "Defaulting to brute force instead of ball tree because there are multiple distance components.\n"
          ],
          "name": "stdout"
        },
        {
          "output_type": "display_data",
          "data": {
            "text/html": [
              "<pre>Starting brute force nearest neighbors model training.</pre>"
            ],
            "text/plain": [
              "Starting brute force nearest neighbors model training."
            ]
          },
          "metadata": {
            "tags": []
          }
        },
        {
          "output_type": "display_data",
          "data": {
            "text/html": [
              "<pre>Starting pairwise querying.</pre>"
            ],
            "text/plain": [
              "Starting pairwise querying."
            ]
          },
          "metadata": {
            "tags": []
          }
        },
        {
          "output_type": "display_data",
          "data": {
            "text/html": [
              "<pre>+--------------+---------+-------------+--------------+</pre>"
            ],
            "text/plain": [
              "+--------------+---------+-------------+--------------+"
            ]
          },
          "metadata": {
            "tags": []
          }
        },
        {
          "output_type": "display_data",
          "data": {
            "text/html": [
              "<pre>| Query points | # Pairs | % Complete. | Elapsed Time |</pre>"
            ],
            "text/plain": [
              "| Query points | # Pairs | % Complete. | Elapsed Time |"
            ]
          },
          "metadata": {
            "tags": []
          }
        },
        {
          "output_type": "display_data",
          "data": {
            "text/html": [
              "<pre>+--------------+---------+-------------+--------------+</pre>"
            ],
            "text/plain": [
              "+--------------+---------+-------------+--------------+"
            ]
          },
          "metadata": {
            "tags": []
          }
        },
        {
          "output_type": "display_data",
          "data": {
            "text/html": [
              "<pre>| 1            | 1682    | 0.059453    | 19.176ms     |</pre>"
            ],
            "text/plain": [
              "| 1            | 1682    | 0.059453    | 19.176ms     |"
            ]
          },
          "metadata": {
            "tags": []
          }
        },
        {
          "output_type": "display_data",
          "data": {
            "text/html": [
              "<pre>| Done         |         | 100         | 1.22s        |</pre>"
            ],
            "text/plain": [
              "| Done         |         | 100         | 1.22s        |"
            ]
          },
          "metadata": {
            "tags": []
          }
        },
        {
          "output_type": "display_data",
          "data": {
            "text/html": [
              "<pre>+--------------+---------+-------------+--------------+</pre>"
            ],
            "text/plain": [
              "+--------------+---------+-------------+--------------+"
            ]
          },
          "metadata": {
            "tags": []
          }
        },
        {
          "output_type": "display_data",
          "data": {
            "text/html": [
              "<pre>Warning: Ignoring columns movie title, unknown, Action, Adventure, Animation, Children's, Comedy, Crime, Documentary, Drama, Fantasy, Film-Noir, Horror, Musical, Mystery, Romance, Sci-Fi, Thriller, War, Western, year;</pre>"
            ],
            "text/plain": [
              "Warning: Ignoring columns movie title, unknown, Action, Adventure, Animation, Children's, Comedy, Crime, Documentary, Drama, Fantasy, Film-Noir, Horror, Musical, Mystery, Romance, Sci-Fi, Thriller, War, Western, year;"
            ]
          },
          "metadata": {
            "tags": []
          }
        },
        {
          "output_type": "display_data",
          "data": {
            "text/html": [
              "<pre>    To use these columns in scoring predictions, use a model that allows the use of additional features.</pre>"
            ],
            "text/plain": [
              "    To use these columns in scoring predictions, use a model that allows the use of additional features."
            ]
          },
          "metadata": {
            "tags": []
          }
        },
        {
          "output_type": "display_data",
          "data": {
            "text/html": [
              "<pre>Preparing data set.</pre>"
            ],
            "text/plain": [
              "Preparing data set."
            ]
          },
          "metadata": {
            "tags": []
          }
        },
        {
          "output_type": "display_data",
          "data": {
            "text/html": [
              "<pre>    Data has 79226 observations with 943 users and 1682 items.</pre>"
            ],
            "text/plain": [
              "    Data has 79226 observations with 943 users and 1682 items."
            ]
          },
          "metadata": {
            "tags": []
          }
        },
        {
          "output_type": "display_data",
          "data": {
            "text/html": [
              "<pre>    Data prepared in: 0.273277s</pre>"
            ],
            "text/plain": [
              "    Data prepared in: 0.273277s"
            ]
          },
          "metadata": {
            "tags": []
          }
        },
        {
          "output_type": "display_data",
          "data": {
            "text/html": [
              "<pre>Loading user-provided nearest items.</pre>"
            ],
            "text/plain": [
              "Loading user-provided nearest items."
            ]
          },
          "metadata": {
            "tags": []
          }
        },
        {
          "output_type": "display_data",
          "data": {
            "text/html": [
              "<pre>Generating candidate set for working with new users.</pre>"
            ],
            "text/plain": [
              "Generating candidate set for working with new users."
            ]
          },
          "metadata": {
            "tags": []
          }
        },
        {
          "output_type": "display_data",
          "data": {
            "text/html": [
              "<pre>Finished training in 0.041667s</pre>"
            ],
            "text/plain": [
              "Finished training in 0.041667s"
            ]
          },
          "metadata": {
            "tags": []
          }
        }
      ]
    },
    {
      "cell_type": "markdown",
      "metadata": {
        "id": "mmyt7JCfTsWq",
        "colab_type": "text"
      },
      "source": [
        "**b - calculate MAE for previous models**"
      ]
    },
    {
      "cell_type": "code",
      "metadata": {
        "id": "J46u617qT2JV",
        "colab_type": "code",
        "outputId": "d7dce9b9-ee6d-424c-c6ca-b220078e8599",
        "colab": {
          "base_uri": "https://localhost:8080/",
          "height": 119
        }
      },
      "source": [
        "# predict for matrix factorization\n",
        "matrixfact_pred=matrixfact_model.predict(test_non_rare)\n",
        "\n",
        "# MAE\n",
        "print('Matrix factorization model MAE:')\n",
        "print(mean_absolute_error(test_non_rare['rating'], matrixfact_pred))\n",
        "\n",
        "\n",
        "# predict for item similarity\n",
        "item_sim_pred=item_sim_model.predict(test_non_rare)\n",
        "\n",
        "# MAE\n",
        "print('Item similarity model MAE:')\n",
        "print(mean_absolute_error(test_non_rare['rating'], item_sim_pred))\n",
        "\n",
        "\n",
        "# predict for item content\n",
        "item_content_pred=item_content_model.predict(test_non_rare)\n",
        "\n",
        "# MAE\n",
        "print('Item content model MAE:')\n",
        "print(mean_absolute_error(test_non_rare['rating'], item_content_pred))"
      ],
      "execution_count": 97,
      "outputs": [
        {
          "output_type": "stream",
          "text": [
            "Matrix factorization model MAE:\n",
            "0.759073271583673\n",
            "Item similarity model MAE:\n",
            "3.4999959610927758\n",
            "Item content model MAE:\n",
            "3.36671206057656\n"
          ],
          "name": "stdout"
        }
      ]
    },
    {
      "cell_type": "markdown",
      "metadata": {
        "id": "u7LGtbK0U-rD",
        "colab_type": "text"
      },
      "source": [
        "**c - conclusion**\n",
        "MAE for rating by average (question 2a) is: 0.702 which is smaller than Item similarity and Item content but is similar to Matrix factorization.\n",
        "\n",
        "If we look at training time: 10.7s for Matrix factorization, 187.3ms for Item similarity and 1.22s for Item content. Meaning Item similarity has the shortest training time but highest MAE and Matrix factorization has the longest training time but the lowest MAE. "
      ]
    },
    {
      "cell_type": "markdown",
      "metadata": {
        "id": "XXrmDyLBViIe",
        "colab_type": "text"
      },
      "source": [
        "# 4 - neural collaborative filtering"
      ]
    },
    {
      "cell_type": "markdown",
      "metadata": {
        "id": "m8qKUw-ZVxXV",
        "colab_type": "text"
      },
      "source": [
        "**d - create model**"
      ]
    },
    {
      "cell_type": "code",
      "metadata": {
        "id": "ytRHQI9KV2qN",
        "colab_type": "code",
        "outputId": "030f1e76-7e4c-4371-ab7a-d31878e285aa",
        "colab": {
          "base_uri": "https://localhost:8080/",
          "height": 34
        }
      },
      "source": [
        "import tensorflow as T\n",
        "import keras\n",
        "from keras import backend as K\n",
        "from keras import initializers\n",
        "from keras.initializers import RandomNormal\n",
        "from keras.models import Sequential, Model, load_model, save_model\n",
        "from keras.layers.core import Dense, Lambda, Activation\n",
        "from keras.layers import Embedding, Input, Dense, merge, Reshape,  Flatten, Dropout\n",
        "from keras.optimizers import Adagrad, Adam, SGD, RMSprop, Adamax\n",
        "from keras.regularizers import l2\n",
        "from keras.layers import Multiply, Concatenate\n",
        "from keras.callbacks import Callback, EarlyStopping, ModelCheckpoint\n",
        "from time import time\n",
        "import multiprocessing as mp\n",
        "import sys\n",
        "import math\n",
        "import argparse\n",
        "import matplotlib.pyplot as plt\n"
      ],
      "execution_count": 99,
      "outputs": [
        {
          "output_type": "stream",
          "text": [
            "Using TensorFlow backend.\n"
          ],
          "name": "stderr"
        }
      ]
    },
    {
      "cell_type": "code",
      "metadata": {
        "id": "Yk2TfevlWE9v",
        "colab_type": "code",
        "outputId": "c7ce9111-2c1a-414f-ad9c-c29ebe7d0319",
        "colab": {
          "base_uri": "https://localhost:8080/",
          "height": 476
        }
      },
      "source": [
        "# create the model\n",
        "# Input variables\n",
        "user_input = Input(shape=(1,), dtype='int32', name = 'user_input')\n",
        "item_input = Input(shape=(1,), dtype='int32', name = 'item_input')\n",
        "\n",
        "num_users=len(users)\n",
        "num_items=len(genre)\n",
        "MF_Embedding_User = Embedding(input_dim = num_users+1, output_dim = 1, name = 'user_embedding', input_length=1)\n",
        "MF_Embedding_Item = Embedding(input_dim = num_items+1, output_dim = 1, name = 'item_embedding', input_length=1)\n",
        "\n",
        "# Crucial to flatten an embedding vector!\n",
        "user_latent = Flatten()(MF_Embedding_User(user_input))\n",
        "item_latent = Flatten()(MF_Embedding_Item(item_input))\n",
        "\n",
        "# Element-wise product of user and item embeddings\n",
        "conc = Concatenate()([user_latent, item_latent])\n",
        "drop = Dropout(0.5)(conc)\n",
        "prediction = Dense(1, activation='relu', kernel_initializer='lecun_uniform', name = 'prediction')(drop)\n",
        "\n",
        "NCF_model1 = Model(input=[user_input, item_input], output=prediction)\n",
        "NCF_model1.summary()\n",
        "\n",
        "NCF_model1.compile(loss='mse',optimizer=Adamax(lr=0.001),metrics=['mae'])\n"
      ],
      "execution_count": 127,
      "outputs": [
        {
          "output_type": "stream",
          "text": [
            "__________________________________________________________________________________________________\n",
            "Layer (type)                    Output Shape         Param #     Connected to                     \n",
            "==================================================================================================\n",
            "user_input (InputLayer)         (None, 1)            0                                            \n",
            "__________________________________________________________________________________________________\n",
            "item_input (InputLayer)         (None, 1)            0                                            \n",
            "__________________________________________________________________________________________________\n",
            "user_embedding (Embedding)      (None, 1, 1)         944         user_input[0][0]                 \n",
            "__________________________________________________________________________________________________\n",
            "item_embedding (Embedding)      (None, 1, 1)         1683        item_input[0][0]                 \n",
            "__________________________________________________________________________________________________\n",
            "flatten_24 (Flatten)            (None, 1)            0           user_embedding[0][0]             \n",
            "__________________________________________________________________________________________________\n",
            "flatten_25 (Flatten)            (None, 1)            0           item_embedding[0][0]             \n",
            "__________________________________________________________________________________________________\n",
            "concatenate_12 (Concatenate)    (None, 2)            0           flatten_24[0][0]                 \n",
            "                                                                 flatten_25[0][0]                 \n",
            "__________________________________________________________________________________________________\n",
            "dropout_12 (Dropout)            (None, 2)            0           concatenate_12[0][0]             \n",
            "__________________________________________________________________________________________________\n",
            "prediction (Dense)              (None, 1)            3           dropout_12[0][0]                 \n",
            "==================================================================================================\n",
            "Total params: 2,630\n",
            "Trainable params: 2,630\n",
            "Non-trainable params: 0\n",
            "__________________________________________________________________________________________________\n"
          ],
          "name": "stdout"
        },
        {
          "output_type": "stream",
          "text": [
            "/usr/local/lib/python3.6/dist-packages/ipykernel_launcher.py:18: UserWarning: Update your `Model` call to the Keras 2 API: `Model(inputs=[<tf.Tenso..., outputs=Tensor(\"pr...)`\n"
          ],
          "name": "stderr"
        }
      ]
    },
    {
      "cell_type": "code",
      "metadata": {
        "id": "fpq4_7_QfzbQ",
        "colab_type": "code",
        "colab": {
          "base_uri": "https://localhost:8080/",
          "height": 3485
        },
        "outputId": "5d4fde1f-b196-41d5-c442-5ab2cd677305"
      },
      "source": [
        "# fit the model\n",
        "Users = ratings_training['userid'].values\n",
        "Movies = ratings_training['movieid'].values\n",
        "Ratings = ratings_training['rating'].values\n",
        "t0=time()\n",
        "NCF_model1.fit([Users, Movies], Ratings, nb_epoch=100, validation_split=.1, verbose=1, batch_size = 32)\n",
        "model1_time=time()-t0\n",
        "print(model1_time)"
      ],
      "execution_count": 128,
      "outputs": [
        {
          "output_type": "stream",
          "text": [
            "/usr/local/lib/python3.6/dist-packages/ipykernel_launcher.py:5: UserWarning: The `nb_epoch` argument in `fit` has been renamed `epochs`.\n",
            "  \"\"\"\n"
          ],
          "name": "stderr"
        },
        {
          "output_type": "stream",
          "text": [
            "Train on 72000 samples, validate on 8000 samples\n",
            "Epoch 1/100\n",
            "72000/72000 [==============================] - 3s 49us/step - loss: 7.7866 - mean_absolute_error: 2.5180 - val_loss: 3.6351 - val_mean_absolute_error: 1.6735\n",
            "Epoch 2/100\n",
            "72000/72000 [==============================] - 3s 35us/step - loss: 1.8466 - mean_absolute_error: 1.1325 - val_loss: 1.2237 - val_mean_absolute_error: 0.9211\n",
            "Epoch 3/100\n",
            "72000/72000 [==============================] - 3s 35us/step - loss: 1.2234 - mean_absolute_error: 0.9085 - val_loss: 1.1282 - val_mean_absolute_error: 0.8925\n",
            "Epoch 4/100\n",
            "72000/72000 [==============================] - 3s 35us/step - loss: 1.1870 - mean_absolute_error: 0.8941 - val_loss: 1.1162 - val_mean_absolute_error: 0.8874\n",
            "Epoch 5/100\n",
            "72000/72000 [==============================] - 3s 36us/step - loss: 1.1653 - mean_absolute_error: 0.8844 - val_loss: 1.1035 - val_mean_absolute_error: 0.8813\n",
            "Epoch 6/100\n",
            "72000/72000 [==============================] - 3s 35us/step - loss: 1.1428 - mean_absolute_error: 0.8734 - val_loss: 1.0954 - val_mean_absolute_error: 0.8769\n",
            "Epoch 7/100\n",
            "72000/72000 [==============================] - 3s 35us/step - loss: 1.1298 - mean_absolute_error: 0.8662 - val_loss: 1.0872 - val_mean_absolute_error: 0.8724\n",
            "Epoch 8/100\n",
            "72000/72000 [==============================] - 3s 35us/step - loss: 1.1180 - mean_absolute_error: 0.8601 - val_loss: 1.0802 - val_mean_absolute_error: 0.8685\n",
            "Epoch 9/100\n",
            "72000/72000 [==============================] - 3s 35us/step - loss: 1.1110 - mean_absolute_error: 0.8555 - val_loss: 1.0748 - val_mean_absolute_error: 0.8653\n",
            "Epoch 10/100\n",
            "72000/72000 [==============================] - 2s 35us/step - loss: 1.1100 - mean_absolute_error: 0.8542 - val_loss: 1.0708 - val_mean_absolute_error: 0.8631\n",
            "Epoch 11/100\n",
            "72000/72000 [==============================] - 3s 35us/step - loss: 1.0970 - mean_absolute_error: 0.8497 - val_loss: 1.0624 - val_mean_absolute_error: 0.8584\n",
            "Epoch 12/100\n",
            "72000/72000 [==============================] - 2s 34us/step - loss: 1.0957 - mean_absolute_error: 0.8484 - val_loss: 1.0589 - val_mean_absolute_error: 0.8564\n",
            "Epoch 13/100\n",
            "72000/72000 [==============================] - 3s 35us/step - loss: 1.0939 - mean_absolute_error: 0.8464 - val_loss: 1.0593 - val_mean_absolute_error: 0.8568\n",
            "Epoch 14/100\n",
            "72000/72000 [==============================] - 3s 35us/step - loss: 1.0882 - mean_absolute_error: 0.8444 - val_loss: 1.0577 - val_mean_absolute_error: 0.8559\n",
            "Epoch 15/100\n",
            "72000/72000 [==============================] - 3s 38us/step - loss: 1.0819 - mean_absolute_error: 0.8416 - val_loss: 1.0523 - val_mean_absolute_error: 0.8528\n",
            "Epoch 16/100\n",
            "72000/72000 [==============================] - 3s 38us/step - loss: 1.0826 - mean_absolute_error: 0.8411 - val_loss: 1.0493 - val_mean_absolute_error: 0.8511\n",
            "Epoch 17/100\n",
            "72000/72000 [==============================] - 3s 38us/step - loss: 1.0807 - mean_absolute_error: 0.8404 - val_loss: 1.0462 - val_mean_absolute_error: 0.8491\n",
            "Epoch 18/100\n",
            "72000/72000 [==============================] - 3s 37us/step - loss: 1.0798 - mean_absolute_error: 0.8397 - val_loss: 1.0450 - val_mean_absolute_error: 0.8484\n",
            "Epoch 19/100\n",
            "72000/72000 [==============================] - 2s 34us/step - loss: 1.0713 - mean_absolute_error: 0.8367 - val_loss: 1.0427 - val_mean_absolute_error: 0.8470\n",
            "Epoch 20/100\n",
            "72000/72000 [==============================] - 2s 34us/step - loss: 1.0721 - mean_absolute_error: 0.8366 - val_loss: 1.0395 - val_mean_absolute_error: 0.8452\n",
            "Epoch 21/100\n",
            "72000/72000 [==============================] - 2s 34us/step - loss: 1.0725 - mean_absolute_error: 0.8361 - val_loss: 1.0395 - val_mean_absolute_error: 0.8453\n",
            "Epoch 22/100\n",
            "72000/72000 [==============================] - 2s 34us/step - loss: 1.0650 - mean_absolute_error: 0.8338 - val_loss: 1.0366 - val_mean_absolute_error: 0.8434\n",
            "Epoch 23/100\n",
            "72000/72000 [==============================] - 2s 35us/step - loss: 1.0689 - mean_absolute_error: 0.8346 - val_loss: 1.0355 - val_mean_absolute_error: 0.8430\n",
            "Epoch 24/100\n",
            "72000/72000 [==============================] - 2s 34us/step - loss: 1.0674 - mean_absolute_error: 0.8349 - val_loss: 1.0347 - val_mean_absolute_error: 0.8425\n",
            "Epoch 25/100\n",
            "72000/72000 [==============================] - 3s 35us/step - loss: 1.0686 - mean_absolute_error: 0.8354 - val_loss: 1.0348 - val_mean_absolute_error: 0.8426\n",
            "Epoch 26/100\n",
            "72000/72000 [==============================] - 2s 35us/step - loss: 1.0700 - mean_absolute_error: 0.8350 - val_loss: 1.0331 - val_mean_absolute_error: 0.8415\n",
            "Epoch 27/100\n",
            "72000/72000 [==============================] - 3s 35us/step - loss: 1.0673 - mean_absolute_error: 0.8341 - val_loss: 1.0330 - val_mean_absolute_error: 0.8416\n",
            "Epoch 28/100\n",
            "72000/72000 [==============================] - 2s 34us/step - loss: 1.0642 - mean_absolute_error: 0.8325 - val_loss: 1.0299 - val_mean_absolute_error: 0.8394\n",
            "Epoch 29/100\n",
            "72000/72000 [==============================] - 3s 35us/step - loss: 1.0602 - mean_absolute_error: 0.8318 - val_loss: 1.0315 - val_mean_absolute_error: 0.8405\n",
            "Epoch 30/100\n",
            "72000/72000 [==============================] - 3s 35us/step - loss: 1.0655 - mean_absolute_error: 0.8335 - val_loss: 1.0305 - val_mean_absolute_error: 0.8400\n",
            "Epoch 31/100\n",
            "72000/72000 [==============================] - 3s 35us/step - loss: 1.0612 - mean_absolute_error: 0.8318 - val_loss: 1.0304 - val_mean_absolute_error: 0.8402\n",
            "Epoch 32/100\n",
            "72000/72000 [==============================] - 2s 35us/step - loss: 1.0631 - mean_absolute_error: 0.8326 - val_loss: 1.0278 - val_mean_absolute_error: 0.8385\n",
            "Epoch 33/100\n",
            "72000/72000 [==============================] - 3s 35us/step - loss: 1.0572 - mean_absolute_error: 0.8306 - val_loss: 1.0267 - val_mean_absolute_error: 0.8377\n",
            "Epoch 34/100\n",
            "72000/72000 [==============================] - 2s 35us/step - loss: 1.0599 - mean_absolute_error: 0.8308 - val_loss: 1.0255 - val_mean_absolute_error: 0.8370\n",
            "Epoch 35/100\n",
            "72000/72000 [==============================] - 3s 35us/step - loss: 1.0582 - mean_absolute_error: 0.8303 - val_loss: 1.0250 - val_mean_absolute_error: 0.8368\n",
            "Epoch 36/100\n",
            "72000/72000 [==============================] - 3s 35us/step - loss: 1.0617 - mean_absolute_error: 0.8318 - val_loss: 1.0251 - val_mean_absolute_error: 0.8373\n",
            "Epoch 37/100\n",
            "72000/72000 [==============================] - 3s 37us/step - loss: 1.0568 - mean_absolute_error: 0.8292 - val_loss: 1.0234 - val_mean_absolute_error: 0.8361\n",
            "Epoch 38/100\n",
            "72000/72000 [==============================] - 3s 36us/step - loss: 1.0578 - mean_absolute_error: 0.8305 - val_loss: 1.0228 - val_mean_absolute_error: 0.8357\n",
            "Epoch 39/100\n",
            "72000/72000 [==============================] - 2s 35us/step - loss: 1.0594 - mean_absolute_error: 0.8303 - val_loss: 1.0232 - val_mean_absolute_error: 0.8360\n",
            "Epoch 40/100\n",
            "72000/72000 [==============================] - 3s 35us/step - loss: 1.0606 - mean_absolute_error: 0.8317 - val_loss: 1.0223 - val_mean_absolute_error: 0.8354\n",
            "Epoch 41/100\n",
            "72000/72000 [==============================] - 3s 35us/step - loss: 1.0601 - mean_absolute_error: 0.8308 - val_loss: 1.0232 - val_mean_absolute_error: 0.8362\n",
            "Epoch 42/100\n",
            "72000/72000 [==============================] - 3s 35us/step - loss: 1.0553 - mean_absolute_error: 0.8289 - val_loss: 1.0225 - val_mean_absolute_error: 0.8357\n",
            "Epoch 43/100\n",
            "72000/72000 [==============================] - 3s 35us/step - loss: 1.0578 - mean_absolute_error: 0.8296 - val_loss: 1.0232 - val_mean_absolute_error: 0.8364\n",
            "Epoch 44/100\n",
            "72000/72000 [==============================] - 3s 35us/step - loss: 1.0522 - mean_absolute_error: 0.8285 - val_loss: 1.0206 - val_mean_absolute_error: 0.8345\n",
            "Epoch 45/100\n",
            "72000/72000 [==============================] - 3s 35us/step - loss: 1.0600 - mean_absolute_error: 0.8306 - val_loss: 1.0231 - val_mean_absolute_error: 0.8366\n",
            "Epoch 46/100\n",
            "72000/72000 [==============================] - 3s 35us/step - loss: 1.0609 - mean_absolute_error: 0.8315 - val_loss: 1.0211 - val_mean_absolute_error: 0.8350\n",
            "Epoch 47/100\n",
            "72000/72000 [==============================] - 3s 35us/step - loss: 1.0568 - mean_absolute_error: 0.8300 - val_loss: 1.0212 - val_mean_absolute_error: 0.8353\n",
            "Epoch 48/100\n",
            "72000/72000 [==============================] - 3s 36us/step - loss: 1.0557 - mean_absolute_error: 0.8287 - val_loss: 1.0229 - val_mean_absolute_error: 0.8367\n",
            "Epoch 49/100\n",
            "72000/72000 [==============================] - 3s 36us/step - loss: 1.0550 - mean_absolute_error: 0.8293 - val_loss: 1.0201 - val_mean_absolute_error: 0.8346\n",
            "Epoch 50/100\n",
            "72000/72000 [==============================] - 3s 36us/step - loss: 1.0554 - mean_absolute_error: 0.8290 - val_loss: 1.0183 - val_mean_absolute_error: 0.8333\n",
            "Epoch 51/100\n",
            "72000/72000 [==============================] - 3s 35us/step - loss: 1.0567 - mean_absolute_error: 0.8306 - val_loss: 1.0183 - val_mean_absolute_error: 0.8334\n",
            "Epoch 52/100\n",
            "72000/72000 [==============================] - 3s 35us/step - loss: 1.0508 - mean_absolute_error: 0.8263 - val_loss: 1.0171 - val_mean_absolute_error: 0.8324\n",
            "Epoch 53/100\n",
            "72000/72000 [==============================] - 3s 36us/step - loss: 1.0547 - mean_absolute_error: 0.8281 - val_loss: 1.0207 - val_mean_absolute_error: 0.8353\n",
            "Epoch 54/100\n",
            "72000/72000 [==============================] - 3s 35us/step - loss: 1.0550 - mean_absolute_error: 0.8285 - val_loss: 1.0197 - val_mean_absolute_error: 0.8346\n",
            "Epoch 55/100\n",
            "72000/72000 [==============================] - 3s 35us/step - loss: 1.0530 - mean_absolute_error: 0.8274 - val_loss: 1.0186 - val_mean_absolute_error: 0.8337\n",
            "Epoch 56/100\n",
            "72000/72000 [==============================] - 3s 35us/step - loss: 1.0570 - mean_absolute_error: 0.8303 - val_loss: 1.0191 - val_mean_absolute_error: 0.8345\n",
            "Epoch 57/100\n",
            "72000/72000 [==============================] - 3s 35us/step - loss: 1.0527 - mean_absolute_error: 0.8265 - val_loss: 1.0186 - val_mean_absolute_error: 0.8342\n",
            "Epoch 58/100\n",
            "72000/72000 [==============================] - 2s 35us/step - loss: 1.0501 - mean_absolute_error: 0.8265 - val_loss: 1.0174 - val_mean_absolute_error: 0.8330\n",
            "Epoch 59/100\n",
            "72000/72000 [==============================] - 3s 35us/step - loss: 1.0501 - mean_absolute_error: 0.8274 - val_loss: 1.0175 - val_mean_absolute_error: 0.8332\n",
            "Epoch 60/100\n",
            "72000/72000 [==============================] - 3s 35us/step - loss: 1.0494 - mean_absolute_error: 0.8262 - val_loss: 1.0184 - val_mean_absolute_error: 0.8340\n",
            "Epoch 61/100\n",
            "72000/72000 [==============================] - 3s 35us/step - loss: 1.0556 - mean_absolute_error: 0.8286 - val_loss: 1.0188 - val_mean_absolute_error: 0.8343\n",
            "Epoch 62/100\n",
            "72000/72000 [==============================] - 3s 35us/step - loss: 1.0555 - mean_absolute_error: 0.8285 - val_loss: 1.0161 - val_mean_absolute_error: 0.8320\n",
            "Epoch 63/100\n",
            "72000/72000 [==============================] - 2s 35us/step - loss: 1.0564 - mean_absolute_error: 0.8289 - val_loss: 1.0180 - val_mean_absolute_error: 0.8336\n",
            "Epoch 64/100\n",
            "72000/72000 [==============================] - 3s 35us/step - loss: 1.0527 - mean_absolute_error: 0.8278 - val_loss: 1.0175 - val_mean_absolute_error: 0.8333\n",
            "Epoch 65/100\n",
            "72000/72000 [==============================] - 3s 35us/step - loss: 1.0494 - mean_absolute_error: 0.8273 - val_loss: 1.0165 - val_mean_absolute_error: 0.8326\n",
            "Epoch 66/100\n",
            "72000/72000 [==============================] - 3s 36us/step - loss: 1.0500 - mean_absolute_error: 0.8276 - val_loss: 1.0178 - val_mean_absolute_error: 0.8337\n",
            "Epoch 67/100\n",
            "72000/72000 [==============================] - 3s 35us/step - loss: 1.0500 - mean_absolute_error: 0.8268 - val_loss: 1.0167 - val_mean_absolute_error: 0.8328\n",
            "Epoch 68/100\n",
            "72000/72000 [==============================] - 3s 36us/step - loss: 1.0484 - mean_absolute_error: 0.8259 - val_loss: 1.0172 - val_mean_absolute_error: 0.8334\n",
            "Epoch 69/100\n",
            "72000/72000 [==============================] - 3s 36us/step - loss: 1.0507 - mean_absolute_error: 0.8263 - val_loss: 1.0174 - val_mean_absolute_error: 0.8338\n",
            "Epoch 70/100\n",
            "72000/72000 [==============================] - 3s 35us/step - loss: 1.0557 - mean_absolute_error: 0.8293 - val_loss: 1.0170 - val_mean_absolute_error: 0.8333\n",
            "Epoch 71/100\n",
            "72000/72000 [==============================] - 3s 35us/step - loss: 1.0544 - mean_absolute_error: 0.8281 - val_loss: 1.0154 - val_mean_absolute_error: 0.8321\n",
            "Epoch 72/100\n",
            "72000/72000 [==============================] - 3s 35us/step - loss: 1.0472 - mean_absolute_error: 0.8254 - val_loss: 1.0160 - val_mean_absolute_error: 0.8329\n",
            "Epoch 73/100\n",
            "72000/72000 [==============================] - 3s 35us/step - loss: 1.0516 - mean_absolute_error: 0.8262 - val_loss: 1.0164 - val_mean_absolute_error: 0.8333\n",
            "Epoch 74/100\n",
            "72000/72000 [==============================] - 2s 34us/step - loss: 1.0512 - mean_absolute_error: 0.8271 - val_loss: 1.0172 - val_mean_absolute_error: 0.8340\n",
            "Epoch 75/100\n",
            "72000/72000 [==============================] - 3s 35us/step - loss: 1.0520 - mean_absolute_error: 0.8278 - val_loss: 1.0145 - val_mean_absolute_error: 0.8316\n",
            "Epoch 76/100\n",
            "72000/72000 [==============================] - 3s 35us/step - loss: 1.0484 - mean_absolute_error: 0.8266 - val_loss: 1.0165 - val_mean_absolute_error: 0.8335\n",
            "Epoch 77/100\n",
            "72000/72000 [==============================] - 2s 35us/step - loss: 1.0494 - mean_absolute_error: 0.8262 - val_loss: 1.0138 - val_mean_absolute_error: 0.8311\n",
            "Epoch 78/100\n",
            "72000/72000 [==============================] - 3s 35us/step - loss: 1.0545 - mean_absolute_error: 0.8281 - val_loss: 1.0158 - val_mean_absolute_error: 0.8328\n",
            "Epoch 79/100\n",
            "72000/72000 [==============================] - 3s 35us/step - loss: 1.0531 - mean_absolute_error: 0.8293 - val_loss: 1.0149 - val_mean_absolute_error: 0.8320\n",
            "Epoch 80/100\n",
            "72000/72000 [==============================] - 3s 35us/step - loss: 1.0509 - mean_absolute_error: 0.8266 - val_loss: 1.0142 - val_mean_absolute_error: 0.8315\n",
            "Epoch 81/100\n",
            "72000/72000 [==============================] - 3s 35us/step - loss: 1.0547 - mean_absolute_error: 0.8292 - val_loss: 1.0155 - val_mean_absolute_error: 0.8327\n",
            "Epoch 82/100\n",
            "72000/72000 [==============================] - 3s 35us/step - loss: 1.0517 - mean_absolute_error: 0.8267 - val_loss: 1.0160 - val_mean_absolute_error: 0.8331\n",
            "Epoch 83/100\n",
            "72000/72000 [==============================] - 3s 35us/step - loss: 1.0502 - mean_absolute_error: 0.8280 - val_loss: 1.0141 - val_mean_absolute_error: 0.8317\n",
            "Epoch 84/100\n",
            "72000/72000 [==============================] - 3s 35us/step - loss: 1.0532 - mean_absolute_error: 0.8276 - val_loss: 1.0167 - val_mean_absolute_error: 0.8340\n",
            "Epoch 85/100\n",
            "72000/72000 [==============================] - 3s 35us/step - loss: 1.0489 - mean_absolute_error: 0.8262 - val_loss: 1.0151 - val_mean_absolute_error: 0.8329\n",
            "Epoch 86/100\n",
            "72000/72000 [==============================] - 3s 35us/step - loss: 1.0512 - mean_absolute_error: 0.8266 - val_loss: 1.0147 - val_mean_absolute_error: 0.8327\n",
            "Epoch 87/100\n",
            "72000/72000 [==============================] - 3s 35us/step - loss: 1.0546 - mean_absolute_error: 0.8285 - val_loss: 1.0145 - val_mean_absolute_error: 0.8325\n",
            "Epoch 88/100\n",
            "72000/72000 [==============================] - 3s 35us/step - loss: 1.0529 - mean_absolute_error: 0.8271 - val_loss: 1.0139 - val_mean_absolute_error: 0.8319\n",
            "Epoch 89/100\n",
            "72000/72000 [==============================] - 3s 35us/step - loss: 1.0522 - mean_absolute_error: 0.8275 - val_loss: 1.0134 - val_mean_absolute_error: 0.8314\n",
            "Epoch 90/100\n",
            "72000/72000 [==============================] - 3s 35us/step - loss: 1.0498 - mean_absolute_error: 0.8261 - val_loss: 1.0132 - val_mean_absolute_error: 0.8315\n",
            "Epoch 91/100\n",
            "72000/72000 [==============================] - 3s 35us/step - loss: 1.0492 - mean_absolute_error: 0.8258 - val_loss: 1.0158 - val_mean_absolute_error: 0.8335\n",
            "Epoch 92/100\n",
            "72000/72000 [==============================] - 3s 35us/step - loss: 1.0474 - mean_absolute_error: 0.8255 - val_loss: 1.0144 - val_mean_absolute_error: 0.8322\n",
            "Epoch 93/100\n",
            "72000/72000 [==============================] - 2s 35us/step - loss: 1.0481 - mean_absolute_error: 0.8262 - val_loss: 1.0141 - val_mean_absolute_error: 0.8319\n",
            "Epoch 94/100\n",
            "72000/72000 [==============================] - 3s 35us/step - loss: 1.0524 - mean_absolute_error: 0.8270 - val_loss: 1.0147 - val_mean_absolute_error: 0.8323\n",
            "Epoch 95/100\n",
            "72000/72000 [==============================] - 3s 35us/step - loss: 1.0554 - mean_absolute_error: 0.8283 - val_loss: 1.0147 - val_mean_absolute_error: 0.8322\n",
            "Epoch 96/100\n",
            "72000/72000 [==============================] - 3s 35us/step - loss: 1.0497 - mean_absolute_error: 0.8253 - val_loss: 1.0163 - val_mean_absolute_error: 0.8336\n",
            "Epoch 97/100\n",
            "72000/72000 [==============================] - 3s 36us/step - loss: 1.0516 - mean_absolute_error: 0.8273 - val_loss: 1.0135 - val_mean_absolute_error: 0.8312\n",
            "Epoch 98/100\n",
            "72000/72000 [==============================] - 3s 35us/step - loss: 1.0488 - mean_absolute_error: 0.8264 - val_loss: 1.0145 - val_mean_absolute_error: 0.8320\n",
            "Epoch 99/100\n",
            "72000/72000 [==============================] - 3s 35us/step - loss: 1.0490 - mean_absolute_error: 0.8267 - val_loss: 1.0129 - val_mean_absolute_error: 0.8307\n",
            "Epoch 100/100\n",
            "72000/72000 [==============================] - 3s 35us/step - loss: 1.0520 - mean_absolute_error: 0.8269 - val_loss: 1.0156 - val_mean_absolute_error: 0.8330\n",
            "254.6515007019043\n"
          ],
          "name": "stdout"
        }
      ]
    },
    {
      "cell_type": "markdown",
      "metadata": {
        "id": "iRCvd0jKvdL2",
        "colab_type": "text"
      },
      "source": [
        "**e - check 2 more different parameters changes**"
      ]
    },
    {
      "cell_type": "markdown",
      "metadata": {
        "id": "i2V-QsSoJoI8",
        "colab_type": "text"
      },
      "source": [
        "Change number of hidden layer:"
      ]
    },
    {
      "cell_type": "code",
      "metadata": {
        "id": "22CoG0vFvtGK",
        "colab_type": "code",
        "colab": {
          "base_uri": "https://localhost:8080/",
          "height": 510
        },
        "outputId": "a8733b38-b616-4c52-a548-74991e95ff65"
      },
      "source": [
        "# create the model\n",
        "# Input variables\n",
        "user_input = Input(shape=(1,), dtype='int32', name = 'user_input')\n",
        "item_input = Input(shape=(1,), dtype='int32', name = 'item_input')\n",
        "\n",
        "num_users=len(users)\n",
        "num_items=len(genre)\n",
        "MF_Embedding_User = Embedding(input_dim = num_users+1, output_dim = 1, name = 'user_embedding', input_length=1)\n",
        "MF_Embedding_Item = Embedding(input_dim = num_items+1, output_dim = 1, name = 'item_embedding', input_length=1)\n",
        "\n",
        "# Crucial to flatten an embedding vector!\n",
        "user_latent = Flatten()(MF_Embedding_User(user_input))\n",
        "item_latent = Flatten()(MF_Embedding_Item(item_input))\n",
        "\n",
        "# Element-wise product of user and item embeddings\n",
        "conc = Concatenate()([user_latent, item_latent])\n",
        "drop = Dropout(0.5)(conc)\n",
        "hidden = Dense(5, activation='relu')(drop)\n",
        "prediction = Dense(1, activation='relu', kernel_initializer='lecun_uniform', name = 'prediction')(hidden)\n",
        "\n",
        "NCF_model2 = Model(input=[user_input, item_input], output=prediction)\n",
        "NCF_model2.summary()\n",
        "\n",
        "NCF_model2.compile(loss='mse',optimizer=Adamax(lr=0.001),metrics=['mae'])"
      ],
      "execution_count": 129,
      "outputs": [
        {
          "output_type": "stream",
          "text": [
            "__________________________________________________________________________________________________\n",
            "Layer (type)                    Output Shape         Param #     Connected to                     \n",
            "==================================================================================================\n",
            "user_input (InputLayer)         (None, 1)            0                                            \n",
            "__________________________________________________________________________________________________\n",
            "item_input (InputLayer)         (None, 1)            0                                            \n",
            "__________________________________________________________________________________________________\n",
            "user_embedding (Embedding)      (None, 1, 1)         944         user_input[0][0]                 \n",
            "__________________________________________________________________________________________________\n",
            "item_embedding (Embedding)      (None, 1, 1)         1683        item_input[0][0]                 \n",
            "__________________________________________________________________________________________________\n",
            "flatten_26 (Flatten)            (None, 1)            0           user_embedding[0][0]             \n",
            "__________________________________________________________________________________________________\n",
            "flatten_27 (Flatten)            (None, 1)            0           item_embedding[0][0]             \n",
            "__________________________________________________________________________________________________\n",
            "concatenate_13 (Concatenate)    (None, 2)            0           flatten_26[0][0]                 \n",
            "                                                                 flatten_27[0][0]                 \n",
            "__________________________________________________________________________________________________\n",
            "dropout_13 (Dropout)            (None, 2)            0           concatenate_13[0][0]             \n",
            "__________________________________________________________________________________________________\n",
            "dense_7 (Dense)                 (None, 5)            15          dropout_13[0][0]                 \n",
            "__________________________________________________________________________________________________\n",
            "prediction (Dense)              (None, 1)            6           dense_7[0][0]                    \n",
            "==================================================================================================\n",
            "Total params: 2,648\n",
            "Trainable params: 2,648\n",
            "Non-trainable params: 0\n",
            "__________________________________________________________________________________________________\n"
          ],
          "name": "stdout"
        },
        {
          "output_type": "stream",
          "text": [
            "/usr/local/lib/python3.6/dist-packages/ipykernel_launcher.py:19: UserWarning: Update your `Model` call to the Keras 2 API: `Model(inputs=[<tf.Tenso..., outputs=Tensor(\"pr...)`\n"
          ],
          "name": "stderr"
        }
      ]
    },
    {
      "cell_type": "code",
      "metadata": {
        "id": "hyu6E3emKS-c",
        "colab_type": "code",
        "colab": {
          "base_uri": "https://localhost:8080/",
          "height": 3485
        },
        "outputId": "b87838fc-5bcb-42b3-e568-e5e6bca9ef84"
      },
      "source": [
        "# fit the model\n",
        "t0=time()\n",
        "Model2=NCF_model2.fit([Users, Movies], Ratings, nb_epoch=100, validation_split=.1, verbose=1, batch_size = 32)\n",
        "model2_time=time()-t0\n",
        "print(model2_time)"
      ],
      "execution_count": 130,
      "outputs": [
        {
          "output_type": "stream",
          "text": [
            "/usr/local/lib/python3.6/dist-packages/ipykernel_launcher.py:2: UserWarning: The `nb_epoch` argument in `fit` has been renamed `epochs`.\n",
            "  \n"
          ],
          "name": "stderr"
        },
        {
          "output_type": "stream",
          "text": [
            "Train on 72000 samples, validate on 8000 samples\n",
            "Epoch 1/100\n",
            "72000/72000 [==============================] - 3s 49us/step - loss: 3.0537 - mean_absolute_error: 1.3729 - val_loss: 1.1519 - val_mean_absolute_error: 0.9019\n",
            "Epoch 2/100\n",
            "72000/72000 [==============================] - 3s 37us/step - loss: 1.2095 - mean_absolute_error: 0.9117 - val_loss: 1.1267 - val_mean_absolute_error: 0.8846\n",
            "Epoch 3/100\n",
            "72000/72000 [==============================] - 3s 36us/step - loss: 1.1612 - mean_absolute_error: 0.8848 - val_loss: 1.1088 - val_mean_absolute_error: 0.8728\n",
            "Epoch 4/100\n",
            "72000/72000 [==============================] - 3s 36us/step - loss: 1.1304 - mean_absolute_error: 0.8663 - val_loss: 1.0936 - val_mean_absolute_error: 0.8626\n",
            "Epoch 5/100\n",
            "72000/72000 [==============================] - 3s 36us/step - loss: 1.1154 - mean_absolute_error: 0.8581 - val_loss: 1.0820 - val_mean_absolute_error: 0.8553\n",
            "Epoch 6/100\n",
            "72000/72000 [==============================] - 3s 36us/step - loss: 1.1013 - mean_absolute_error: 0.8515 - val_loss: 1.0816 - val_mean_absolute_error: 0.8578\n",
            "Epoch 7/100\n",
            "72000/72000 [==============================] - 3s 36us/step - loss: 1.0907 - mean_absolute_error: 0.8458 - val_loss: 1.0761 - val_mean_absolute_error: 0.8554\n",
            "Epoch 8/100\n",
            "72000/72000 [==============================] - 3s 37us/step - loss: 1.0830 - mean_absolute_error: 0.8420 - val_loss: 1.0639 - val_mean_absolute_error: 0.8454\n",
            "Epoch 9/100\n",
            "72000/72000 [==============================] - 3s 37us/step - loss: 1.0847 - mean_absolute_error: 0.8428 - val_loss: 1.0652 - val_mean_absolute_error: 0.8495\n",
            "Epoch 10/100\n",
            "72000/72000 [==============================] - 3s 36us/step - loss: 1.0787 - mean_absolute_error: 0.8411 - val_loss: 1.0594 - val_mean_absolute_error: 0.8464\n",
            "Epoch 11/100\n",
            "72000/72000 [==============================] - 3s 37us/step - loss: 1.0741 - mean_absolute_error: 0.8385 - val_loss: 1.0515 - val_mean_absolute_error: 0.8390\n",
            "Epoch 12/100\n",
            "72000/72000 [==============================] - 3s 37us/step - loss: 1.0716 - mean_absolute_error: 0.8364 - val_loss: 1.0539 - val_mean_absolute_error: 0.8431\n",
            "Epoch 13/100\n",
            "72000/72000 [==============================] - 3s 37us/step - loss: 1.0679 - mean_absolute_error: 0.8353 - val_loss: 1.0482 - val_mean_absolute_error: 0.8366\n",
            "Epoch 14/100\n",
            "72000/72000 [==============================] - 3s 37us/step - loss: 1.0628 - mean_absolute_error: 0.8330 - val_loss: 1.0480 - val_mean_absolute_error: 0.8355\n",
            "Epoch 15/100\n",
            "72000/72000 [==============================] - 3s 37us/step - loss: 1.0654 - mean_absolute_error: 0.8342 - val_loss: 1.0485 - val_mean_absolute_error: 0.8403\n",
            "Epoch 16/100\n",
            "72000/72000 [==============================] - 3s 36us/step - loss: 1.0626 - mean_absolute_error: 0.8323 - val_loss: 1.0450 - val_mean_absolute_error: 0.8374\n",
            "Epoch 17/100\n",
            "72000/72000 [==============================] - 3s 36us/step - loss: 1.0576 - mean_absolute_error: 0.8310 - val_loss: 1.0461 - val_mean_absolute_error: 0.8397\n",
            "Epoch 18/100\n",
            "72000/72000 [==============================] - 3s 37us/step - loss: 1.0565 - mean_absolute_error: 0.8300 - val_loss: 1.0451 - val_mean_absolute_error: 0.8404\n",
            "Epoch 19/100\n",
            "72000/72000 [==============================] - 3s 36us/step - loss: 1.0544 - mean_absolute_error: 0.8286 - val_loss: 1.0421 - val_mean_absolute_error: 0.8374\n",
            "Epoch 20/100\n",
            "72000/72000 [==============================] - 3s 37us/step - loss: 1.0572 - mean_absolute_error: 0.8301 - val_loss: 1.0417 - val_mean_absolute_error: 0.8372\n",
            "Epoch 21/100\n",
            "72000/72000 [==============================] - 3s 36us/step - loss: 1.0547 - mean_absolute_error: 0.8289 - val_loss: 1.0386 - val_mean_absolute_error: 0.8351\n",
            "Epoch 22/100\n",
            "72000/72000 [==============================] - 3s 36us/step - loss: 1.0558 - mean_absolute_error: 0.8297 - val_loss: 1.0392 - val_mean_absolute_error: 0.8370\n",
            "Epoch 23/100\n",
            "72000/72000 [==============================] - 3s 37us/step - loss: 1.0541 - mean_absolute_error: 0.8291 - val_loss: 1.0431 - val_mean_absolute_error: 0.8411\n",
            "Epoch 24/100\n",
            "72000/72000 [==============================] - 3s 36us/step - loss: 1.0500 - mean_absolute_error: 0.8266 - val_loss: 1.0391 - val_mean_absolute_error: 0.8372\n",
            "Epoch 25/100\n",
            "72000/72000 [==============================] - 3s 37us/step - loss: 1.0555 - mean_absolute_error: 0.8294 - val_loss: 1.0373 - val_mean_absolute_error: 0.8354\n",
            "Epoch 26/100\n",
            "72000/72000 [==============================] - 3s 40us/step - loss: 1.0553 - mean_absolute_error: 0.8289 - val_loss: 1.0366 - val_mean_absolute_error: 0.8349\n",
            "Epoch 27/100\n",
            "72000/72000 [==============================] - 3s 40us/step - loss: 1.0509 - mean_absolute_error: 0.8272 - val_loss: 1.0386 - val_mean_absolute_error: 0.8385\n",
            "Epoch 28/100\n",
            "72000/72000 [==============================] - 3s 40us/step - loss: 1.0506 - mean_absolute_error: 0.8270 - val_loss: 1.0324 - val_mean_absolute_error: 0.8316\n",
            "Epoch 29/100\n",
            "72000/72000 [==============================] - 3s 38us/step - loss: 1.0534 - mean_absolute_error: 0.8282 - val_loss: 1.0356 - val_mean_absolute_error: 0.8358\n",
            "Epoch 30/100\n",
            "72000/72000 [==============================] - 3s 36us/step - loss: 1.0485 - mean_absolute_error: 0.8262 - val_loss: 1.0347 - val_mean_absolute_error: 0.8360\n",
            "Epoch 31/100\n",
            "72000/72000 [==============================] - 3s 37us/step - loss: 1.0529 - mean_absolute_error: 0.8280 - val_loss: 1.0317 - val_mean_absolute_error: 0.8333\n",
            "Epoch 32/100\n",
            "72000/72000 [==============================] - 3s 36us/step - loss: 1.0529 - mean_absolute_error: 0.8275 - val_loss: 1.0320 - val_mean_absolute_error: 0.8333\n",
            "Epoch 33/100\n",
            "72000/72000 [==============================] - 3s 37us/step - loss: 1.0533 - mean_absolute_error: 0.8287 - val_loss: 1.0313 - val_mean_absolute_error: 0.8306\n",
            "Epoch 34/100\n",
            "72000/72000 [==============================] - 3s 37us/step - loss: 1.0515 - mean_absolute_error: 0.8276 - val_loss: 1.0318 - val_mean_absolute_error: 0.8338\n",
            "Epoch 35/100\n",
            "72000/72000 [==============================] - 3s 37us/step - loss: 1.0504 - mean_absolute_error: 0.8270 - val_loss: 1.0305 - val_mean_absolute_error: 0.8318\n",
            "Epoch 36/100\n",
            "72000/72000 [==============================] - 3s 37us/step - loss: 1.0488 - mean_absolute_error: 0.8262 - val_loss: 1.0314 - val_mean_absolute_error: 0.8334\n",
            "Epoch 37/100\n",
            "72000/72000 [==============================] - 3s 36us/step - loss: 1.0518 - mean_absolute_error: 0.8279 - val_loss: 1.0310 - val_mean_absolute_error: 0.8346\n",
            "Epoch 38/100\n",
            "72000/72000 [==============================] - 3s 36us/step - loss: 1.0531 - mean_absolute_error: 0.8279 - val_loss: 1.0280 - val_mean_absolute_error: 0.8296\n",
            "Epoch 39/100\n",
            "72000/72000 [==============================] - 3s 36us/step - loss: 1.0542 - mean_absolute_error: 0.8286 - val_loss: 1.0271 - val_mean_absolute_error: 0.8297\n",
            "Epoch 40/100\n",
            "72000/72000 [==============================] - 3s 36us/step - loss: 1.0530 - mean_absolute_error: 0.8281 - val_loss: 1.0290 - val_mean_absolute_error: 0.8332\n",
            "Epoch 41/100\n",
            "72000/72000 [==============================] - 3s 36us/step - loss: 1.0539 - mean_absolute_error: 0.8282 - val_loss: 1.0329 - val_mean_absolute_error: 0.8376\n",
            "Epoch 42/100\n",
            "72000/72000 [==============================] - 3s 36us/step - loss: 1.0442 - mean_absolute_error: 0.8240 - val_loss: 1.0235 - val_mean_absolute_error: 0.8273\n",
            "Epoch 43/100\n",
            "72000/72000 [==============================] - 3s 36us/step - loss: 1.0500 - mean_absolute_error: 0.8261 - val_loss: 1.0330 - val_mean_absolute_error: 0.8383\n",
            "Epoch 44/100\n",
            "72000/72000 [==============================] - 3s 36us/step - loss: 1.0538 - mean_absolute_error: 0.8286 - val_loss: 1.0298 - val_mean_absolute_error: 0.8352\n",
            "Epoch 45/100\n",
            "72000/72000 [==============================] - 3s 38us/step - loss: 1.0509 - mean_absolute_error: 0.8264 - val_loss: 1.0289 - val_mean_absolute_error: 0.8336\n",
            "Epoch 46/100\n",
            "72000/72000 [==============================] - 3s 37us/step - loss: 1.0506 - mean_absolute_error: 0.8282 - val_loss: 1.0291 - val_mean_absolute_error: 0.8350\n",
            "Epoch 47/100\n",
            "72000/72000 [==============================] - 3s 36us/step - loss: 1.0507 - mean_absolute_error: 0.8277 - val_loss: 1.0307 - val_mean_absolute_error: 0.8369\n",
            "Epoch 48/100\n",
            "72000/72000 [==============================] - 3s 36us/step - loss: 1.0512 - mean_absolute_error: 0.8273 - val_loss: 1.0268 - val_mean_absolute_error: 0.8327\n",
            "Epoch 49/100\n",
            "72000/72000 [==============================] - 3s 36us/step - loss: 1.0509 - mean_absolute_error: 0.8271 - val_loss: 1.0295 - val_mean_absolute_error: 0.8347\n",
            "Epoch 50/100\n",
            "72000/72000 [==============================] - 3s 36us/step - loss: 1.0487 - mean_absolute_error: 0.8263 - val_loss: 1.0295 - val_mean_absolute_error: 0.8357\n",
            "Epoch 51/100\n",
            "72000/72000 [==============================] - 3s 36us/step - loss: 1.0504 - mean_absolute_error: 0.8263 - val_loss: 1.0294 - val_mean_absolute_error: 0.8357\n",
            "Epoch 52/100\n",
            "72000/72000 [==============================] - 3s 35us/step - loss: 1.0537 - mean_absolute_error: 0.8288 - val_loss: 1.0260 - val_mean_absolute_error: 0.8340\n",
            "Epoch 53/100\n",
            "72000/72000 [==============================] - 3s 35us/step - loss: 1.0450 - mean_absolute_error: 0.8241 - val_loss: 1.0259 - val_mean_absolute_error: 0.8327\n",
            "Epoch 54/100\n",
            "72000/72000 [==============================] - 3s 35us/step - loss: 1.0472 - mean_absolute_error: 0.8251 - val_loss: 1.0232 - val_mean_absolute_error: 0.8308\n",
            "Epoch 55/100\n",
            "72000/72000 [==============================] - 3s 35us/step - loss: 1.0497 - mean_absolute_error: 0.8266 - val_loss: 1.0244 - val_mean_absolute_error: 0.8319\n",
            "Epoch 56/100\n",
            "72000/72000 [==============================] - 3s 35us/step - loss: 1.0457 - mean_absolute_error: 0.8240 - val_loss: 1.0245 - val_mean_absolute_error: 0.8306\n",
            "Epoch 57/100\n",
            "72000/72000 [==============================] - 3s 36us/step - loss: 1.0519 - mean_absolute_error: 0.8263 - val_loss: 1.0258 - val_mean_absolute_error: 0.8332\n",
            "Epoch 58/100\n",
            "72000/72000 [==============================] - 3s 36us/step - loss: 1.0522 - mean_absolute_error: 0.8275 - val_loss: 1.0235 - val_mean_absolute_error: 0.8305\n",
            "Epoch 59/100\n",
            "72000/72000 [==============================] - 3s 36us/step - loss: 1.0485 - mean_absolute_error: 0.8258 - val_loss: 1.0249 - val_mean_absolute_error: 0.8327\n",
            "Epoch 60/100\n",
            "72000/72000 [==============================] - 3s 36us/step - loss: 1.0486 - mean_absolute_error: 0.8258 - val_loss: 1.0284 - val_mean_absolute_error: 0.8361\n",
            "Epoch 61/100\n",
            "72000/72000 [==============================] - 3s 36us/step - loss: 1.0502 - mean_absolute_error: 0.8267 - val_loss: 1.0238 - val_mean_absolute_error: 0.8324\n",
            "Epoch 62/100\n",
            "72000/72000 [==============================] - 3s 37us/step - loss: 1.0495 - mean_absolute_error: 0.8258 - val_loss: 1.0264 - val_mean_absolute_error: 0.8348\n",
            "Epoch 63/100\n",
            "72000/72000 [==============================] - 3s 37us/step - loss: 1.0436 - mean_absolute_error: 0.8240 - val_loss: 1.0206 - val_mean_absolute_error: 0.8277\n",
            "Epoch 64/100\n",
            "72000/72000 [==============================] - 3s 36us/step - loss: 1.0453 - mean_absolute_error: 0.8236 - val_loss: 1.0211 - val_mean_absolute_error: 0.8311\n",
            "Epoch 65/100\n",
            "72000/72000 [==============================] - 3s 37us/step - loss: 1.0518 - mean_absolute_error: 0.8262 - val_loss: 1.0201 - val_mean_absolute_error: 0.8291\n",
            "Epoch 66/100\n",
            "72000/72000 [==============================] - 3s 36us/step - loss: 1.0539 - mean_absolute_error: 0.8277 - val_loss: 1.0232 - val_mean_absolute_error: 0.8325\n",
            "Epoch 67/100\n",
            "72000/72000 [==============================] - 3s 36us/step - loss: 1.0476 - mean_absolute_error: 0.8255 - val_loss: 1.0257 - val_mean_absolute_error: 0.8350\n",
            "Epoch 68/100\n",
            "72000/72000 [==============================] - 3s 36us/step - loss: 1.0499 - mean_absolute_error: 0.8257 - val_loss: 1.0221 - val_mean_absolute_error: 0.8304\n",
            "Epoch 69/100\n",
            "72000/72000 [==============================] - 3s 36us/step - loss: 1.0475 - mean_absolute_error: 0.8256 - val_loss: 1.0211 - val_mean_absolute_error: 0.8308\n",
            "Epoch 70/100\n",
            "72000/72000 [==============================] - 3s 36us/step - loss: 1.0475 - mean_absolute_error: 0.8253 - val_loss: 1.0228 - val_mean_absolute_error: 0.8319\n",
            "Epoch 71/100\n",
            "72000/72000 [==============================] - 3s 36us/step - loss: 1.0481 - mean_absolute_error: 0.8252 - val_loss: 1.0202 - val_mean_absolute_error: 0.8314\n",
            "Epoch 72/100\n",
            "72000/72000 [==============================] - 3s 36us/step - loss: 1.0483 - mean_absolute_error: 0.8253 - val_loss: 1.0230 - val_mean_absolute_error: 0.8337\n",
            "Epoch 73/100\n",
            "72000/72000 [==============================] - 3s 36us/step - loss: 1.0498 - mean_absolute_error: 0.8256 - val_loss: 1.0240 - val_mean_absolute_error: 0.8331\n",
            "Epoch 74/100\n",
            "72000/72000 [==============================] - 3s 36us/step - loss: 1.0550 - mean_absolute_error: 0.8280 - val_loss: 1.0194 - val_mean_absolute_error: 0.8314\n",
            "Epoch 75/100\n",
            "72000/72000 [==============================] - 3s 36us/step - loss: 1.0452 - mean_absolute_error: 0.8243 - val_loss: 1.0217 - val_mean_absolute_error: 0.8325\n",
            "Epoch 76/100\n",
            "72000/72000 [==============================] - 3s 36us/step - loss: 1.0488 - mean_absolute_error: 0.8252 - val_loss: 1.0207 - val_mean_absolute_error: 0.8316\n",
            "Epoch 77/100\n",
            "72000/72000 [==============================] - 3s 36us/step - loss: 1.0454 - mean_absolute_error: 0.8237 - val_loss: 1.0239 - val_mean_absolute_error: 0.8350\n",
            "Epoch 78/100\n",
            "72000/72000 [==============================] - 3s 36us/step - loss: 1.0520 - mean_absolute_error: 0.8267 - val_loss: 1.0202 - val_mean_absolute_error: 0.8316\n",
            "Epoch 79/100\n",
            "72000/72000 [==============================] - 3s 37us/step - loss: 1.0430 - mean_absolute_error: 0.8242 - val_loss: 1.0171 - val_mean_absolute_error: 0.8288\n",
            "Epoch 80/100\n",
            "72000/72000 [==============================] - 3s 36us/step - loss: 1.0498 - mean_absolute_error: 0.8270 - val_loss: 1.0203 - val_mean_absolute_error: 0.8324\n",
            "Epoch 81/100\n",
            "72000/72000 [==============================] - 3s 36us/step - loss: 1.0485 - mean_absolute_error: 0.8261 - val_loss: 1.0183 - val_mean_absolute_error: 0.8300\n",
            "Epoch 82/100\n",
            "72000/72000 [==============================] - 3s 36us/step - loss: 1.0464 - mean_absolute_error: 0.8243 - val_loss: 1.0188 - val_mean_absolute_error: 0.8299\n",
            "Epoch 83/100\n",
            "72000/72000 [==============================] - 3s 36us/step - loss: 1.0471 - mean_absolute_error: 0.8256 - val_loss: 1.0220 - val_mean_absolute_error: 0.8333\n",
            "Epoch 84/100\n",
            "72000/72000 [==============================] - 3s 36us/step - loss: 1.0467 - mean_absolute_error: 0.8252 - val_loss: 1.0228 - val_mean_absolute_error: 0.8341\n",
            "Epoch 85/100\n",
            "72000/72000 [==============================] - 3s 36us/step - loss: 1.0503 - mean_absolute_error: 0.8259 - val_loss: 1.0251 - val_mean_absolute_error: 0.8368\n",
            "Epoch 86/100\n",
            "72000/72000 [==============================] - 3s 36us/step - loss: 1.0464 - mean_absolute_error: 0.8252 - val_loss: 1.0180 - val_mean_absolute_error: 0.8298\n",
            "Epoch 87/100\n",
            "72000/72000 [==============================] - 3s 37us/step - loss: 1.0474 - mean_absolute_error: 0.8247 - val_loss: 1.0228 - val_mean_absolute_error: 0.8349\n",
            "Epoch 88/100\n",
            "72000/72000 [==============================] - 3s 36us/step - loss: 1.0475 - mean_absolute_error: 0.8263 - val_loss: 1.0219 - val_mean_absolute_error: 0.8338\n",
            "Epoch 89/100\n",
            "72000/72000 [==============================] - 3s 36us/step - loss: 1.0478 - mean_absolute_error: 0.8258 - val_loss: 1.0203 - val_mean_absolute_error: 0.8316\n",
            "Epoch 90/100\n",
            "72000/72000 [==============================] - 3s 36us/step - loss: 1.0509 - mean_absolute_error: 0.8276 - val_loss: 1.0201 - val_mean_absolute_error: 0.8321\n",
            "Epoch 91/100\n",
            "72000/72000 [==============================] - 3s 36us/step - loss: 1.0544 - mean_absolute_error: 0.8286 - val_loss: 1.0211 - val_mean_absolute_error: 0.8330\n",
            "Epoch 92/100\n",
            "72000/72000 [==============================] - 3s 36us/step - loss: 1.0465 - mean_absolute_error: 0.8252 - val_loss: 1.0199 - val_mean_absolute_error: 0.8322\n",
            "Epoch 93/100\n",
            "72000/72000 [==============================] - 3s 36us/step - loss: 1.0484 - mean_absolute_error: 0.8250 - val_loss: 1.0198 - val_mean_absolute_error: 0.8327\n",
            "Epoch 94/100\n",
            "72000/72000 [==============================] - 3s 37us/step - loss: 1.0507 - mean_absolute_error: 0.8281 - val_loss: 1.0167 - val_mean_absolute_error: 0.8278\n",
            "Epoch 95/100\n",
            "72000/72000 [==============================] - 3s 37us/step - loss: 1.0482 - mean_absolute_error: 0.8255 - val_loss: 1.0146 - val_mean_absolute_error: 0.8279\n",
            "Epoch 96/100\n",
            "72000/72000 [==============================] - 3s 36us/step - loss: 1.0477 - mean_absolute_error: 0.8251 - val_loss: 1.0157 - val_mean_absolute_error: 0.8268\n",
            "Epoch 97/100\n",
            "72000/72000 [==============================] - 3s 36us/step - loss: 1.0454 - mean_absolute_error: 0.8244 - val_loss: 1.0197 - val_mean_absolute_error: 0.8333\n",
            "Epoch 98/100\n",
            "72000/72000 [==============================] - 3s 36us/step - loss: 1.0507 - mean_absolute_error: 0.8270 - val_loss: 1.0198 - val_mean_absolute_error: 0.8325\n",
            "Epoch 99/100\n",
            "72000/72000 [==============================] - 3s 36us/step - loss: 1.0442 - mean_absolute_error: 0.8245 - val_loss: 1.0169 - val_mean_absolute_error: 0.8306\n",
            "Epoch 100/100\n",
            "72000/72000 [==============================] - 3s 36us/step - loss: 1.0481 - mean_absolute_error: 0.8254 - val_loss: 1.0137 - val_mean_absolute_error: 0.8238\n",
            "262.96587109565735\n"
          ],
          "name": "stdout"
        }
      ]
    },
    {
      "cell_type": "markdown",
      "metadata": {
        "id": "-s8wURgrMZ6M",
        "colab_type": "text"
      },
      "source": [
        "change optimizer"
      ]
    },
    {
      "cell_type": "code",
      "metadata": {
        "id": "-T84nUmwMeNU",
        "colab_type": "code",
        "colab": {
          "base_uri": "https://localhost:8080/",
          "height": 510
        },
        "outputId": "af2666f3-86fb-41b6-e100-169a3b3fb2b3"
      },
      "source": [
        "# create the model\n",
        "# Input variables\n",
        "user_input = Input(shape=(1,), dtype='int32', name = 'user_input')\n",
        "item_input = Input(shape=(1,), dtype='int32', name = 'item_input')\n",
        "\n",
        "num_users=len(users)\n",
        "num_items=len(genre)\n",
        "MF_Embedding_User = Embedding(input_dim = num_users+1, output_dim = 1, name = 'user_embedding', input_length=1)\n",
        "MF_Embedding_Item = Embedding(input_dim = num_items+1, output_dim = 1, name = 'item_embedding', input_length=1)\n",
        "\n",
        "# Crucial to flatten an embedding vector!\n",
        "user_latent = Flatten()(MF_Embedding_User(user_input))\n",
        "item_latent = Flatten()(MF_Embedding_Item(item_input))\n",
        "\n",
        "# Element-wise product of user and item embeddings\n",
        "conc = Concatenate()([user_latent, item_latent])\n",
        "drop = Dropout(0.5)(conc)\n",
        "hidden = Dense(5, activation='relu')(drop)\n",
        "prediction = Dense(1, activation='relu', kernel_initializer='lecun_uniform', name = 'prediction')(hidden)\n",
        "\n",
        "NCF_model3 = Model(input=[user_input, item_input], output=prediction)\n",
        "NCF_model3.summary()\n",
        "\n",
        "NCF_model3.compile(loss='mse',optimizer='sgd',metrics=['mae'])"
      ],
      "execution_count": 131,
      "outputs": [
        {
          "output_type": "stream",
          "text": [
            "__________________________________________________________________________________________________\n",
            "Layer (type)                    Output Shape         Param #     Connected to                     \n",
            "==================================================================================================\n",
            "user_input (InputLayer)         (None, 1)            0                                            \n",
            "__________________________________________________________________________________________________\n",
            "item_input (InputLayer)         (None, 1)            0                                            \n",
            "__________________________________________________________________________________________________\n",
            "user_embedding (Embedding)      (None, 1, 1)         944         user_input[0][0]                 \n",
            "__________________________________________________________________________________________________\n",
            "item_embedding (Embedding)      (None, 1, 1)         1683        item_input[0][0]                 \n",
            "__________________________________________________________________________________________________\n",
            "flatten_28 (Flatten)            (None, 1)            0           user_embedding[0][0]             \n",
            "__________________________________________________________________________________________________\n",
            "flatten_29 (Flatten)            (None, 1)            0           item_embedding[0][0]             \n",
            "__________________________________________________________________________________________________\n",
            "concatenate_14 (Concatenate)    (None, 2)            0           flatten_28[0][0]                 \n",
            "                                                                 flatten_29[0][0]                 \n",
            "__________________________________________________________________________________________________\n",
            "dropout_14 (Dropout)            (None, 2)            0           concatenate_14[0][0]             \n",
            "__________________________________________________________________________________________________\n",
            "dense_8 (Dense)                 (None, 5)            15          dropout_14[0][0]                 \n",
            "__________________________________________________________________________________________________\n",
            "prediction (Dense)              (None, 1)            6           dense_8[0][0]                    \n",
            "==================================================================================================\n",
            "Total params: 2,648\n",
            "Trainable params: 2,648\n",
            "Non-trainable params: 0\n",
            "__________________________________________________________________________________________________\n"
          ],
          "name": "stdout"
        },
        {
          "output_type": "stream",
          "text": [
            "/usr/local/lib/python3.6/dist-packages/ipykernel_launcher.py:19: UserWarning: Update your `Model` call to the Keras 2 API: `Model(inputs=[<tf.Tenso..., outputs=Tensor(\"pr...)`\n"
          ],
          "name": "stderr"
        }
      ]
    },
    {
      "cell_type": "code",
      "metadata": {
        "id": "uy8OeOsJM36U",
        "colab_type": "code",
        "colab": {
          "base_uri": "https://localhost:8080/",
          "height": 3485
        },
        "outputId": "0277d676-a0b2-4376-a2a8-8eb748415cde"
      },
      "source": [
        "# fit the model\n",
        "t0=time()\n",
        "NCF_model3.fit([Users, Movies], Ratings, nb_epoch=100, validation_split=.1, verbose=1, batch_size = 32)\n",
        "model3_time=time()-t0\n",
        "print(model3_time)"
      ],
      "execution_count": 132,
      "outputs": [
        {
          "output_type": "stream",
          "text": [
            "/usr/local/lib/python3.6/dist-packages/ipykernel_launcher.py:2: UserWarning: The `nb_epoch` argument in `fit` has been renamed `epochs`.\n",
            "  \n"
          ],
          "name": "stderr"
        },
        {
          "output_type": "stream",
          "text": [
            "Train on 72000 samples, validate on 8000 samples\n",
            "Epoch 1/100\n",
            "72000/72000 [==============================] - 3s 47us/step - loss: 1.3164 - mean_absolute_error: 0.9515 - val_loss: 1.1392 - val_mean_absolute_error: 0.8956\n",
            "Epoch 2/100\n",
            "72000/72000 [==============================] - 2s 33us/step - loss: 1.1560 - mean_absolute_error: 0.8847 - val_loss: 1.0825 - val_mean_absolute_error: 0.8371\n",
            "Epoch 3/100\n",
            "72000/72000 [==============================] - 2s 34us/step - loss: 1.1006 - mean_absolute_error: 0.8514 - val_loss: 1.0351 - val_mean_absolute_error: 0.8245\n",
            "Epoch 4/100\n",
            "72000/72000 [==============================] - 2s 33us/step - loss: 1.0858 - mean_absolute_error: 0.8441 - val_loss: 1.0207 - val_mean_absolute_error: 0.8204\n",
            "Epoch 5/100\n",
            "72000/72000 [==============================] - 2s 33us/step - loss: 1.0756 - mean_absolute_error: 0.8382 - val_loss: 1.0207 - val_mean_absolute_error: 0.8342\n",
            "Epoch 6/100\n",
            "72000/72000 [==============================] - 2s 34us/step - loss: 1.0723 - mean_absolute_error: 0.8378 - val_loss: 1.0110 - val_mean_absolute_error: 0.8217\n",
            "Epoch 7/100\n",
            "72000/72000 [==============================] - 2s 34us/step - loss: 1.0655 - mean_absolute_error: 0.8348 - val_loss: 1.0316 - val_mean_absolute_error: 0.8444\n",
            "Epoch 8/100\n",
            "72000/72000 [==============================] - 2s 33us/step - loss: 1.0668 - mean_absolute_error: 0.8351 - val_loss: 1.0143 - val_mean_absolute_error: 0.8247\n",
            "Epoch 9/100\n",
            "72000/72000 [==============================] - 2s 34us/step - loss: 1.0648 - mean_absolute_error: 0.8344 - val_loss: 1.0111 - val_mean_absolute_error: 0.8247\n",
            "Epoch 10/100\n",
            "72000/72000 [==============================] - 2s 35us/step - loss: 1.0577 - mean_absolute_error: 0.8302 - val_loss: 1.0157 - val_mean_absolute_error: 0.8136\n",
            "Epoch 11/100\n",
            "72000/72000 [==============================] - 2s 34us/step - loss: 1.0641 - mean_absolute_error: 0.8335 - val_loss: 1.0098 - val_mean_absolute_error: 0.8284\n",
            "Epoch 12/100\n",
            "72000/72000 [==============================] - 3s 37us/step - loss: 1.0600 - mean_absolute_error: 0.8320 - val_loss: 1.0054 - val_mean_absolute_error: 0.8226\n",
            "Epoch 13/100\n",
            "72000/72000 [==============================] - 3s 37us/step - loss: 1.0614 - mean_absolute_error: 0.8323 - val_loss: 1.0087 - val_mean_absolute_error: 0.8209\n",
            "Epoch 14/100\n",
            "72000/72000 [==============================] - 3s 37us/step - loss: 1.0617 - mean_absolute_error: 0.8325 - val_loss: 1.0151 - val_mean_absolute_error: 0.8332\n",
            "Epoch 15/100\n",
            "72000/72000 [==============================] - 3s 37us/step - loss: 1.0546 - mean_absolute_error: 0.8303 - val_loss: 1.0091 - val_mean_absolute_error: 0.8285\n",
            "Epoch 16/100\n",
            "72000/72000 [==============================] - 2s 34us/step - loss: 1.0615 - mean_absolute_error: 0.8329 - val_loss: 1.0075 - val_mean_absolute_error: 0.8180\n",
            "Epoch 17/100\n",
            "72000/72000 [==============================] - 2s 34us/step - loss: 1.0544 - mean_absolute_error: 0.8281 - val_loss: 1.0040 - val_mean_absolute_error: 0.8201\n",
            "Epoch 18/100\n",
            "72000/72000 [==============================] - 2s 34us/step - loss: 1.0556 - mean_absolute_error: 0.8292 - val_loss: 1.0037 - val_mean_absolute_error: 0.8143\n",
            "Epoch 19/100\n",
            "72000/72000 [==============================] - 2s 34us/step - loss: 1.0520 - mean_absolute_error: 0.8288 - val_loss: 1.0147 - val_mean_absolute_error: 0.8338\n",
            "Epoch 20/100\n",
            "72000/72000 [==============================] - 2s 33us/step - loss: 1.0523 - mean_absolute_error: 0.8281 - val_loss: 1.0034 - val_mean_absolute_error: 0.8214\n",
            "Epoch 21/100\n",
            "72000/72000 [==============================] - 2s 34us/step - loss: 1.0560 - mean_absolute_error: 0.8306 - val_loss: 1.0122 - val_mean_absolute_error: 0.8328\n",
            "Epoch 22/100\n",
            "72000/72000 [==============================] - 2s 34us/step - loss: 1.0558 - mean_absolute_error: 0.8290 - val_loss: 1.0069 - val_mean_absolute_error: 0.8282\n",
            "Epoch 23/100\n",
            "72000/72000 [==============================] - 2s 34us/step - loss: 1.0561 - mean_absolute_error: 0.8308 - val_loss: 1.0029 - val_mean_absolute_error: 0.8194\n",
            "Epoch 24/100\n",
            "72000/72000 [==============================] - 2s 34us/step - loss: 1.0553 - mean_absolute_error: 0.8306 - val_loss: 1.0056 - val_mean_absolute_error: 0.8270\n",
            "Epoch 25/100\n",
            "72000/72000 [==============================] - 2s 34us/step - loss: 1.0499 - mean_absolute_error: 0.8281 - val_loss: 1.0164 - val_mean_absolute_error: 0.8361\n",
            "Epoch 26/100\n",
            "72000/72000 [==============================] - 2s 35us/step - loss: 1.0572 - mean_absolute_error: 0.8309 - val_loss: 1.0032 - val_mean_absolute_error: 0.8185\n",
            "Epoch 27/100\n",
            "72000/72000 [==============================] - 2s 34us/step - loss: 1.0502 - mean_absolute_error: 0.8280 - val_loss: 1.0001 - val_mean_absolute_error: 0.8152\n",
            "Epoch 28/100\n",
            "72000/72000 [==============================] - 2s 34us/step - loss: 1.0515 - mean_absolute_error: 0.8282 - val_loss: 1.0022 - val_mean_absolute_error: 0.8224\n",
            "Epoch 29/100\n",
            "72000/72000 [==============================] - 2s 34us/step - loss: 1.0520 - mean_absolute_error: 0.8282 - val_loss: 1.0012 - val_mean_absolute_error: 0.8241\n",
            "Epoch 30/100\n",
            "72000/72000 [==============================] - 3s 36us/step - loss: 1.0565 - mean_absolute_error: 0.8300 - val_loss: 1.0029 - val_mean_absolute_error: 0.8192\n",
            "Epoch 31/100\n",
            "72000/72000 [==============================] - 3s 35us/step - loss: 1.0547 - mean_absolute_error: 0.8292 - val_loss: 1.0006 - val_mean_absolute_error: 0.8030\n",
            "Epoch 32/100\n",
            "72000/72000 [==============================] - 2s 34us/step - loss: 1.0525 - mean_absolute_error: 0.8276 - val_loss: 1.0020 - val_mean_absolute_error: 0.8175\n",
            "Epoch 33/100\n",
            "72000/72000 [==============================] - 2s 34us/step - loss: 1.0573 - mean_absolute_error: 0.8307 - val_loss: 1.0024 - val_mean_absolute_error: 0.8142\n",
            "Epoch 34/100\n",
            "72000/72000 [==============================] - 2s 34us/step - loss: 1.0528 - mean_absolute_error: 0.8289 - val_loss: 0.9993 - val_mean_absolute_error: 0.8190\n",
            "Epoch 35/100\n",
            "72000/72000 [==============================] - 2s 34us/step - loss: 1.0555 - mean_absolute_error: 0.8297 - val_loss: 1.0029 - val_mean_absolute_error: 0.8206\n",
            "Epoch 36/100\n",
            "72000/72000 [==============================] - 2s 34us/step - loss: 1.0552 - mean_absolute_error: 0.8302 - val_loss: 1.0069 - val_mean_absolute_error: 0.8278\n",
            "Epoch 37/100\n",
            "72000/72000 [==============================] - 2s 34us/step - loss: 1.0500 - mean_absolute_error: 0.8280 - val_loss: 1.0122 - val_mean_absolute_error: 0.8090\n",
            "Epoch 38/100\n",
            "72000/72000 [==============================] - 2s 34us/step - loss: 1.0567 - mean_absolute_error: 0.8318 - val_loss: 1.0039 - val_mean_absolute_error: 0.8205\n",
            "Epoch 39/100\n",
            "72000/72000 [==============================] - 2s 35us/step - loss: 1.0547 - mean_absolute_error: 0.8303 - val_loss: 0.9988 - val_mean_absolute_error: 0.8158\n",
            "Epoch 40/100\n",
            "72000/72000 [==============================] - 2s 35us/step - loss: 1.0522 - mean_absolute_error: 0.8278 - val_loss: 1.0073 - val_mean_absolute_error: 0.8249\n",
            "Epoch 41/100\n",
            "72000/72000 [==============================] - 2s 34us/step - loss: 1.0510 - mean_absolute_error: 0.8271 - val_loss: 1.0005 - val_mean_absolute_error: 0.8211\n",
            "Epoch 42/100\n",
            "72000/72000 [==============================] - 2s 33us/step - loss: 1.0518 - mean_absolute_error: 0.8282 - val_loss: 1.0093 - val_mean_absolute_error: 0.8295\n",
            "Epoch 43/100\n",
            "72000/72000 [==============================] - 2s 34us/step - loss: 1.0532 - mean_absolute_error: 0.8291 - val_loss: 1.0193 - val_mean_absolute_error: 0.8388\n",
            "Epoch 44/100\n",
            "72000/72000 [==============================] - 2s 34us/step - loss: 1.0518 - mean_absolute_error: 0.8281 - val_loss: 1.0075 - val_mean_absolute_error: 0.8071\n",
            "Epoch 45/100\n",
            "72000/72000 [==============================] - 2s 34us/step - loss: 1.0525 - mean_absolute_error: 0.8280 - val_loss: 0.9994 - val_mean_absolute_error: 0.8143\n",
            "Epoch 46/100\n",
            "72000/72000 [==============================] - 2s 35us/step - loss: 1.0499 - mean_absolute_error: 0.8269 - val_loss: 0.9965 - val_mean_absolute_error: 0.8188\n",
            "Epoch 47/100\n",
            "72000/72000 [==============================] - 2s 34us/step - loss: 1.0477 - mean_absolute_error: 0.8266 - val_loss: 1.0008 - val_mean_absolute_error: 0.8160\n",
            "Epoch 48/100\n",
            "72000/72000 [==============================] - 2s 34us/step - loss: 1.0527 - mean_absolute_error: 0.8290 - val_loss: 1.0043 - val_mean_absolute_error: 0.8257\n",
            "Epoch 49/100\n",
            "72000/72000 [==============================] - 2s 34us/step - loss: 1.0549 - mean_absolute_error: 0.8303 - val_loss: 0.9985 - val_mean_absolute_error: 0.8130\n",
            "Epoch 50/100\n",
            "72000/72000 [==============================] - 2s 34us/step - loss: 1.0523 - mean_absolute_error: 0.8301 - val_loss: 1.0042 - val_mean_absolute_error: 0.8254\n",
            "Epoch 51/100\n",
            "72000/72000 [==============================] - 2s 34us/step - loss: 1.0513 - mean_absolute_error: 0.8289 - val_loss: 1.0036 - val_mean_absolute_error: 0.8080\n",
            "Epoch 52/100\n",
            "72000/72000 [==============================] - 2s 34us/step - loss: 1.0504 - mean_absolute_error: 0.8272 - val_loss: 1.0009 - val_mean_absolute_error: 0.8228\n",
            "Epoch 53/100\n",
            "72000/72000 [==============================] - 2s 34us/step - loss: 1.0513 - mean_absolute_error: 0.8285 - val_loss: 0.9950 - val_mean_absolute_error: 0.8170\n",
            "Epoch 54/100\n",
            "72000/72000 [==============================] - 2s 34us/step - loss: 1.0525 - mean_absolute_error: 0.8290 - val_loss: 0.9988 - val_mean_absolute_error: 0.8169\n",
            "Epoch 55/100\n",
            "72000/72000 [==============================] - 2s 34us/step - loss: 1.0525 - mean_absolute_error: 0.8298 - val_loss: 1.0084 - val_mean_absolute_error: 0.8307\n",
            "Epoch 56/100\n",
            "72000/72000 [==============================] - 2s 34us/step - loss: 1.0503 - mean_absolute_error: 0.8280 - val_loss: 1.0058 - val_mean_absolute_error: 0.8281\n",
            "Epoch 57/100\n",
            "72000/72000 [==============================] - 2s 35us/step - loss: 1.0509 - mean_absolute_error: 0.8271 - val_loss: 1.0143 - val_mean_absolute_error: 0.8350\n",
            "Epoch 58/100\n",
            "72000/72000 [==============================] - 2s 34us/step - loss: 1.0516 - mean_absolute_error: 0.8286 - val_loss: 1.0126 - val_mean_absolute_error: 0.8320\n",
            "Epoch 59/100\n",
            "72000/72000 [==============================] - 2s 34us/step - loss: 1.0493 - mean_absolute_error: 0.8274 - val_loss: 1.0026 - val_mean_absolute_error: 0.8239\n",
            "Epoch 60/100\n",
            "72000/72000 [==============================] - 2s 34us/step - loss: 1.0547 - mean_absolute_error: 0.8299 - val_loss: 0.9994 - val_mean_absolute_error: 0.8220\n",
            "Epoch 61/100\n",
            "72000/72000 [==============================] - 2s 34us/step - loss: 1.0519 - mean_absolute_error: 0.8287 - val_loss: 1.0136 - val_mean_absolute_error: 0.8344\n",
            "Epoch 62/100\n",
            "72000/72000 [==============================] - 2s 33us/step - loss: 1.0489 - mean_absolute_error: 0.8277 - val_loss: 0.9999 - val_mean_absolute_error: 0.8194\n",
            "Epoch 63/100\n",
            "72000/72000 [==============================] - 2s 33us/step - loss: 1.0496 - mean_absolute_error: 0.8281 - val_loss: 1.0017 - val_mean_absolute_error: 0.8205\n",
            "Epoch 64/100\n",
            "72000/72000 [==============================] - 2s 34us/step - loss: 1.0484 - mean_absolute_error: 0.8265 - val_loss: 1.0064 - val_mean_absolute_error: 0.8289\n",
            "Epoch 65/100\n",
            "72000/72000 [==============================] - 2s 34us/step - loss: 1.0514 - mean_absolute_error: 0.8278 - val_loss: 0.9969 - val_mean_absolute_error: 0.8110\n",
            "Epoch 66/100\n",
            "72000/72000 [==============================] - 2s 34us/step - loss: 1.0518 - mean_absolute_error: 0.8277 - val_loss: 0.9945 - val_mean_absolute_error: 0.8043\n",
            "Epoch 67/100\n",
            "72000/72000 [==============================] - 2s 34us/step - loss: 1.0553 - mean_absolute_error: 0.8300 - val_loss: 1.0019 - val_mean_absolute_error: 0.8248\n",
            "Epoch 68/100\n",
            "72000/72000 [==============================] - 2s 34us/step - loss: 1.0521 - mean_absolute_error: 0.8293 - val_loss: 1.0051 - val_mean_absolute_error: 0.8243\n",
            "Epoch 69/100\n",
            "72000/72000 [==============================] - 2s 33us/step - loss: 1.0508 - mean_absolute_error: 0.8286 - val_loss: 1.0022 - val_mean_absolute_error: 0.8116\n",
            "Epoch 70/100\n",
            "72000/72000 [==============================] - 2s 34us/step - loss: 1.0495 - mean_absolute_error: 0.8271 - val_loss: 1.0136 - val_mean_absolute_error: 0.8344\n",
            "Epoch 71/100\n",
            "72000/72000 [==============================] - 2s 34us/step - loss: 1.0550 - mean_absolute_error: 0.8294 - val_loss: 1.0009 - val_mean_absolute_error: 0.8193\n",
            "Epoch 72/100\n",
            "72000/72000 [==============================] - 2s 34us/step - loss: 1.0518 - mean_absolute_error: 0.8285 - val_loss: 1.0004 - val_mean_absolute_error: 0.8188\n",
            "Epoch 73/100\n",
            "72000/72000 [==============================] - 2s 34us/step - loss: 1.0501 - mean_absolute_error: 0.8273 - val_loss: 0.9970 - val_mean_absolute_error: 0.8147\n",
            "Epoch 74/100\n",
            "72000/72000 [==============================] - 2s 34us/step - loss: 1.0529 - mean_absolute_error: 0.8292 - val_loss: 1.0034 - val_mean_absolute_error: 0.8233\n",
            "Epoch 75/100\n",
            "72000/72000 [==============================] - 2s 34us/step - loss: 1.0576 - mean_absolute_error: 0.8306 - val_loss: 1.0035 - val_mean_absolute_error: 0.8206\n",
            "Epoch 76/100\n",
            "72000/72000 [==============================] - 2s 34us/step - loss: 1.0480 - mean_absolute_error: 0.8281 - val_loss: 0.9970 - val_mean_absolute_error: 0.8152\n",
            "Epoch 77/100\n",
            "72000/72000 [==============================] - 2s 35us/step - loss: 1.0549 - mean_absolute_error: 0.8295 - val_loss: 0.9975 - val_mean_absolute_error: 0.8076\n",
            "Epoch 78/100\n",
            "72000/72000 [==============================] - 2s 34us/step - loss: 1.0529 - mean_absolute_error: 0.8277 - val_loss: 1.0063 - val_mean_absolute_error: 0.8287\n",
            "Epoch 79/100\n",
            "72000/72000 [==============================] - 2s 34us/step - loss: 1.0556 - mean_absolute_error: 0.8287 - val_loss: 1.0122 - val_mean_absolute_error: 0.8340\n",
            "Epoch 80/100\n",
            "72000/72000 [==============================] - 2s 34us/step - loss: 1.0495 - mean_absolute_error: 0.8268 - val_loss: 0.9992 - val_mean_absolute_error: 0.8146\n",
            "Epoch 81/100\n",
            "72000/72000 [==============================] - 2s 34us/step - loss: 1.0537 - mean_absolute_error: 0.8295 - val_loss: 1.0033 - val_mean_absolute_error: 0.8256\n",
            "Epoch 82/100\n",
            "72000/72000 [==============================] - 2s 34us/step - loss: 1.0503 - mean_absolute_error: 0.8271 - val_loss: 0.9997 - val_mean_absolute_error: 0.8194\n",
            "Epoch 83/100\n",
            "72000/72000 [==============================] - 2s 34us/step - loss: 1.0541 - mean_absolute_error: 0.8291 - val_loss: 1.0362 - val_mean_absolute_error: 0.8486\n",
            "Epoch 84/100\n",
            "72000/72000 [==============================] - 2s 34us/step - loss: 1.0553 - mean_absolute_error: 0.8296 - val_loss: 1.0721 - val_mean_absolute_error: 0.8645\n",
            "Epoch 85/100\n",
            "72000/72000 [==============================] - 2s 34us/step - loss: 1.0559 - mean_absolute_error: 0.8297 - val_loss: 1.0233 - val_mean_absolute_error: 0.8416\n",
            "Epoch 86/100\n",
            "72000/72000 [==============================] - 2s 34us/step - loss: 1.0490 - mean_absolute_error: 0.8277 - val_loss: 1.0009 - val_mean_absolute_error: 0.8057\n",
            "Epoch 87/100\n",
            "72000/72000 [==============================] - 2s 34us/step - loss: 1.0576 - mean_absolute_error: 0.8300 - val_loss: 1.0003 - val_mean_absolute_error: 0.8078\n",
            "Epoch 88/100\n",
            "72000/72000 [==============================] - 2s 34us/step - loss: 1.0589 - mean_absolute_error: 0.8297 - val_loss: 0.9981 - val_mean_absolute_error: 0.8140\n",
            "Epoch 89/100\n",
            "72000/72000 [==============================] - 2s 34us/step - loss: 1.0540 - mean_absolute_error: 0.8284 - val_loss: 1.0012 - val_mean_absolute_error: 0.8247\n",
            "Epoch 90/100\n",
            "72000/72000 [==============================] - 2s 35us/step - loss: 1.0559 - mean_absolute_error: 0.8292 - val_loss: 1.0004 - val_mean_absolute_error: 0.8056\n",
            "Epoch 91/100\n",
            "72000/72000 [==============================] - 2s 34us/step - loss: 1.0538 - mean_absolute_error: 0.8284 - val_loss: 1.0001 - val_mean_absolute_error: 0.8228\n",
            "Epoch 92/100\n",
            "72000/72000 [==============================] - 2s 34us/step - loss: 1.0587 - mean_absolute_error: 0.8313 - val_loss: 1.0007 - val_mean_absolute_error: 0.8112\n",
            "Epoch 93/100\n",
            "72000/72000 [==============================] - 2s 34us/step - loss: 1.0504 - mean_absolute_error: 0.8263 - val_loss: 0.9994 - val_mean_absolute_error: 0.8139\n",
            "Epoch 94/100\n",
            "72000/72000 [==============================] - 2s 35us/step - loss: 1.0546 - mean_absolute_error: 0.8288 - val_loss: 1.0022 - val_mean_absolute_error: 0.8241\n",
            "Epoch 95/100\n",
            "72000/72000 [==============================] - 2s 34us/step - loss: 1.0557 - mean_absolute_error: 0.8298 - val_loss: 1.0561 - val_mean_absolute_error: 0.8576\n",
            "Epoch 96/100\n",
            "72000/72000 [==============================] - 2s 34us/step - loss: 1.0504 - mean_absolute_error: 0.8273 - val_loss: 1.0029 - val_mean_absolute_error: 0.8267\n",
            "Epoch 97/100\n",
            "72000/72000 [==============================] - 2s 34us/step - loss: 1.0548 - mean_absolute_error: 0.8284 - val_loss: 0.9966 - val_mean_absolute_error: 0.8157\n",
            "Epoch 98/100\n",
            "72000/72000 [==============================] - 2s 34us/step - loss: 1.0603 - mean_absolute_error: 0.8314 - val_loss: 1.0109 - val_mean_absolute_error: 0.8329\n",
            "Epoch 99/100\n",
            "72000/72000 [==============================] - 2s 35us/step - loss: 1.0580 - mean_absolute_error: 0.8302 - val_loss: 1.0178 - val_mean_absolute_error: 0.8380\n",
            "Epoch 100/100\n",
            "72000/72000 [==============================] - 2s 34us/step - loss: 1.0678 - mean_absolute_error: 0.8341 - val_loss: 1.0021 - val_mean_absolute_error: 0.8254\n",
            "247.33246421813965\n"
          ],
          "name": "stdout"
        }
      ]
    },
    {
      "cell_type": "markdown",
      "metadata": {
        "id": "qFpgoOIANIiO",
        "colab_type": "text"
      },
      "source": [
        "Predict and calculate MAE for models"
      ]
    },
    {
      "cell_type": "code",
      "metadata": {
        "id": "IcnJGOZKNOal",
        "colab_type": "code",
        "colab": {
          "base_uri": "https://localhost:8080/",
          "height": 119
        },
        "outputId": "787e8d9d-e4ce-4a8d-d940-3cc4b7c7a867"
      },
      "source": [
        "# Model1\n",
        "result1=NCF_model1.predict([ratings_test['userid'],ratings_test['movieid']])\n",
        "print('Model1 MAE: ', mean_absolute_error(ratings_test['rating'], result1))\n",
        "print ('Model1 training time in seconds: ', model1_time)\n",
        "# Model2\n",
        "result2=NCF_model2.predict([ratings_test['userid'],ratings_test['movieid']])\n",
        "print('Model2 MAE: ', mean_absolute_error(ratings_test['rating'], result2))\n",
        "print ('Model2 training time in seconds: ', model2_time)\n",
        "# Model3\n",
        "result3=NCF_model3.predict([ratings_test['userid'],ratings_test['movieid']])\n",
        "print('Model3 MAE: ', mean_absolute_error(ratings_test['rating'], result3))\n",
        "print ('Model3 training time in seconds: ', model3_time)"
      ],
      "execution_count": 138,
      "outputs": [
        {
          "output_type": "stream",
          "text": [
            "Model1 MAE:  0.8179924059450626\n",
            "Model1 training time in seconds:  254.6515007019043\n",
            "Model2 MAE:  0.8108174131512642\n",
            "Model2 training time in seconds:  262.96587109565735\n",
            "Model3 MAE:  0.81453034465909\n",
            "Model3 training time in seconds:  247.33246421813965\n"
          ],
          "name": "stdout"
        }
      ]
    },
    {
      "cell_type": "markdown",
      "metadata": {
        "id": "M603EVvQv9qR",
        "colab_type": "text"
      },
      "source": [
        "**f - compare different models**\n",
        "\n",
        "As we can see, the models are very similar in training time and MAE.\n",
        "The shortest training time is in model 3 , and the best MAE is in model 2."
      ]
    },
    {
      "cell_type": "markdown",
      "metadata": {
        "id": "Kt7dZb2EaJ8P",
        "colab_type": "text"
      },
      "source": [
        "# 5"
      ]
    },
    {
      "cell_type": "markdown",
      "metadata": {
        "id": "HO_qyQ6JafMe",
        "colab_type": "text"
      },
      "source": [
        "**a - suggest model**"
      ]
    },
    {
      "cell_type": "markdown",
      "metadata": {
        "id": "50uJBgg9YOj3",
        "colab_type": "text"
      },
      "source": [
        "In addition to the ranking data we will use the age and gender of the user.\n",
        "We will fit 3 NCF models:\n",
        "\n",
        "1 - one hidden layers, optimizer Adamax\n",
        "\n",
        "2 - ten hidden layers, optimizer Adamax\n",
        "\n",
        "3 - ten hidden layers, optimizer sgd\n",
        "\n",
        "We will add to the train and test data the user data (age and gender), and change gender to be numeric for NCF.\n",
        "\n",
        "The ultimate model will also use the data about the movie like: genre, release year etc.\n"
      ]
    },
    {
      "cell_type": "markdown",
      "metadata": {
        "id": "0hcLnvtPbGED",
        "colab_type": "text"
      },
      "source": [
        "**b - implement model** Using age and gender"
      ]
    },
    {
      "cell_type": "code",
      "metadata": {
        "id": "9OQKyIuWdd2y",
        "colab_type": "code",
        "colab": {
          "base_uri": "https://localhost:8080/",
          "height": 476
        },
        "outputId": "64997a8e-6d93-48c4-c318-25d5de9e1c9b"
      },
      "source": [
        "# Model 1:\n",
        "# Input variables\n",
        "user_input = Input(shape=(1,), dtype='int32', name = 'user_input')\n",
        "item_input = Input(shape=(1,), dtype='int32', name = 'item_input')\n",
        "user_age_input = Input(shape=(1,), dtype='float32', name = 'user_age_input')\n",
        "user_gender_input = Input(shape=(1,), dtype='float32', name = 'user_gender_input')\n",
        "\n",
        "num_users=len(users)\n",
        "num_items=len(genre)\n",
        "MF_Embedding_User = Embedding(input_dim = num_users+1, output_dim = 1, name = 'user_embedding', input_length=1)\n",
        "MF_Embedding_Item = Embedding(input_dim = num_items+1, output_dim = 1, name = 'item_embedding', input_length=1)\n",
        "\n",
        "# Crucial to flatten an embedding vector!\n",
        "user_latent = Flatten()(MF_Embedding_User(user_input))\n",
        "item_latent = Flatten()(MF_Embedding_Item(item_input))\n",
        "\n",
        "# Element-wise product of user and item embeddings\n",
        "conc = Concatenate()([user_latent, item_latent])\n",
        "drop = Dropout(0.5)(conc)\n",
        "prediction = Dense(1, activation='relu', kernel_initializer='lecun_uniform', name = 'prediction')(drop)\n",
        "\n",
        "NCF_model1 = Model(input=[user_input, item_input, user_age_input, user_gender_input], output=prediction)\n",
        "NCF_model1.summary()\n",
        "\n",
        "NCF_model1.compile(loss='mse',optimizer=Adamax(lr=0.001),metrics=['mae'])"
      ],
      "execution_count": 150,
      "outputs": [
        {
          "output_type": "stream",
          "text": [
            "__________________________________________________________________________________________________\n",
            "Layer (type)                    Output Shape         Param #     Connected to                     \n",
            "==================================================================================================\n",
            "user_input (InputLayer)         (None, 1)            0                                            \n",
            "__________________________________________________________________________________________________\n",
            "item_input (InputLayer)         (None, 1)            0                                            \n",
            "__________________________________________________________________________________________________\n",
            "user_embedding (Embedding)      (None, 1, 1)         944         user_input[0][0]                 \n",
            "__________________________________________________________________________________________________\n",
            "item_embedding (Embedding)      (None, 1, 1)         1683        item_input[0][0]                 \n",
            "__________________________________________________________________________________________________\n",
            "flatten_37 (Flatten)            (None, 1)            0           user_embedding[0][0]             \n",
            "__________________________________________________________________________________________________\n",
            "flatten_38 (Flatten)            (None, 1)            0           item_embedding[0][0]             \n",
            "__________________________________________________________________________________________________\n",
            "concatenate_18 (Concatenate)    (None, 2)            0           flatten_37[0][0]                 \n",
            "                                                                 flatten_38[0][0]                 \n",
            "__________________________________________________________________________________________________\n",
            "dropout_18 (Dropout)            (None, 2)            0           concatenate_18[0][0]             \n",
            "__________________________________________________________________________________________________\n",
            "prediction (Dense)              (None, 1)            3           dropout_18[0][0]                 \n",
            "==================================================================================================\n",
            "Total params: 2,630\n",
            "Trainable params: 2,630\n",
            "Non-trainable params: 0\n",
            "__________________________________________________________________________________________________\n"
          ],
          "name": "stdout"
        },
        {
          "output_type": "stream",
          "text": [
            "/usr/local/lib/python3.6/dist-packages/ipykernel_launcher.py:20: UserWarning: Update your `Model` call to the Keras 2 API: `Model(inputs=[<tf.Tenso..., outputs=Tensor(\"pr...)`\n"
          ],
          "name": "stderr"
        }
      ]
    },
    {
      "cell_type": "code",
      "metadata": {
        "id": "lzCXmBs3V4io",
        "colab_type": "code",
        "colab": {
          "base_uri": "https://localhost:8080/",
          "height": 3791
        },
        "outputId": "b504066a-aec6-4b89-b7f5-fc5710cd19b8"
      },
      "source": [
        "test_with_users=pd.merge(ratings_test,users)\n",
        "test_with_users['gender'].replace('F', 0, inplace=True)\n",
        "test_with_users['gender'].replace('M', 1, inplace=True)\n",
        "train_with_users=pd.merge(ratings_training, users)\n",
        "train_with_users['gender'].replace('F', 0, inplace=True)\n",
        "train_with_users['gender'].replace('M', 1, inplace=True)\n",
        "# fit the model\n",
        "Age=train_with_users['age'].values\n",
        "Gender=train_with_users['gender'].values\n",
        "NCF_model1.fit([Users, Movies, Age, Gender], Ratings, nb_epoch=100, validation_split=.1, verbose=1, batch_size = 32)\n"
      ],
      "execution_count": 152,
      "outputs": [
        {
          "output_type": "stream",
          "text": [
            "/usr/local/lib/python3.6/dist-packages/ipykernel_launcher.py:11: UserWarning: The `nb_epoch` argument in `fit` has been renamed `epochs`.\n",
            "  # This is added back by InteractiveShellApp.init_path()\n"
          ],
          "name": "stderr"
        },
        {
          "output_type": "stream",
          "text": [
            "Train on 72000 samples, validate on 8000 samples\n",
            "Epoch 1/100\n",
            "72000/72000 [==============================] - 3s 46us/step - loss: 7.8233 - mean_absolute_error: 2.5224 - val_loss: 3.7622 - val_mean_absolute_error: 1.7052\n",
            "Epoch 2/100\n",
            "72000/72000 [==============================] - 3s 37us/step - loss: 1.8885 - mean_absolute_error: 1.1461 - val_loss: 1.2361 - val_mean_absolute_error: 0.9282\n",
            "Epoch 3/100\n",
            "72000/72000 [==============================] - 3s 37us/step - loss: 1.2290 - mean_absolute_error: 0.9128 - val_loss: 1.1390 - val_mean_absolute_error: 0.8989\n",
            "Epoch 4/100\n",
            "72000/72000 [==============================] - 3s 37us/step - loss: 1.1881 - mean_absolute_error: 0.8948 - val_loss: 1.1169 - val_mean_absolute_error: 0.8890\n",
            "Epoch 5/100\n",
            "72000/72000 [==============================] - 3s 37us/step - loss: 1.1624 - mean_absolute_error: 0.8821 - val_loss: 1.1044 - val_mean_absolute_error: 0.8827\n",
            "Epoch 6/100\n",
            "72000/72000 [==============================] - 3s 37us/step - loss: 1.1429 - mean_absolute_error: 0.8732 - val_loss: 1.0957 - val_mean_absolute_error: 0.8778\n",
            "Epoch 7/100\n",
            "72000/72000 [==============================] - 3s 38us/step - loss: 1.1310 - mean_absolute_error: 0.8665 - val_loss: 1.0862 - val_mean_absolute_error: 0.8727\n",
            "Epoch 8/100\n",
            "72000/72000 [==============================] - 3s 36us/step - loss: 1.1217 - mean_absolute_error: 0.8610 - val_loss: 1.0796 - val_mean_absolute_error: 0.8690\n",
            "Epoch 9/100\n",
            "72000/72000 [==============================] - 3s 37us/step - loss: 1.1158 - mean_absolute_error: 0.8578 - val_loss: 1.0716 - val_mean_absolute_error: 0.8643\n",
            "Epoch 10/100\n",
            "72000/72000 [==============================] - 3s 38us/step - loss: 1.1080 - mean_absolute_error: 0.8544 - val_loss: 1.0674 - val_mean_absolute_error: 0.8618\n",
            "Epoch 11/100\n",
            "72000/72000 [==============================] - 3s 37us/step - loss: 1.1046 - mean_absolute_error: 0.8522 - val_loss: 1.0638 - val_mean_absolute_error: 0.8596\n",
            "Epoch 12/100\n",
            "72000/72000 [==============================] - 3s 37us/step - loss: 1.0955 - mean_absolute_error: 0.8476 - val_loss: 1.0609 - val_mean_absolute_error: 0.8578\n",
            "Epoch 13/100\n",
            "72000/72000 [==============================] - 3s 37us/step - loss: 1.0966 - mean_absolute_error: 0.8480 - val_loss: 1.0558 - val_mean_absolute_error: 0.8547\n",
            "Epoch 14/100\n",
            "72000/72000 [==============================] - 3s 38us/step - loss: 1.0902 - mean_absolute_error: 0.8456 - val_loss: 1.0535 - val_mean_absolute_error: 0.8534\n",
            "Epoch 15/100\n",
            "72000/72000 [==============================] - 3s 37us/step - loss: 1.0836 - mean_absolute_error: 0.8425 - val_loss: 1.0497 - val_mean_absolute_error: 0.8509\n",
            "Epoch 16/100\n",
            "72000/72000 [==============================] - 3s 37us/step - loss: 1.0850 - mean_absolute_error: 0.8429 - val_loss: 1.0489 - val_mean_absolute_error: 0.8507\n",
            "Epoch 17/100\n",
            "72000/72000 [==============================] - 3s 38us/step - loss: 1.0824 - mean_absolute_error: 0.8410 - val_loss: 1.0420 - val_mean_absolute_error: 0.8459\n",
            "Epoch 18/100\n",
            "72000/72000 [==============================] - 3s 37us/step - loss: 1.0789 - mean_absolute_error: 0.8398 - val_loss: 1.0414 - val_mean_absolute_error: 0.8460\n",
            "Epoch 19/100\n",
            "72000/72000 [==============================] - 3s 38us/step - loss: 1.0757 - mean_absolute_error: 0.8383 - val_loss: 1.0381 - val_mean_absolute_error: 0.8437\n",
            "Epoch 20/100\n",
            "72000/72000 [==============================] - 3s 37us/step - loss: 1.0800 - mean_absolute_error: 0.8393 - val_loss: 1.0379 - val_mean_absolute_error: 0.8438\n",
            "Epoch 21/100\n",
            "72000/72000 [==============================] - 3s 37us/step - loss: 1.0740 - mean_absolute_error: 0.8368 - val_loss: 1.0375 - val_mean_absolute_error: 0.8437\n",
            "Epoch 22/100\n",
            "72000/72000 [==============================] - 3s 38us/step - loss: 1.0690 - mean_absolute_error: 0.8355 - val_loss: 1.0367 - val_mean_absolute_error: 0.8432\n",
            "Epoch 23/100\n",
            "72000/72000 [==============================] - 3s 37us/step - loss: 1.0736 - mean_absolute_error: 0.8372 - val_loss: 1.0372 - val_mean_absolute_error: 0.8436\n",
            "Epoch 24/100\n",
            "72000/72000 [==============================] - 3s 38us/step - loss: 1.0657 - mean_absolute_error: 0.8335 - val_loss: 1.0328 - val_mean_absolute_error: 0.8402\n",
            "Epoch 25/100\n",
            "72000/72000 [==============================] - 3s 37us/step - loss: 1.0688 - mean_absolute_error: 0.8351 - val_loss: 1.0332 - val_mean_absolute_error: 0.8411\n",
            "Epoch 26/100\n",
            "72000/72000 [==============================] - 3s 38us/step - loss: 1.0673 - mean_absolute_error: 0.8338 - val_loss: 1.0319 - val_mean_absolute_error: 0.8405\n",
            "Epoch 27/100\n",
            "72000/72000 [==============================] - 3s 37us/step - loss: 1.0663 - mean_absolute_error: 0.8338 - val_loss: 1.0301 - val_mean_absolute_error: 0.8393\n",
            "Epoch 28/100\n",
            "72000/72000 [==============================] - 3s 37us/step - loss: 1.0627 - mean_absolute_error: 0.8327 - val_loss: 1.0275 - val_mean_absolute_error: 0.8372\n",
            "Epoch 29/100\n",
            "72000/72000 [==============================] - 3s 37us/step - loss: 1.0639 - mean_absolute_error: 0.8324 - val_loss: 1.0285 - val_mean_absolute_error: 0.8383\n",
            "Epoch 30/100\n",
            "72000/72000 [==============================] - 3s 38us/step - loss: 1.0654 - mean_absolute_error: 0.8332 - val_loss: 1.0298 - val_mean_absolute_error: 0.8394\n",
            "Epoch 31/100\n",
            "72000/72000 [==============================] - 3s 38us/step - loss: 1.0618 - mean_absolute_error: 0.8319 - val_loss: 1.0264 - val_mean_absolute_error: 0.8367\n",
            "Epoch 32/100\n",
            "72000/72000 [==============================] - 3s 37us/step - loss: 1.0653 - mean_absolute_error: 0.8340 - val_loss: 1.0271 - val_mean_absolute_error: 0.8375\n",
            "Epoch 33/100\n",
            "72000/72000 [==============================] - 3s 37us/step - loss: 1.0613 - mean_absolute_error: 0.8317 - val_loss: 1.0254 - val_mean_absolute_error: 0.8364\n",
            "Epoch 34/100\n",
            "72000/72000 [==============================] - 3s 38us/step - loss: 1.0619 - mean_absolute_error: 0.8314 - val_loss: 1.0255 - val_mean_absolute_error: 0.8369\n",
            "Epoch 35/100\n",
            "72000/72000 [==============================] - 3s 37us/step - loss: 1.0608 - mean_absolute_error: 0.8315 - val_loss: 1.0232 - val_mean_absolute_error: 0.8351\n",
            "Epoch 36/100\n",
            "72000/72000 [==============================] - 3s 38us/step - loss: 1.0606 - mean_absolute_error: 0.8309 - val_loss: 1.0224 - val_mean_absolute_error: 0.8347\n",
            "Epoch 37/100\n",
            "72000/72000 [==============================] - 3s 38us/step - loss: 1.0614 - mean_absolute_error: 0.8315 - val_loss: 1.0250 - val_mean_absolute_error: 0.8372\n",
            "Epoch 38/100\n",
            "72000/72000 [==============================] - 3s 38us/step - loss: 1.0612 - mean_absolute_error: 0.8315 - val_loss: 1.0226 - val_mean_absolute_error: 0.8353\n",
            "Epoch 39/100\n",
            "72000/72000 [==============================] - 3s 38us/step - loss: 1.0570 - mean_absolute_error: 0.8298 - val_loss: 1.0228 - val_mean_absolute_error: 0.8358\n",
            "Epoch 40/100\n",
            "72000/72000 [==============================] - 3s 38us/step - loss: 1.0613 - mean_absolute_error: 0.8313 - val_loss: 1.0218 - val_mean_absolute_error: 0.8349\n",
            "Epoch 41/100\n",
            "72000/72000 [==============================] - 3s 38us/step - loss: 1.0565 - mean_absolute_error: 0.8290 - val_loss: 1.0207 - val_mean_absolute_error: 0.8340\n",
            "Epoch 42/100\n",
            "72000/72000 [==============================] - 3s 38us/step - loss: 1.0590 - mean_absolute_error: 0.8303 - val_loss: 1.0206 - val_mean_absolute_error: 0.8341\n",
            "Epoch 43/100\n",
            "72000/72000 [==============================] - 3s 38us/step - loss: 1.0552 - mean_absolute_error: 0.8303 - val_loss: 1.0181 - val_mean_absolute_error: 0.8319\n",
            "Epoch 44/100\n",
            "72000/72000 [==============================] - 3s 37us/step - loss: 1.0612 - mean_absolute_error: 0.8313 - val_loss: 1.0207 - val_mean_absolute_error: 0.8345\n",
            "Epoch 45/100\n",
            "72000/72000 [==============================] - 3s 38us/step - loss: 1.0599 - mean_absolute_error: 0.8314 - val_loss: 1.0197 - val_mean_absolute_error: 0.8339\n",
            "Epoch 46/100\n",
            "72000/72000 [==============================] - 3s 37us/step - loss: 1.0601 - mean_absolute_error: 0.8313 - val_loss: 1.0196 - val_mean_absolute_error: 0.8339\n",
            "Epoch 47/100\n",
            "72000/72000 [==============================] - 3s 37us/step - loss: 1.0566 - mean_absolute_error: 0.8300 - val_loss: 1.0198 - val_mean_absolute_error: 0.8342\n",
            "Epoch 48/100\n",
            "72000/72000 [==============================] - 3s 38us/step - loss: 1.0560 - mean_absolute_error: 0.8293 - val_loss: 1.0194 - val_mean_absolute_error: 0.8341\n",
            "Epoch 49/100\n",
            "72000/72000 [==============================] - 3s 37us/step - loss: 1.0571 - mean_absolute_error: 0.8297 - val_loss: 1.0174 - val_mean_absolute_error: 0.8319\n",
            "Epoch 50/100\n",
            "72000/72000 [==============================] - 3s 37us/step - loss: 1.0543 - mean_absolute_error: 0.8283 - val_loss: 1.0181 - val_mean_absolute_error: 0.8327\n",
            "Epoch 51/100\n",
            "72000/72000 [==============================] - 3s 37us/step - loss: 1.0552 - mean_absolute_error: 0.8279 - val_loss: 1.0178 - val_mean_absolute_error: 0.8325\n",
            "Epoch 52/100\n",
            "72000/72000 [==============================] - 3s 38us/step - loss: 1.0593 - mean_absolute_error: 0.8304 - val_loss: 1.0186 - val_mean_absolute_error: 0.8333\n",
            "Epoch 53/100\n",
            "72000/72000 [==============================] - 3s 37us/step - loss: 1.0540 - mean_absolute_error: 0.8284 - val_loss: 1.0182 - val_mean_absolute_error: 0.8332\n",
            "Epoch 54/100\n",
            "72000/72000 [==============================] - 3s 37us/step - loss: 1.0558 - mean_absolute_error: 0.8286 - val_loss: 1.0173 - val_mean_absolute_error: 0.8324\n",
            "Epoch 55/100\n",
            "72000/72000 [==============================] - 3s 37us/step - loss: 1.0524 - mean_absolute_error: 0.8280 - val_loss: 1.0160 - val_mean_absolute_error: 0.8315\n",
            "Epoch 56/100\n",
            "72000/72000 [==============================] - 3s 37us/step - loss: 1.0538 - mean_absolute_error: 0.8273 - val_loss: 1.0168 - val_mean_absolute_error: 0.8322\n",
            "Epoch 57/100\n",
            "72000/72000 [==============================] - 3s 38us/step - loss: 1.0501 - mean_absolute_error: 0.8272 - val_loss: 1.0155 - val_mean_absolute_error: 0.8311\n",
            "Epoch 58/100\n",
            "72000/72000 [==============================] - 3s 37us/step - loss: 1.0555 - mean_absolute_error: 0.8289 - val_loss: 1.0148 - val_mean_absolute_error: 0.8306\n",
            "Epoch 59/100\n",
            "72000/72000 [==============================] - 3s 37us/step - loss: 1.0545 - mean_absolute_error: 0.8282 - val_loss: 1.0146 - val_mean_absolute_error: 0.8306\n",
            "Epoch 60/100\n",
            "72000/72000 [==============================] - 3s 37us/step - loss: 1.0547 - mean_absolute_error: 0.8277 - val_loss: 1.0160 - val_mean_absolute_error: 0.8323\n",
            "Epoch 61/100\n",
            "72000/72000 [==============================] - 3s 38us/step - loss: 1.0549 - mean_absolute_error: 0.8283 - val_loss: 1.0166 - val_mean_absolute_error: 0.8330\n",
            "Epoch 62/100\n",
            "72000/72000 [==============================] - 3s 37us/step - loss: 1.0564 - mean_absolute_error: 0.8297 - val_loss: 1.0156 - val_mean_absolute_error: 0.8323\n",
            "Epoch 63/100\n",
            "72000/72000 [==============================] - 3s 37us/step - loss: 1.0581 - mean_absolute_error: 0.8301 - val_loss: 1.0154 - val_mean_absolute_error: 0.8322\n",
            "Epoch 64/100\n",
            "72000/72000 [==============================] - 3s 37us/step - loss: 1.0572 - mean_absolute_error: 0.8303 - val_loss: 1.0148 - val_mean_absolute_error: 0.8316\n",
            "Epoch 65/100\n",
            "72000/72000 [==============================] - 3s 37us/step - loss: 1.0539 - mean_absolute_error: 0.8292 - val_loss: 1.0142 - val_mean_absolute_error: 0.8311\n",
            "Epoch 66/100\n",
            "72000/72000 [==============================] - 3s 37us/step - loss: 1.0497 - mean_absolute_error: 0.8267 - val_loss: 1.0133 - val_mean_absolute_error: 0.8304\n",
            "Epoch 67/100\n",
            "72000/72000 [==============================] - 3s 37us/step - loss: 1.0569 - mean_absolute_error: 0.8290 - val_loss: 1.0154 - val_mean_absolute_error: 0.8325\n",
            "Epoch 68/100\n",
            "72000/72000 [==============================] - 3s 37us/step - loss: 1.0537 - mean_absolute_error: 0.8285 - val_loss: 1.0139 - val_mean_absolute_error: 0.8312\n",
            "Epoch 69/100\n",
            "72000/72000 [==============================] - 3s 37us/step - loss: 1.0546 - mean_absolute_error: 0.8287 - val_loss: 1.0142 - val_mean_absolute_error: 0.8314\n",
            "Epoch 70/100\n",
            "72000/72000 [==============================] - 3s 37us/step - loss: 1.0545 - mean_absolute_error: 0.8292 - val_loss: 1.0137 - val_mean_absolute_error: 0.8310\n",
            "Epoch 71/100\n",
            "72000/72000 [==============================] - 3s 38us/step - loss: 1.0486 - mean_absolute_error: 0.8263 - val_loss: 1.0122 - val_mean_absolute_error: 0.8295\n",
            "Epoch 72/100\n",
            "72000/72000 [==============================] - 3s 41us/step - loss: 1.0468 - mean_absolute_error: 0.8252 - val_loss: 1.0121 - val_mean_absolute_error: 0.8296\n",
            "Epoch 73/100\n",
            "72000/72000 [==============================] - 3s 41us/step - loss: 1.0510 - mean_absolute_error: 0.8267 - val_loss: 1.0127 - val_mean_absolute_error: 0.8301\n",
            "Epoch 74/100\n",
            "72000/72000 [==============================] - 3s 41us/step - loss: 1.0526 - mean_absolute_error: 0.8273 - val_loss: 1.0136 - val_mean_absolute_error: 0.8310\n",
            "Epoch 75/100\n",
            "72000/72000 [==============================] - 3s 40us/step - loss: 1.0515 - mean_absolute_error: 0.8274 - val_loss: 1.0129 - val_mean_absolute_error: 0.8305\n",
            "Epoch 76/100\n",
            "72000/72000 [==============================] - 3s 38us/step - loss: 1.0475 - mean_absolute_error: 0.8263 - val_loss: 1.0130 - val_mean_absolute_error: 0.8307\n",
            "Epoch 77/100\n",
            "72000/72000 [==============================] - 3s 37us/step - loss: 1.0483 - mean_absolute_error: 0.8252 - val_loss: 1.0143 - val_mean_absolute_error: 0.8317\n",
            "Epoch 78/100\n",
            "72000/72000 [==============================] - 3s 37us/step - loss: 1.0460 - mean_absolute_error: 0.8260 - val_loss: 1.0117 - val_mean_absolute_error: 0.8298\n",
            "Epoch 79/100\n",
            "72000/72000 [==============================] - 3s 38us/step - loss: 1.0533 - mean_absolute_error: 0.8290 - val_loss: 1.0143 - val_mean_absolute_error: 0.8321\n",
            "Epoch 80/100\n",
            "72000/72000 [==============================] - 3s 37us/step - loss: 1.0534 - mean_absolute_error: 0.8284 - val_loss: 1.0141 - val_mean_absolute_error: 0.8318\n",
            "Epoch 81/100\n",
            "72000/72000 [==============================] - 3s 37us/step - loss: 1.0532 - mean_absolute_error: 0.8278 - val_loss: 1.0137 - val_mean_absolute_error: 0.8315\n",
            "Epoch 82/100\n",
            "72000/72000 [==============================] - 3s 38us/step - loss: 1.0518 - mean_absolute_error: 0.8272 - val_loss: 1.0130 - val_mean_absolute_error: 0.8312\n",
            "Epoch 83/100\n",
            "72000/72000 [==============================] - 3s 38us/step - loss: 1.0538 - mean_absolute_error: 0.8276 - val_loss: 1.0121 - val_mean_absolute_error: 0.8304\n",
            "Epoch 84/100\n",
            "72000/72000 [==============================] - 3s 37us/step - loss: 1.0485 - mean_absolute_error: 0.8259 - val_loss: 1.0116 - val_mean_absolute_error: 0.8297\n",
            "Epoch 85/100\n",
            "72000/72000 [==============================] - 3s 38us/step - loss: 1.0544 - mean_absolute_error: 0.8286 - val_loss: 1.0136 - val_mean_absolute_error: 0.8320\n",
            "Epoch 86/100\n",
            "72000/72000 [==============================] - 3s 37us/step - loss: 1.0506 - mean_absolute_error: 0.8274 - val_loss: 1.0117 - val_mean_absolute_error: 0.8301\n",
            "Epoch 87/100\n",
            "72000/72000 [==============================] - 3s 38us/step - loss: 1.0505 - mean_absolute_error: 0.8264 - val_loss: 1.0123 - val_mean_absolute_error: 0.8307\n",
            "Epoch 88/100\n",
            "72000/72000 [==============================] - 3s 38us/step - loss: 1.0553 - mean_absolute_error: 0.8294 - val_loss: 1.0114 - val_mean_absolute_error: 0.8297\n",
            "Epoch 89/100\n",
            "72000/72000 [==============================] - 3s 37us/step - loss: 1.0533 - mean_absolute_error: 0.8277 - val_loss: 1.0125 - val_mean_absolute_error: 0.8311\n",
            "Epoch 90/100\n",
            "72000/72000 [==============================] - 3s 38us/step - loss: 1.0533 - mean_absolute_error: 0.8277 - val_loss: 1.0118 - val_mean_absolute_error: 0.8304\n",
            "Epoch 91/100\n",
            "72000/72000 [==============================] - 3s 38us/step - loss: 1.0508 - mean_absolute_error: 0.8266 - val_loss: 1.0117 - val_mean_absolute_error: 0.8302\n",
            "Epoch 92/100\n",
            "72000/72000 [==============================] - 3s 37us/step - loss: 1.0522 - mean_absolute_error: 0.8282 - val_loss: 1.0138 - val_mean_absolute_error: 0.8323\n",
            "Epoch 93/100\n",
            "72000/72000 [==============================] - 3s 38us/step - loss: 1.0515 - mean_absolute_error: 0.8276 - val_loss: 1.0127 - val_mean_absolute_error: 0.8314\n",
            "Epoch 94/100\n",
            "72000/72000 [==============================] - 3s 37us/step - loss: 1.0503 - mean_absolute_error: 0.8270 - val_loss: 1.0108 - val_mean_absolute_error: 0.8294\n",
            "Epoch 95/100\n",
            "72000/72000 [==============================] - 3s 37us/step - loss: 1.0488 - mean_absolute_error: 0.8258 - val_loss: 1.0103 - val_mean_absolute_error: 0.8290\n",
            "Epoch 96/100\n",
            "72000/72000 [==============================] - 3s 37us/step - loss: 1.0517 - mean_absolute_error: 0.8267 - val_loss: 1.0100 - val_mean_absolute_error: 0.8290\n",
            "Epoch 97/100\n",
            "72000/72000 [==============================] - 3s 37us/step - loss: 1.0462 - mean_absolute_error: 0.8250 - val_loss: 1.0104 - val_mean_absolute_error: 0.8295\n",
            "Epoch 98/100\n",
            "72000/72000 [==============================] - 3s 38us/step - loss: 1.0494 - mean_absolute_error: 0.8265 - val_loss: 1.0107 - val_mean_absolute_error: 0.8297\n",
            "Epoch 99/100\n",
            "72000/72000 [==============================] - 3s 38us/step - loss: 1.0489 - mean_absolute_error: 0.8254 - val_loss: 1.0114 - val_mean_absolute_error: 0.8302\n",
            "Epoch 100/100\n",
            "72000/72000 [==============================] - 3s 38us/step - loss: 1.0487 - mean_absolute_error: 0.8251 - val_loss: 1.0109 - val_mean_absolute_error: 0.8297\n"
          ],
          "name": "stdout"
        },
        {
          "output_type": "error",
          "ename": "ValueError",
          "evalue": "ignored",
          "traceback": [
            "\u001b[0;31m---------------------------------------------------------------------------\u001b[0m",
            "\u001b[0;31mValueError\u001b[0m                                Traceback (most recent call last)",
            "\u001b[0;32m<ipython-input-152-6fc5c386c972>\u001b[0m in \u001b[0;36m<module>\u001b[0;34m()\u001b[0m\n\u001b[1;32m     12\u001b[0m \u001b[0;31m# predict\u001b[0m\u001b[0;34m\u001b[0m\u001b[0;34m\u001b[0m\u001b[0;34m\u001b[0m\u001b[0m\n\u001b[1;32m     13\u001b[0m \u001b[0mresult\u001b[0m\u001b[0;34m=\u001b[0m\u001b[0mNCF_model1\u001b[0m\u001b[0;34m.\u001b[0m\u001b[0mpredict\u001b[0m\u001b[0;34m(\u001b[0m\u001b[0;34m[\u001b[0m\u001b[0mtest_with_users\u001b[0m\u001b[0;34m[\u001b[0m\u001b[0;34m'userid'\u001b[0m\u001b[0;34m]\u001b[0m\u001b[0;34m,\u001b[0m\u001b[0mtest_with_users\u001b[0m\u001b[0;34m[\u001b[0m\u001b[0;34m'movieid'\u001b[0m\u001b[0;34m]\u001b[0m\u001b[0;34m,\u001b[0m\u001b[0mtest_with_users\u001b[0m\u001b[0;34m[\u001b[0m\u001b[0;34m'age'\u001b[0m\u001b[0;34m]\u001b[0m\u001b[0;34m,\u001b[0m \u001b[0mtest_with_users\u001b[0m\u001b[0;34m[\u001b[0m\u001b[0;34m'gender'\u001b[0m\u001b[0;34m]\u001b[0m\u001b[0;34m]\u001b[0m\u001b[0;34m)\u001b[0m\u001b[0;34m\u001b[0m\u001b[0;34m\u001b[0m\u001b[0m\n\u001b[0;32m---> 14\u001b[0;31m \u001b[0mprint\u001b[0m\u001b[0;34m(\u001b[0m\u001b[0;34m'Model MAE: '\u001b[0m\u001b[0;34m,\u001b[0m \u001b[0mmean_absolute_error\u001b[0m\u001b[0;34m(\u001b[0m\u001b[0mtest_Y\u001b[0m\u001b[0;34m,\u001b[0m \u001b[0mresult\u001b[0m\u001b[0;34m)\u001b[0m\u001b[0;34m)\u001b[0m\u001b[0;34m\u001b[0m\u001b[0;34m\u001b[0m\u001b[0m\n\u001b[0m",
            "\u001b[0;32m/usr/local/lib/python3.6/dist-packages/sklearn/metrics/regression.py\u001b[0m in \u001b[0;36mmean_absolute_error\u001b[0;34m(y_true, y_pred, sample_weight, multioutput)\u001b[0m\n\u001b[1;32m    168\u001b[0m     \"\"\"\n\u001b[1;32m    169\u001b[0m     y_type, y_true, y_pred, multioutput = _check_reg_targets(\n\u001b[0;32m--> 170\u001b[0;31m         y_true, y_pred, multioutput)\n\u001b[0m\u001b[1;32m    171\u001b[0m     \u001b[0mcheck_consistent_length\u001b[0m\u001b[0;34m(\u001b[0m\u001b[0my_true\u001b[0m\u001b[0;34m,\u001b[0m \u001b[0my_pred\u001b[0m\u001b[0;34m,\u001b[0m \u001b[0msample_weight\u001b[0m\u001b[0;34m)\u001b[0m\u001b[0;34m\u001b[0m\u001b[0;34m\u001b[0m\u001b[0m\n\u001b[1;32m    172\u001b[0m     output_errors = np.average(np.abs(y_pred - y_true),\n",
            "\u001b[0;32m/usr/local/lib/python3.6/dist-packages/sklearn/metrics/regression.py\u001b[0m in \u001b[0;36m_check_reg_targets\u001b[0;34m(y_true, y_pred, multioutput)\u001b[0m\n\u001b[1;32m     73\u001b[0m \u001b[0;34m\u001b[0m\u001b[0m\n\u001b[1;32m     74\u001b[0m     \"\"\"\n\u001b[0;32m---> 75\u001b[0;31m     \u001b[0mcheck_consistent_length\u001b[0m\u001b[0;34m(\u001b[0m\u001b[0my_true\u001b[0m\u001b[0;34m,\u001b[0m \u001b[0my_pred\u001b[0m\u001b[0;34m)\u001b[0m\u001b[0;34m\u001b[0m\u001b[0;34m\u001b[0m\u001b[0m\n\u001b[0m\u001b[1;32m     76\u001b[0m     \u001b[0my_true\u001b[0m \u001b[0;34m=\u001b[0m \u001b[0mcheck_array\u001b[0m\u001b[0;34m(\u001b[0m\u001b[0my_true\u001b[0m\u001b[0;34m,\u001b[0m \u001b[0mensure_2d\u001b[0m\u001b[0;34m=\u001b[0m\u001b[0;32mFalse\u001b[0m\u001b[0;34m)\u001b[0m\u001b[0;34m\u001b[0m\u001b[0;34m\u001b[0m\u001b[0m\n\u001b[1;32m     77\u001b[0m     \u001b[0my_pred\u001b[0m \u001b[0;34m=\u001b[0m \u001b[0mcheck_array\u001b[0m\u001b[0;34m(\u001b[0m\u001b[0my_pred\u001b[0m\u001b[0;34m,\u001b[0m \u001b[0mensure_2d\u001b[0m\u001b[0;34m=\u001b[0m\u001b[0;32mFalse\u001b[0m\u001b[0;34m)\u001b[0m\u001b[0;34m\u001b[0m\u001b[0;34m\u001b[0m\u001b[0m\n",
            "\u001b[0;32m/usr/local/lib/python3.6/dist-packages/sklearn/utils/validation.py\u001b[0m in \u001b[0;36mcheck_consistent_length\u001b[0;34m(*arrays)\u001b[0m\n\u001b[1;32m    233\u001b[0m     \u001b[0;32mif\u001b[0m \u001b[0mlen\u001b[0m\u001b[0;34m(\u001b[0m\u001b[0muniques\u001b[0m\u001b[0;34m)\u001b[0m \u001b[0;34m>\u001b[0m \u001b[0;36m1\u001b[0m\u001b[0;34m:\u001b[0m\u001b[0;34m\u001b[0m\u001b[0;34m\u001b[0m\u001b[0m\n\u001b[1;32m    234\u001b[0m         raise ValueError(\"Found input variables with inconsistent numbers of\"\n\u001b[0;32m--> 235\u001b[0;31m                          \" samples: %r\" % [int(l) for l in lengths])\n\u001b[0m\u001b[1;32m    236\u001b[0m \u001b[0;34m\u001b[0m\u001b[0m\n\u001b[1;32m    237\u001b[0m \u001b[0;34m\u001b[0m\u001b[0m\n",
            "\u001b[0;31mValueError\u001b[0m: Found input variables with inconsistent numbers of samples: [1410, 20000]"
          ]
        }
      ]
    },
    {
      "cell_type": "code",
      "metadata": {
        "id": "aS6EJ_qWg9iB",
        "colab_type": "code",
        "colab": {
          "base_uri": "https://localhost:8080/",
          "height": 3927
        },
        "outputId": "74cf6106-bc3f-4e6b-8674-26cfcd282db4"
      },
      "source": [
        "# Model 2\n",
        "# Input variables\n",
        "user_input = Input(shape=(1,), dtype='int32', name = 'user_input')\n",
        "item_input = Input(shape=(1,), dtype='int32', name = 'item_input')\n",
        "user_age_input = Input(shape=(1,), dtype='float32', name = 'user_age_input')\n",
        "user_gender_input = Input(shape=(1,), dtype='float32', name = 'user_gender_input')\n",
        "\n",
        "num_users=len(users)\n",
        "num_items=len(genre)\n",
        "MF_Embedding_User = Embedding(input_dim = num_users+1, output_dim = 1, name = 'user_embedding', input_length=1)\n",
        "MF_Embedding_Item = Embedding(input_dim = num_items+1, output_dim = 1, name = 'item_embedding', input_length=1)\n",
        "\n",
        "# Crucial to flatten an embedding vector!\n",
        "user_latent = Flatten()(MF_Embedding_User(user_input))\n",
        "item_latent = Flatten()(MF_Embedding_Item(item_input))\n",
        "\n",
        "# Element-wise product of user and item embeddings\n",
        "conc = Concatenate()([user_latent, item_latent])\n",
        "drop = Dropout(0.5)(conc)\n",
        "hidden = Dense(10, activation='relu')(drop)\n",
        "prediction = Dense(1, activation='relu', kernel_initializer='lecun_uniform', name = 'prediction')(drop)\n",
        "\n",
        "NCF_model2 = Model(input=[user_input, item_input, user_age_input, user_gender_input], output=prediction)\n",
        "NCF_model2.summary()\n",
        "\n",
        "NCF_model2.compile(loss='mse',optimizer=Adamax(lr=0.001),metrics=['mae'])\n",
        "\n",
        "# fit the model\n",
        "NCF_model2.fit([Users, Movies, Age, Gender], Ratings, nb_epoch=100, validation_split=.1, verbose=1, batch_size = 32)\n"
      ],
      "execution_count": 156,
      "outputs": [
        {
          "output_type": "stream",
          "text": [
            "/usr/local/lib/python3.6/dist-packages/ipykernel_launcher.py:21: UserWarning: Update your `Model` call to the Keras 2 API: `Model(inputs=[<tf.Tenso..., outputs=Tensor(\"pr...)`\n",
            "/usr/local/lib/python3.6/dist-packages/ipykernel_launcher.py:27: UserWarning: The `nb_epoch` argument in `fit` has been renamed `epochs`.\n"
          ],
          "name": "stderr"
        },
        {
          "output_type": "stream",
          "text": [
            "__________________________________________________________________________________________________\n",
            "Layer (type)                    Output Shape         Param #     Connected to                     \n",
            "==================================================================================================\n",
            "user_input (InputLayer)         (None, 1)            0                                            \n",
            "__________________________________________________________________________________________________\n",
            "item_input (InputLayer)         (None, 1)            0                                            \n",
            "__________________________________________________________________________________________________\n",
            "user_embedding (Embedding)      (None, 1, 1)         944         user_input[0][0]                 \n",
            "__________________________________________________________________________________________________\n",
            "item_embedding (Embedding)      (None, 1, 1)         1683        item_input[0][0]                 \n",
            "__________________________________________________________________________________________________\n",
            "flatten_41 (Flatten)            (None, 1)            0           user_embedding[0][0]             \n",
            "__________________________________________________________________________________________________\n",
            "flatten_42 (Flatten)            (None, 1)            0           item_embedding[0][0]             \n",
            "__________________________________________________________________________________________________\n",
            "concatenate_20 (Concatenate)    (None, 2)            0           flatten_41[0][0]                 \n",
            "                                                                 flatten_42[0][0]                 \n",
            "__________________________________________________________________________________________________\n",
            "dropout_20 (Dropout)            (None, 2)            0           concatenate_20[0][0]             \n",
            "__________________________________________________________________________________________________\n",
            "prediction (Dense)              (None, 1)            3           dropout_20[0][0]                 \n",
            "==================================================================================================\n",
            "Total params: 2,630\n",
            "Trainable params: 2,630\n",
            "Non-trainable params: 0\n",
            "__________________________________________________________________________________________________\n",
            "Train on 72000 samples, validate on 8000 samples\n",
            "Epoch 1/100\n",
            "72000/72000 [==============================] - 4s 55us/step - loss: 7.7910 - mean_absolute_error: 2.5165 - val_loss: 3.6064 - val_mean_absolute_error: 1.6670\n",
            "Epoch 2/100\n",
            "72000/72000 [==============================] - 3s 38us/step - loss: 1.8475 - mean_absolute_error: 1.1324 - val_loss: 1.2044 - val_mean_absolute_error: 0.9169\n",
            "Epoch 3/100\n",
            "72000/72000 [==============================] - 3s 38us/step - loss: 1.2287 - mean_absolute_error: 0.9096 - val_loss: 1.1218 - val_mean_absolute_error: 0.8908\n",
            "Epoch 4/100\n",
            "72000/72000 [==============================] - 3s 38us/step - loss: 1.1853 - mean_absolute_error: 0.8925 - val_loss: 1.1014 - val_mean_absolute_error: 0.8815\n",
            "Epoch 5/100\n",
            "72000/72000 [==============================] - 3s 38us/step - loss: 1.1642 - mean_absolute_error: 0.8813 - val_loss: 1.0969 - val_mean_absolute_error: 0.8793\n",
            "Epoch 6/100\n",
            "72000/72000 [==============================] - 3s 38us/step - loss: 1.1453 - mean_absolute_error: 0.8737 - val_loss: 1.0809 - val_mean_absolute_error: 0.8710\n",
            "Epoch 7/100\n",
            "72000/72000 [==============================] - 3s 38us/step - loss: 1.1340 - mean_absolute_error: 0.8672 - val_loss: 1.0739 - val_mean_absolute_error: 0.8670\n",
            "Epoch 8/100\n",
            "72000/72000 [==============================] - 3s 38us/step - loss: 1.1180 - mean_absolute_error: 0.8598 - val_loss: 1.0662 - val_mean_absolute_error: 0.8625\n",
            "Epoch 9/100\n",
            "72000/72000 [==============================] - 3s 38us/step - loss: 1.1074 - mean_absolute_error: 0.8537 - val_loss: 1.0606 - val_mean_absolute_error: 0.8592\n",
            "Epoch 10/100\n",
            "72000/72000 [==============================] - 3s 38us/step - loss: 1.1061 - mean_absolute_error: 0.8530 - val_loss: 1.0539 - val_mean_absolute_error: 0.8549\n",
            "Epoch 11/100\n",
            "72000/72000 [==============================] - 3s 38us/step - loss: 1.0973 - mean_absolute_error: 0.8482 - val_loss: 1.0489 - val_mean_absolute_error: 0.8519\n",
            "Epoch 12/100\n",
            "72000/72000 [==============================] - 3s 38us/step - loss: 1.0981 - mean_absolute_error: 0.8486 - val_loss: 1.0468 - val_mean_absolute_error: 0.8508\n",
            "Epoch 13/100\n",
            "72000/72000 [==============================] - 3s 38us/step - loss: 1.0973 - mean_absolute_error: 0.8477 - val_loss: 1.0441 - val_mean_absolute_error: 0.8492\n",
            "Epoch 14/100\n",
            "72000/72000 [==============================] - 3s 39us/step - loss: 1.0887 - mean_absolute_error: 0.8439 - val_loss: 1.0416 - val_mean_absolute_error: 0.8477\n",
            "Epoch 15/100\n",
            "72000/72000 [==============================] - 3s 38us/step - loss: 1.0827 - mean_absolute_error: 0.8414 - val_loss: 1.0387 - val_mean_absolute_error: 0.8458\n",
            "Epoch 16/100\n",
            "72000/72000 [==============================] - 3s 38us/step - loss: 1.0830 - mean_absolute_error: 0.8414 - val_loss: 1.0356 - val_mean_absolute_error: 0.8436\n",
            "Epoch 17/100\n",
            "72000/72000 [==============================] - 3s 38us/step - loss: 1.0788 - mean_absolute_error: 0.8397 - val_loss: 1.0337 - val_mean_absolute_error: 0.8425\n",
            "Epoch 18/100\n",
            "72000/72000 [==============================] - 3s 39us/step - loss: 1.0775 - mean_absolute_error: 0.8394 - val_loss: 1.0302 - val_mean_absolute_error: 0.8399\n",
            "Epoch 19/100\n",
            "72000/72000 [==============================] - 3s 38us/step - loss: 1.0758 - mean_absolute_error: 0.8378 - val_loss: 1.0283 - val_mean_absolute_error: 0.8391\n",
            "Epoch 20/100\n",
            "72000/72000 [==============================] - 3s 39us/step - loss: 1.0743 - mean_absolute_error: 0.8380 - val_loss: 1.0259 - val_mean_absolute_error: 0.8372\n",
            "Epoch 21/100\n",
            "72000/72000 [==============================] - 3s 38us/step - loss: 1.0719 - mean_absolute_error: 0.8364 - val_loss: 1.0272 - val_mean_absolute_error: 0.8386\n",
            "Epoch 22/100\n",
            "72000/72000 [==============================] - 3s 39us/step - loss: 1.0698 - mean_absolute_error: 0.8357 - val_loss: 1.0239 - val_mean_absolute_error: 0.8360\n",
            "Epoch 23/100\n",
            "72000/72000 [==============================] - 3s 39us/step - loss: 1.0717 - mean_absolute_error: 0.8362 - val_loss: 1.0234 - val_mean_absolute_error: 0.8359\n",
            "Epoch 24/100\n",
            "72000/72000 [==============================] - 3s 38us/step - loss: 1.0712 - mean_absolute_error: 0.8359 - val_loss: 1.0246 - val_mean_absolute_error: 0.8373\n",
            "Epoch 25/100\n",
            "72000/72000 [==============================] - 3s 38us/step - loss: 1.0682 - mean_absolute_error: 0.8351 - val_loss: 1.0213 - val_mean_absolute_error: 0.8343\n",
            "Epoch 26/100\n",
            "72000/72000 [==============================] - 3s 39us/step - loss: 1.0676 - mean_absolute_error: 0.8348 - val_loss: 1.0217 - val_mean_absolute_error: 0.8350\n",
            "Epoch 27/100\n",
            "72000/72000 [==============================] - 3s 39us/step - loss: 1.0674 - mean_absolute_error: 0.8345 - val_loss: 1.0221 - val_mean_absolute_error: 0.8359\n",
            "Epoch 28/100\n",
            "72000/72000 [==============================] - 3s 39us/step - loss: 1.0662 - mean_absolute_error: 0.8340 - val_loss: 1.0201 - val_mean_absolute_error: 0.8341\n",
            "Epoch 29/100\n",
            "72000/72000 [==============================] - 3s 38us/step - loss: 1.0683 - mean_absolute_error: 0.8346 - val_loss: 1.0196 - val_mean_absolute_error: 0.8338\n",
            "Epoch 30/100\n",
            "72000/72000 [==============================] - 3s 38us/step - loss: 1.0619 - mean_absolute_error: 0.8325 - val_loss: 1.0188 - val_mean_absolute_error: 0.8337\n",
            "Epoch 31/100\n",
            "72000/72000 [==============================] - 3s 38us/step - loss: 1.0593 - mean_absolute_error: 0.8307 - val_loss: 1.0175 - val_mean_absolute_error: 0.8328\n",
            "Epoch 32/100\n",
            "72000/72000 [==============================] - 3s 38us/step - loss: 1.0591 - mean_absolute_error: 0.8312 - val_loss: 1.0150 - val_mean_absolute_error: 0.8310\n",
            "Epoch 33/100\n",
            "72000/72000 [==============================] - 3s 39us/step - loss: 1.0622 - mean_absolute_error: 0.8327 - val_loss: 1.0158 - val_mean_absolute_error: 0.8319\n",
            "Epoch 34/100\n",
            "72000/72000 [==============================] - 3s 39us/step - loss: 1.0592 - mean_absolute_error: 0.8309 - val_loss: 1.0156 - val_mean_absolute_error: 0.8319\n",
            "Epoch 35/100\n",
            "72000/72000 [==============================] - 3s 38us/step - loss: 1.0643 - mean_absolute_error: 0.8328 - val_loss: 1.0141 - val_mean_absolute_error: 0.8302\n",
            "Epoch 36/100\n",
            "72000/72000 [==============================] - 3s 39us/step - loss: 1.0577 - mean_absolute_error: 0.8302 - val_loss: 1.0128 - val_mean_absolute_error: 0.8295\n",
            "Epoch 37/100\n",
            "72000/72000 [==============================] - 3s 39us/step - loss: 1.0608 - mean_absolute_error: 0.8307 - val_loss: 1.0132 - val_mean_absolute_error: 0.8300\n",
            "Epoch 38/100\n",
            "72000/72000 [==============================] - 3s 38us/step - loss: 1.0568 - mean_absolute_error: 0.8297 - val_loss: 1.0141 - val_mean_absolute_error: 0.8311\n",
            "Epoch 39/100\n",
            "72000/72000 [==============================] - 3s 38us/step - loss: 1.0597 - mean_absolute_error: 0.8309 - val_loss: 1.0126 - val_mean_absolute_error: 0.8296\n",
            "Epoch 40/100\n",
            "72000/72000 [==============================] - 3s 38us/step - loss: 1.0577 - mean_absolute_error: 0.8301 - val_loss: 1.0129 - val_mean_absolute_error: 0.8302\n",
            "Epoch 41/100\n",
            "72000/72000 [==============================] - 3s 38us/step - loss: 1.0615 - mean_absolute_error: 0.8319 - val_loss: 1.0114 - val_mean_absolute_error: 0.8288\n",
            "Epoch 42/100\n",
            "72000/72000 [==============================] - 3s 38us/step - loss: 1.0592 - mean_absolute_error: 0.8304 - val_loss: 1.0122 - val_mean_absolute_error: 0.8298\n",
            "Epoch 43/100\n",
            "72000/72000 [==============================] - 3s 39us/step - loss: 1.0570 - mean_absolute_error: 0.8299 - val_loss: 1.0121 - val_mean_absolute_error: 0.8297\n",
            "Epoch 44/100\n",
            "72000/72000 [==============================] - 3s 38us/step - loss: 1.0576 - mean_absolute_error: 0.8294 - val_loss: 1.0129 - val_mean_absolute_error: 0.8302\n",
            "Epoch 45/100\n",
            "72000/72000 [==============================] - 3s 38us/step - loss: 1.0595 - mean_absolute_error: 0.8314 - val_loss: 1.0123 - val_mean_absolute_error: 0.8301\n",
            "Epoch 46/100\n",
            "72000/72000 [==============================] - 3s 39us/step - loss: 1.0544 - mean_absolute_error: 0.8285 - val_loss: 1.0113 - val_mean_absolute_error: 0.8296\n",
            "Epoch 47/100\n",
            "72000/72000 [==============================] - 3s 38us/step - loss: 1.0541 - mean_absolute_error: 0.8287 - val_loss: 1.0101 - val_mean_absolute_error: 0.8283\n",
            "Epoch 48/100\n",
            "72000/72000 [==============================] - 3s 38us/step - loss: 1.0565 - mean_absolute_error: 0.8292 - val_loss: 1.0109 - val_mean_absolute_error: 0.8295\n",
            "Epoch 49/100\n",
            "72000/72000 [==============================] - 3s 38us/step - loss: 1.0554 - mean_absolute_error: 0.8296 - val_loss: 1.0099 - val_mean_absolute_error: 0.8284\n",
            "Epoch 50/100\n",
            "72000/72000 [==============================] - 3s 38us/step - loss: 1.0557 - mean_absolute_error: 0.8291 - val_loss: 1.0087 - val_mean_absolute_error: 0.8273\n",
            "Epoch 51/100\n",
            "72000/72000 [==============================] - 3s 38us/step - loss: 1.0569 - mean_absolute_error: 0.8286 - val_loss: 1.0093 - val_mean_absolute_error: 0.8281\n",
            "Epoch 52/100\n",
            "72000/72000 [==============================] - 3s 38us/step - loss: 1.0532 - mean_absolute_error: 0.8278 - val_loss: 1.0100 - val_mean_absolute_error: 0.8291\n",
            "Epoch 53/100\n",
            "72000/72000 [==============================] - 3s 38us/step - loss: 1.0572 - mean_absolute_error: 0.8295 - val_loss: 1.0104 - val_mean_absolute_error: 0.8293\n",
            "Epoch 54/100\n",
            "72000/72000 [==============================] - 3s 39us/step - loss: 1.0528 - mean_absolute_error: 0.8279 - val_loss: 1.0084 - val_mean_absolute_error: 0.8273\n",
            "Epoch 55/100\n",
            "72000/72000 [==============================] - 3s 38us/step - loss: 1.0540 - mean_absolute_error: 0.8286 - val_loss: 1.0081 - val_mean_absolute_error: 0.8271\n",
            "Epoch 56/100\n",
            "72000/72000 [==============================] - 3s 38us/step - loss: 1.0556 - mean_absolute_error: 0.8283 - val_loss: 1.0084 - val_mean_absolute_error: 0.8278\n",
            "Epoch 57/100\n",
            "72000/72000 [==============================] - 3s 39us/step - loss: 1.0516 - mean_absolute_error: 0.8271 - val_loss: 1.0090 - val_mean_absolute_error: 0.8285\n",
            "Epoch 58/100\n",
            "72000/72000 [==============================] - 3s 38us/step - loss: 1.0538 - mean_absolute_error: 0.8278 - val_loss: 1.0087 - val_mean_absolute_error: 0.8281\n",
            "Epoch 59/100\n",
            "72000/72000 [==============================] - 3s 38us/step - loss: 1.0566 - mean_absolute_error: 0.8296 - val_loss: 1.0099 - val_mean_absolute_error: 0.8295\n",
            "Epoch 60/100\n",
            "72000/72000 [==============================] - 3s 38us/step - loss: 1.0512 - mean_absolute_error: 0.8269 - val_loss: 1.0074 - val_mean_absolute_error: 0.8268\n",
            "Epoch 61/100\n",
            "72000/72000 [==============================] - 3s 38us/step - loss: 1.0486 - mean_absolute_error: 0.8260 - val_loss: 1.0086 - val_mean_absolute_error: 0.8284\n",
            "Epoch 62/100\n",
            "72000/72000 [==============================] - 3s 38us/step - loss: 1.0518 - mean_absolute_error: 0.8277 - val_loss: 1.0084 - val_mean_absolute_error: 0.8280\n",
            "Epoch 63/100\n",
            "72000/72000 [==============================] - 3s 38us/step - loss: 1.0575 - mean_absolute_error: 0.8285 - val_loss: 1.0099 - val_mean_absolute_error: 0.8296\n",
            "Epoch 64/100\n",
            "72000/72000 [==============================] - 3s 38us/step - loss: 1.0549 - mean_absolute_error: 0.8288 - val_loss: 1.0088 - val_mean_absolute_error: 0.8288\n",
            "Epoch 65/100\n",
            "72000/72000 [==============================] - 3s 38us/step - loss: 1.0519 - mean_absolute_error: 0.8276 - val_loss: 1.0088 - val_mean_absolute_error: 0.8285\n",
            "Epoch 66/100\n",
            "72000/72000 [==============================] - 3s 38us/step - loss: 1.0565 - mean_absolute_error: 0.8288 - val_loss: 1.0086 - val_mean_absolute_error: 0.8284\n",
            "Epoch 67/100\n",
            "72000/72000 [==============================] - 3s 38us/step - loss: 1.0543 - mean_absolute_error: 0.8283 - val_loss: 1.0087 - val_mean_absolute_error: 0.8289\n",
            "Epoch 68/100\n",
            "72000/72000 [==============================] - 3s 38us/step - loss: 1.0521 - mean_absolute_error: 0.8279 - val_loss: 1.0085 - val_mean_absolute_error: 0.8284\n",
            "Epoch 69/100\n",
            "72000/72000 [==============================] - 3s 40us/step - loss: 1.0539 - mean_absolute_error: 0.8291 - val_loss: 1.0072 - val_mean_absolute_error: 0.8274\n",
            "Epoch 70/100\n",
            "72000/72000 [==============================] - 3s 42us/step - loss: 1.0538 - mean_absolute_error: 0.8278 - val_loss: 1.0069 - val_mean_absolute_error: 0.8271\n",
            "Epoch 71/100\n",
            "72000/72000 [==============================] - 3s 42us/step - loss: 1.0516 - mean_absolute_error: 0.8272 - val_loss: 1.0059 - val_mean_absolute_error: 0.8266\n",
            "Epoch 72/100\n",
            "72000/72000 [==============================] - 3s 41us/step - loss: 1.0504 - mean_absolute_error: 0.8266 - val_loss: 1.0067 - val_mean_absolute_error: 0.8279\n",
            "Epoch 73/100\n",
            "72000/72000 [==============================] - 3s 40us/step - loss: 1.0527 - mean_absolute_error: 0.8285 - val_loss: 1.0063 - val_mean_absolute_error: 0.8270\n",
            "Epoch 74/100\n",
            "72000/72000 [==============================] - 3s 38us/step - loss: 1.0512 - mean_absolute_error: 0.8275 - val_loss: 1.0080 - val_mean_absolute_error: 0.8288\n",
            "Epoch 75/100\n",
            "72000/72000 [==============================] - 3s 39us/step - loss: 1.0573 - mean_absolute_error: 0.8294 - val_loss: 1.0085 - val_mean_absolute_error: 0.8289\n",
            "Epoch 76/100\n",
            "72000/72000 [==============================] - 3s 38us/step - loss: 1.0484 - mean_absolute_error: 0.8257 - val_loss: 1.0065 - val_mean_absolute_error: 0.8272\n",
            "Epoch 77/100\n",
            "72000/72000 [==============================] - 3s 38us/step - loss: 1.0506 - mean_absolute_error: 0.8265 - val_loss: 1.0072 - val_mean_absolute_error: 0.8278\n",
            "Epoch 78/100\n",
            "72000/72000 [==============================] - 3s 38us/step - loss: 1.0518 - mean_absolute_error: 0.8270 - val_loss: 1.0069 - val_mean_absolute_error: 0.8274\n",
            "Epoch 79/100\n",
            "72000/72000 [==============================] - 3s 38us/step - loss: 1.0509 - mean_absolute_error: 0.8262 - val_loss: 1.0066 - val_mean_absolute_error: 0.8267\n",
            "Epoch 80/100\n",
            "72000/72000 [==============================] - 3s 38us/step - loss: 1.0536 - mean_absolute_error: 0.8282 - val_loss: 1.0071 - val_mean_absolute_error: 0.8274\n",
            "Epoch 81/100\n",
            "72000/72000 [==============================] - 3s 38us/step - loss: 1.0499 - mean_absolute_error: 0.8267 - val_loss: 1.0062 - val_mean_absolute_error: 0.8271\n",
            "Epoch 82/100\n",
            "72000/72000 [==============================] - 3s 38us/step - loss: 1.0497 - mean_absolute_error: 0.8270 - val_loss: 1.0075 - val_mean_absolute_error: 0.8283\n",
            "Epoch 83/100\n",
            "72000/72000 [==============================] - 3s 38us/step - loss: 1.0499 - mean_absolute_error: 0.8261 - val_loss: 1.0064 - val_mean_absolute_error: 0.8274\n",
            "Epoch 84/100\n",
            "72000/72000 [==============================] - 3s 38us/step - loss: 1.0542 - mean_absolute_error: 0.8279 - val_loss: 1.0062 - val_mean_absolute_error: 0.8271\n",
            "Epoch 85/100\n",
            "72000/72000 [==============================] - 3s 38us/step - loss: 1.0511 - mean_absolute_error: 0.8272 - val_loss: 1.0046 - val_mean_absolute_error: 0.8252\n",
            "Epoch 86/100\n",
            "72000/72000 [==============================] - 3s 38us/step - loss: 1.0499 - mean_absolute_error: 0.8269 - val_loss: 1.0065 - val_mean_absolute_error: 0.8273\n",
            "Epoch 87/100\n",
            "72000/72000 [==============================] - 3s 38us/step - loss: 1.0530 - mean_absolute_error: 0.8274 - val_loss: 1.0058 - val_mean_absolute_error: 0.8266\n",
            "Epoch 88/100\n",
            "72000/72000 [==============================] - 3s 38us/step - loss: 1.0464 - mean_absolute_error: 0.8250 - val_loss: 1.0059 - val_mean_absolute_error: 0.8271\n",
            "Epoch 89/100\n",
            "72000/72000 [==============================] - 3s 38us/step - loss: 1.0470 - mean_absolute_error: 0.8250 - val_loss: 1.0058 - val_mean_absolute_error: 0.8268\n",
            "Epoch 90/100\n",
            "72000/72000 [==============================] - 3s 39us/step - loss: 1.0529 - mean_absolute_error: 0.8277 - val_loss: 1.0056 - val_mean_absolute_error: 0.8262\n",
            "Epoch 91/100\n",
            "72000/72000 [==============================] - 3s 38us/step - loss: 1.0504 - mean_absolute_error: 0.8265 - val_loss: 1.0062 - val_mean_absolute_error: 0.8272\n",
            "Epoch 92/100\n",
            "72000/72000 [==============================] - 3s 39us/step - loss: 1.0472 - mean_absolute_error: 0.8252 - val_loss: 1.0059 - val_mean_absolute_error: 0.8273\n",
            "Epoch 93/100\n",
            "72000/72000 [==============================] - 3s 39us/step - loss: 1.0539 - mean_absolute_error: 0.8274 - val_loss: 1.0067 - val_mean_absolute_error: 0.8278\n",
            "Epoch 94/100\n",
            "72000/72000 [==============================] - 3s 38us/step - loss: 1.0530 - mean_absolute_error: 0.8281 - val_loss: 1.0069 - val_mean_absolute_error: 0.8280\n",
            "Epoch 95/100\n",
            "72000/72000 [==============================] - 3s 38us/step - loss: 1.0543 - mean_absolute_error: 0.8292 - val_loss: 1.0070 - val_mean_absolute_error: 0.8279\n",
            "Epoch 96/100\n",
            "72000/72000 [==============================] - 3s 38us/step - loss: 1.0490 - mean_absolute_error: 0.8261 - val_loss: 1.0047 - val_mean_absolute_error: 0.8256\n",
            "Epoch 97/100\n",
            "72000/72000 [==============================] - 3s 38us/step - loss: 1.0497 - mean_absolute_error: 0.8271 - val_loss: 1.0056 - val_mean_absolute_error: 0.8270\n",
            "Epoch 98/100\n",
            "72000/72000 [==============================] - 3s 38us/step - loss: 1.0553 - mean_absolute_error: 0.8278 - val_loss: 1.0061 - val_mean_absolute_error: 0.8275\n",
            "Epoch 99/100\n",
            "72000/72000 [==============================] - 3s 38us/step - loss: 1.0523 - mean_absolute_error: 0.8276 - val_loss: 1.0071 - val_mean_absolute_error: 0.8283\n",
            "Epoch 100/100\n",
            "72000/72000 [==============================] - 3s 38us/step - loss: 1.0479 - mean_absolute_error: 0.8253 - val_loss: 1.0061 - val_mean_absolute_error: 0.8273\n"
          ],
          "name": "stdout"
        },
        {
          "output_type": "execute_result",
          "data": {
            "text/plain": [
              "<keras.callbacks.History at 0x7f9c7c6bf1d0>"
            ]
          },
          "metadata": {
            "tags": []
          },
          "execution_count": 156
        }
      ]
    },
    {
      "cell_type": "code",
      "metadata": {
        "id": "auGcUYBYiQ4L",
        "colab_type": "code",
        "colab": {
          "base_uri": "https://localhost:8080/",
          "height": 3927
        },
        "outputId": "7d9ec0ce-6222-4584-9ba2-d8f427d14781"
      },
      "source": [
        "# Model 3\n",
        "# Input variables\n",
        "user_input = Input(shape=(1,), dtype='int32', name = 'user_input')\n",
        "item_input = Input(shape=(1,), dtype='int32', name = 'item_input')\n",
        "user_age_input = Input(shape=(1,), dtype='float32', name = 'user_age_input')\n",
        "user_gender_input = Input(shape=(1,), dtype='float32', name = 'user_gender_input')\n",
        "\n",
        "num_users=len(users)\n",
        "num_items=len(genre)\n",
        "MF_Embedding_User = Embedding(input_dim = num_users+1, output_dim = 1, name = 'user_embedding', input_length=1)\n",
        "MF_Embedding_Item = Embedding(input_dim = num_items+1, output_dim = 1, name = 'item_embedding', input_length=1)\n",
        "\n",
        "# Crucial to flatten an embedding vector!\n",
        "user_latent = Flatten()(MF_Embedding_User(user_input))\n",
        "item_latent = Flatten()(MF_Embedding_Item(item_input))\n",
        "\n",
        "# Element-wise product of user and item embeddings\n",
        "conc = Concatenate()([user_latent, item_latent])\n",
        "drop = Dropout(0.5)(conc)\n",
        "hidden = Dense(10, activation='relu')(drop)\n",
        "prediction = Dense(1, activation='relu', kernel_initializer='lecun_uniform', name = 'prediction')(drop)\n",
        "\n",
        "NCF_model3 = Model(input=[user_input, item_input, user_age_input, user_gender_input], output=prediction)\n",
        "NCF_model3.summary()\n",
        "\n",
        "NCF_model3.compile(loss='mse',optimizer='sgd',metrics=['mae'])\n",
        "\n",
        "# fit the model\n",
        "NCF_model3.fit([Users, Movies, Age, Gender], Ratings, nb_epoch=100, validation_split=.1, verbose=1, batch_size = 32)\n"
      ],
      "execution_count": 157,
      "outputs": [
        {
          "output_type": "stream",
          "text": [
            "/usr/local/lib/python3.6/dist-packages/ipykernel_launcher.py:21: UserWarning: Update your `Model` call to the Keras 2 API: `Model(inputs=[<tf.Tenso..., outputs=Tensor(\"pr...)`\n",
            "/usr/local/lib/python3.6/dist-packages/ipykernel_launcher.py:27: UserWarning: The `nb_epoch` argument in `fit` has been renamed `epochs`.\n"
          ],
          "name": "stderr"
        },
        {
          "output_type": "stream",
          "text": [
            "__________________________________________________________________________________________________\n",
            "Layer (type)                    Output Shape         Param #     Connected to                     \n",
            "==================================================================================================\n",
            "user_input (InputLayer)         (None, 1)            0                                            \n",
            "__________________________________________________________________________________________________\n",
            "item_input (InputLayer)         (None, 1)            0                                            \n",
            "__________________________________________________________________________________________________\n",
            "user_embedding (Embedding)      (None, 1, 1)         944         user_input[0][0]                 \n",
            "__________________________________________________________________________________________________\n",
            "item_embedding (Embedding)      (None, 1, 1)         1683        item_input[0][0]                 \n",
            "__________________________________________________________________________________________________\n",
            "flatten_43 (Flatten)            (None, 1)            0           user_embedding[0][0]             \n",
            "__________________________________________________________________________________________________\n",
            "flatten_44 (Flatten)            (None, 1)            0           item_embedding[0][0]             \n",
            "__________________________________________________________________________________________________\n",
            "concatenate_21 (Concatenate)    (None, 2)            0           flatten_43[0][0]                 \n",
            "                                                                 flatten_44[0][0]                 \n",
            "__________________________________________________________________________________________________\n",
            "dropout_21 (Dropout)            (None, 2)            0           concatenate_21[0][0]             \n",
            "__________________________________________________________________________________________________\n",
            "prediction (Dense)              (None, 1)            3           dropout_21[0][0]                 \n",
            "==================================================================================================\n",
            "Total params: 2,630\n",
            "Trainable params: 2,630\n",
            "Non-trainable params: 0\n",
            "__________________________________________________________________________________________________\n",
            "Train on 72000 samples, validate on 8000 samples\n",
            "Epoch 1/100\n",
            "72000/72000 [==============================] - 4s 51us/step - loss: 1.3947 - mean_absolute_error: 0.9753 - val_loss: 1.1566 - val_mean_absolute_error: 0.9060\n",
            "Epoch 2/100\n",
            "72000/72000 [==============================] - 3s 37us/step - loss: 1.2031 - mean_absolute_error: 0.9155 - val_loss: 1.1488 - val_mean_absolute_error: 0.9023\n",
            "Epoch 3/100\n",
            "72000/72000 [==============================] - 3s 37us/step - loss: 1.1592 - mean_absolute_error: 0.8891 - val_loss: 1.1227 - val_mean_absolute_error: 0.8911\n",
            "Epoch 4/100\n",
            "72000/72000 [==============================] - 3s 37us/step - loss: 1.1255 - mean_absolute_error: 0.8685 - val_loss: 1.0811 - val_mean_absolute_error: 0.8646\n",
            "Epoch 5/100\n",
            "72000/72000 [==============================] - 3s 36us/step - loss: 1.0967 - mean_absolute_error: 0.8528 - val_loss: 1.0582 - val_mean_absolute_error: 0.8485\n",
            "Epoch 6/100\n",
            "72000/72000 [==============================] - 3s 36us/step - loss: 1.0886 - mean_absolute_error: 0.8472 - val_loss: 1.0475 - val_mean_absolute_error: 0.8462\n",
            "Epoch 7/100\n",
            "72000/72000 [==============================] - 3s 37us/step - loss: 1.0799 - mean_absolute_error: 0.8422 - val_loss: 1.0383 - val_mean_absolute_error: 0.8374\n",
            "Epoch 8/100\n",
            "72000/72000 [==============================] - 3s 36us/step - loss: 1.0685 - mean_absolute_error: 0.8370 - val_loss: 1.0349 - val_mean_absolute_error: 0.8397\n",
            "Epoch 9/100\n",
            "72000/72000 [==============================] - 3s 37us/step - loss: 1.0723 - mean_absolute_error: 0.8382 - val_loss: 1.0287 - val_mean_absolute_error: 0.8343\n",
            "Epoch 10/100\n",
            "72000/72000 [==============================] - 3s 37us/step - loss: 1.0688 - mean_absolute_error: 0.8365 - val_loss: 1.0279 - val_mean_absolute_error: 0.8347\n",
            "Epoch 11/100\n",
            "72000/72000 [==============================] - 3s 37us/step - loss: 1.0626 - mean_absolute_error: 0.8346 - val_loss: 1.0265 - val_mean_absolute_error: 0.8331\n",
            "Epoch 12/100\n",
            "72000/72000 [==============================] - 3s 36us/step - loss: 1.0602 - mean_absolute_error: 0.8330 - val_loss: 1.0296 - val_mean_absolute_error: 0.8379\n",
            "Epoch 13/100\n",
            "72000/72000 [==============================] - 3s 37us/step - loss: 1.0619 - mean_absolute_error: 0.8329 - val_loss: 1.0247 - val_mean_absolute_error: 0.8315\n",
            "Epoch 14/100\n",
            "72000/72000 [==============================] - 3s 37us/step - loss: 1.0556 - mean_absolute_error: 0.8313 - val_loss: 1.0234 - val_mean_absolute_error: 0.8327\n",
            "Epoch 15/100\n",
            "72000/72000 [==============================] - 3s 36us/step - loss: 1.0562 - mean_absolute_error: 0.8315 - val_loss: 1.0203 - val_mean_absolute_error: 0.8298\n",
            "Epoch 16/100\n",
            "72000/72000 [==============================] - 3s 37us/step - loss: 1.0570 - mean_absolute_error: 0.8307 - val_loss: 1.0191 - val_mean_absolute_error: 0.8275\n",
            "Epoch 17/100\n",
            "72000/72000 [==============================] - 3s 36us/step - loss: 1.0567 - mean_absolute_error: 0.8316 - val_loss: 1.0179 - val_mean_absolute_error: 0.8264\n",
            "Epoch 18/100\n",
            "72000/72000 [==============================] - 3s 36us/step - loss: 1.0596 - mean_absolute_error: 0.8323 - val_loss: 1.0179 - val_mean_absolute_error: 0.8276\n",
            "Epoch 19/100\n",
            "72000/72000 [==============================] - 3s 37us/step - loss: 1.0551 - mean_absolute_error: 0.8306 - val_loss: 1.0147 - val_mean_absolute_error: 0.8220\n",
            "Epoch 20/100\n",
            "72000/72000 [==============================] - 3s 36us/step - loss: 1.0565 - mean_absolute_error: 0.8314 - val_loss: 1.0244 - val_mean_absolute_error: 0.8360\n",
            "Epoch 21/100\n",
            "72000/72000 [==============================] - 3s 37us/step - loss: 1.0552 - mean_absolute_error: 0.8314 - val_loss: 1.0162 - val_mean_absolute_error: 0.8263\n",
            "Epoch 22/100\n",
            "72000/72000 [==============================] - 3s 36us/step - loss: 1.0524 - mean_absolute_error: 0.8288 - val_loss: 1.0184 - val_mean_absolute_error: 0.8306\n",
            "Epoch 23/100\n",
            "72000/72000 [==============================] - 3s 37us/step - loss: 1.0558 - mean_absolute_error: 0.8305 - val_loss: 1.0215 - val_mean_absolute_error: 0.8341\n",
            "Epoch 24/100\n",
            "72000/72000 [==============================] - 3s 36us/step - loss: 1.0518 - mean_absolute_error: 0.8285 - val_loss: 1.0170 - val_mean_absolute_error: 0.8286\n",
            "Epoch 25/100\n",
            "72000/72000 [==============================] - 3s 36us/step - loss: 1.0519 - mean_absolute_error: 0.8292 - val_loss: 1.0184 - val_mean_absolute_error: 0.8307\n",
            "Epoch 26/100\n",
            "72000/72000 [==============================] - 3s 36us/step - loss: 1.0536 - mean_absolute_error: 0.8285 - val_loss: 1.0142 - val_mean_absolute_error: 0.8231\n",
            "Epoch 27/100\n",
            "72000/72000 [==============================] - 3s 37us/step - loss: 1.0533 - mean_absolute_error: 0.8293 - val_loss: 1.0143 - val_mean_absolute_error: 0.8257\n",
            "Epoch 28/100\n",
            "72000/72000 [==============================] - 3s 37us/step - loss: 1.0510 - mean_absolute_error: 0.8273 - val_loss: 1.0139 - val_mean_absolute_error: 0.8272\n",
            "Epoch 29/100\n",
            "72000/72000 [==============================] - 3s 36us/step - loss: 1.0503 - mean_absolute_error: 0.8279 - val_loss: 1.0167 - val_mean_absolute_error: 0.8302\n",
            "Epoch 30/100\n",
            "72000/72000 [==============================] - 3s 37us/step - loss: 1.0549 - mean_absolute_error: 0.8307 - val_loss: 1.0144 - val_mean_absolute_error: 0.8230\n",
            "Epoch 31/100\n",
            "72000/72000 [==============================] - 3s 36us/step - loss: 1.0537 - mean_absolute_error: 0.8291 - val_loss: 1.0146 - val_mean_absolute_error: 0.8252\n",
            "Epoch 32/100\n",
            "72000/72000 [==============================] - 3s 36us/step - loss: 1.0539 - mean_absolute_error: 0.8287 - val_loss: 1.0156 - val_mean_absolute_error: 0.8294\n",
            "Epoch 33/100\n",
            "72000/72000 [==============================] - 3s 37us/step - loss: 1.0535 - mean_absolute_error: 0.8293 - val_loss: 1.0160 - val_mean_absolute_error: 0.8263\n",
            "Epoch 34/100\n",
            "72000/72000 [==============================] - 3s 36us/step - loss: 1.0547 - mean_absolute_error: 0.8300 - val_loss: 1.0142 - val_mean_absolute_error: 0.8240\n",
            "Epoch 35/100\n",
            "72000/72000 [==============================] - 3s 36us/step - loss: 1.0487 - mean_absolute_error: 0.8279 - val_loss: 1.0148 - val_mean_absolute_error: 0.8247\n",
            "Epoch 36/100\n",
            "72000/72000 [==============================] - 3s 36us/step - loss: 1.0579 - mean_absolute_error: 0.8312 - val_loss: 1.0182 - val_mean_absolute_error: 0.8311\n",
            "Epoch 37/100\n",
            "72000/72000 [==============================] - 3s 37us/step - loss: 1.0532 - mean_absolute_error: 0.8296 - val_loss: 1.0155 - val_mean_absolute_error: 0.8283\n",
            "Epoch 38/100\n",
            "72000/72000 [==============================] - 3s 36us/step - loss: 1.0509 - mean_absolute_error: 0.8287 - val_loss: 1.0172 - val_mean_absolute_error: 0.8310\n",
            "Epoch 39/100\n",
            "72000/72000 [==============================] - 3s 36us/step - loss: 1.0501 - mean_absolute_error: 0.8280 - val_loss: 1.0137 - val_mean_absolute_error: 0.8276\n",
            "Epoch 40/100\n",
            "72000/72000 [==============================] - 3s 36us/step - loss: 1.0551 - mean_absolute_error: 0.8305 - val_loss: 1.0224 - val_mean_absolute_error: 0.8360\n",
            "Epoch 41/100\n",
            "72000/72000 [==============================] - 3s 36us/step - loss: 1.0481 - mean_absolute_error: 0.8274 - val_loss: 1.0160 - val_mean_absolute_error: 0.8301\n",
            "Epoch 42/100\n",
            "72000/72000 [==============================] - 3s 36us/step - loss: 1.0522 - mean_absolute_error: 0.8287 - val_loss: 1.0152 - val_mean_absolute_error: 0.8279\n",
            "Epoch 43/100\n",
            "72000/72000 [==============================] - 3s 36us/step - loss: 1.0521 - mean_absolute_error: 0.8294 - val_loss: 1.0146 - val_mean_absolute_error: 0.8294\n",
            "Epoch 44/100\n",
            "72000/72000 [==============================] - 3s 36us/step - loss: 1.0539 - mean_absolute_error: 0.8288 - val_loss: 1.0144 - val_mean_absolute_error: 0.8274\n",
            "Epoch 45/100\n",
            "72000/72000 [==============================] - 3s 37us/step - loss: 1.0557 - mean_absolute_error: 0.8308 - val_loss: 1.0113 - val_mean_absolute_error: 0.8228\n",
            "Epoch 46/100\n",
            "72000/72000 [==============================] - 3s 37us/step - loss: 1.0538 - mean_absolute_error: 0.8303 - val_loss: 1.0115 - val_mean_absolute_error: 0.8239\n",
            "Epoch 47/100\n",
            "72000/72000 [==============================] - 3s 36us/step - loss: 1.0479 - mean_absolute_error: 0.8272 - val_loss: 1.0132 - val_mean_absolute_error: 0.8266\n",
            "Epoch 48/100\n",
            "72000/72000 [==============================] - 3s 36us/step - loss: 1.0513 - mean_absolute_error: 0.8291 - val_loss: 1.0161 - val_mean_absolute_error: 0.8299\n",
            "Epoch 49/100\n",
            "72000/72000 [==============================] - 3s 37us/step - loss: 1.0483 - mean_absolute_error: 0.8272 - val_loss: 1.0115 - val_mean_absolute_error: 0.8238\n",
            "Epoch 50/100\n",
            "72000/72000 [==============================] - 3s 37us/step - loss: 1.0492 - mean_absolute_error: 0.8282 - val_loss: 1.0141 - val_mean_absolute_error: 0.8289\n",
            "Epoch 51/100\n",
            "72000/72000 [==============================] - 3s 36us/step - loss: 1.0508 - mean_absolute_error: 0.8288 - val_loss: 1.0145 - val_mean_absolute_error: 0.8293\n",
            "Epoch 52/100\n",
            "72000/72000 [==============================] - 3s 36us/step - loss: 1.0563 - mean_absolute_error: 0.8316 - val_loss: 1.0140 - val_mean_absolute_error: 0.8272\n",
            "Epoch 53/100\n",
            "72000/72000 [==============================] - 3s 36us/step - loss: 1.0522 - mean_absolute_error: 0.8288 - val_loss: 1.0130 - val_mean_absolute_error: 0.8263\n",
            "Epoch 54/100\n",
            "72000/72000 [==============================] - 3s 37us/step - loss: 1.0549 - mean_absolute_error: 0.8303 - val_loss: 1.0135 - val_mean_absolute_error: 0.8287\n",
            "Epoch 55/100\n",
            "72000/72000 [==============================] - 3s 36us/step - loss: 1.0492 - mean_absolute_error: 0.8277 - val_loss: 1.0156 - val_mean_absolute_error: 0.8309\n",
            "Epoch 56/100\n",
            "72000/72000 [==============================] - 3s 37us/step - loss: 1.0489 - mean_absolute_error: 0.8272 - val_loss: 1.0137 - val_mean_absolute_error: 0.8275\n",
            "Epoch 57/100\n",
            "72000/72000 [==============================] - 3s 37us/step - loss: 1.0492 - mean_absolute_error: 0.8275 - val_loss: 1.0107 - val_mean_absolute_error: 0.8244\n",
            "Epoch 58/100\n",
            "72000/72000 [==============================] - 3s 37us/step - loss: 1.0544 - mean_absolute_error: 0.8295 - val_loss: 1.0112 - val_mean_absolute_error: 0.8235\n",
            "Epoch 59/100\n",
            "72000/72000 [==============================] - 3s 37us/step - loss: 1.0525 - mean_absolute_error: 0.8286 - val_loss: 1.0115 - val_mean_absolute_error: 0.8242\n",
            "Epoch 60/100\n",
            "72000/72000 [==============================] - 3s 37us/step - loss: 1.0506 - mean_absolute_error: 0.8280 - val_loss: 1.0155 - val_mean_absolute_error: 0.8314\n",
            "Epoch 61/100\n",
            "72000/72000 [==============================] - 3s 37us/step - loss: 1.0461 - mean_absolute_error: 0.8261 - val_loss: 1.0110 - val_mean_absolute_error: 0.8225\n",
            "Epoch 62/100\n",
            "72000/72000 [==============================] - 3s 37us/step - loss: 1.0500 - mean_absolute_error: 0.8277 - val_loss: 1.0136 - val_mean_absolute_error: 0.8287\n",
            "Epoch 63/100\n",
            "72000/72000 [==============================] - 3s 36us/step - loss: 1.0481 - mean_absolute_error: 0.8270 - val_loss: 1.0104 - val_mean_absolute_error: 0.8245\n",
            "Epoch 64/100\n",
            "72000/72000 [==============================] - 3s 37us/step - loss: 1.0510 - mean_absolute_error: 0.8284 - val_loss: 1.0160 - val_mean_absolute_error: 0.8313\n",
            "Epoch 65/100\n",
            "72000/72000 [==============================] - 3s 37us/step - loss: 1.0530 - mean_absolute_error: 0.8288 - val_loss: 1.0147 - val_mean_absolute_error: 0.8308\n",
            "Epoch 66/100\n",
            "72000/72000 [==============================] - 3s 37us/step - loss: 1.0509 - mean_absolute_error: 0.8280 - val_loss: 1.0135 - val_mean_absolute_error: 0.8287\n",
            "Epoch 67/100\n",
            "72000/72000 [==============================] - 3s 37us/step - loss: 1.0491 - mean_absolute_error: 0.8278 - val_loss: 1.0134 - val_mean_absolute_error: 0.8281\n",
            "Epoch 68/100\n",
            "72000/72000 [==============================] - 3s 37us/step - loss: 1.0479 - mean_absolute_error: 0.8271 - val_loss: 1.0134 - val_mean_absolute_error: 0.8276\n",
            "Epoch 69/100\n",
            "72000/72000 [==============================] - 3s 37us/step - loss: 1.0472 - mean_absolute_error: 0.8269 - val_loss: 1.0125 - val_mean_absolute_error: 0.8251\n",
            "Epoch 70/100\n",
            "72000/72000 [==============================] - 3s 37us/step - loss: 1.0488 - mean_absolute_error: 0.8274 - val_loss: 1.0138 - val_mean_absolute_error: 0.8288\n",
            "Epoch 71/100\n",
            "72000/72000 [==============================] - 3s 37us/step - loss: 1.0436 - mean_absolute_error: 0.8263 - val_loss: 1.0113 - val_mean_absolute_error: 0.8266\n",
            "Epoch 72/100\n",
            "72000/72000 [==============================] - 3s 36us/step - loss: 1.0437 - mean_absolute_error: 0.8243 - val_loss: 1.0123 - val_mean_absolute_error: 0.8270\n",
            "Epoch 73/100\n",
            "72000/72000 [==============================] - 3s 37us/step - loss: 1.0508 - mean_absolute_error: 0.8279 - val_loss: 1.0143 - val_mean_absolute_error: 0.8295\n",
            "Epoch 74/100\n",
            "72000/72000 [==============================] - 3s 37us/step - loss: 1.0433 - mean_absolute_error: 0.8259 - val_loss: 1.0129 - val_mean_absolute_error: 0.8286\n",
            "Epoch 75/100\n",
            "72000/72000 [==============================] - 3s 36us/step - loss: 1.0499 - mean_absolute_error: 0.8282 - val_loss: 1.0091 - val_mean_absolute_error: 0.8255\n",
            "Epoch 76/100\n",
            "72000/72000 [==============================] - 3s 36us/step - loss: 1.0480 - mean_absolute_error: 0.8267 - val_loss: 1.0104 - val_mean_absolute_error: 0.8249\n",
            "Epoch 77/100\n",
            "72000/72000 [==============================] - 3s 37us/step - loss: 1.0513 - mean_absolute_error: 0.8291 - val_loss: 1.0112 - val_mean_absolute_error: 0.8270\n",
            "Epoch 78/100\n",
            "72000/72000 [==============================] - 3s 37us/step - loss: 1.0477 - mean_absolute_error: 0.8269 - val_loss: 1.0132 - val_mean_absolute_error: 0.8285\n",
            "Epoch 79/100\n",
            "72000/72000 [==============================] - 3s 37us/step - loss: 1.0501 - mean_absolute_error: 0.8273 - val_loss: 1.0115 - val_mean_absolute_error: 0.8248\n",
            "Epoch 80/100\n",
            "72000/72000 [==============================] - 3s 37us/step - loss: 1.0484 - mean_absolute_error: 0.8275 - val_loss: 1.0108 - val_mean_absolute_error: 0.8249\n",
            "Epoch 81/100\n",
            "72000/72000 [==============================] - 3s 38us/step - loss: 1.0498 - mean_absolute_error: 0.8278 - val_loss: 1.0084 - val_mean_absolute_error: 0.8226\n",
            "Epoch 82/100\n",
            "72000/72000 [==============================] - 3s 39us/step - loss: 1.0463 - mean_absolute_error: 0.8258 - val_loss: 1.0111 - val_mean_absolute_error: 0.8268\n",
            "Epoch 83/100\n",
            "72000/72000 [==============================] - 3s 38us/step - loss: 1.0455 - mean_absolute_error: 0.8269 - val_loss: 1.0090 - val_mean_absolute_error: 0.8244\n",
            "Epoch 84/100\n",
            "72000/72000 [==============================] - 3s 40us/step - loss: 1.0498 - mean_absolute_error: 0.8278 - val_loss: 1.0115 - val_mean_absolute_error: 0.8270\n",
            "Epoch 85/100\n",
            "72000/72000 [==============================] - 3s 42us/step - loss: 1.0494 - mean_absolute_error: 0.8278 - val_loss: 1.0116 - val_mean_absolute_error: 0.8272\n",
            "Epoch 86/100\n",
            "72000/72000 [==============================] - 3s 41us/step - loss: 1.0495 - mean_absolute_error: 0.8269 - val_loss: 1.0110 - val_mean_absolute_error: 0.8282\n",
            "Epoch 87/100\n",
            "72000/72000 [==============================] - 3s 42us/step - loss: 1.0483 - mean_absolute_error: 0.8281 - val_loss: 1.0095 - val_mean_absolute_error: 0.8258\n",
            "Epoch 88/100\n",
            "72000/72000 [==============================] - 3s 37us/step - loss: 1.0460 - mean_absolute_error: 0.8268 - val_loss: 1.0112 - val_mean_absolute_error: 0.8274\n",
            "Epoch 89/100\n",
            "72000/72000 [==============================] - 3s 37us/step - loss: 1.0457 - mean_absolute_error: 0.8271 - val_loss: 1.0100 - val_mean_absolute_error: 0.8261\n",
            "Epoch 90/100\n",
            "72000/72000 [==============================] - 3s 37us/step - loss: 1.0509 - mean_absolute_error: 0.8289 - val_loss: 1.0082 - val_mean_absolute_error: 0.8215\n",
            "Epoch 91/100\n",
            "72000/72000 [==============================] - 3s 38us/step - loss: 1.0459 - mean_absolute_error: 0.8261 - val_loss: 1.0152 - val_mean_absolute_error: 0.8321\n",
            "Epoch 92/100\n",
            "72000/72000 [==============================] - 3s 37us/step - loss: 1.0457 - mean_absolute_error: 0.8262 - val_loss: 1.0085 - val_mean_absolute_error: 0.8211\n",
            "Epoch 93/100\n",
            "72000/72000 [==============================] - 3s 37us/step - loss: 1.0483 - mean_absolute_error: 0.8278 - val_loss: 1.0154 - val_mean_absolute_error: 0.8322\n",
            "Epoch 94/100\n",
            "72000/72000 [==============================] - 3s 37us/step - loss: 1.0483 - mean_absolute_error: 0.8275 - val_loss: 1.0118 - val_mean_absolute_error: 0.8275\n",
            "Epoch 95/100\n",
            "72000/72000 [==============================] - 3s 37us/step - loss: 1.0496 - mean_absolute_error: 0.8278 - val_loss: 1.0089 - val_mean_absolute_error: 0.8240\n",
            "Epoch 96/100\n",
            "72000/72000 [==============================] - 3s 37us/step - loss: 1.0451 - mean_absolute_error: 0.8256 - val_loss: 1.0087 - val_mean_absolute_error: 0.8240\n",
            "Epoch 97/100\n",
            "72000/72000 [==============================] - 3s 37us/step - loss: 1.0459 - mean_absolute_error: 0.8261 - val_loss: 1.0098 - val_mean_absolute_error: 0.8239\n",
            "Epoch 98/100\n",
            "72000/72000 [==============================] - 3s 37us/step - loss: 1.0483 - mean_absolute_error: 0.8265 - val_loss: 1.0114 - val_mean_absolute_error: 0.8272\n",
            "Epoch 99/100\n",
            "72000/72000 [==============================] - 3s 37us/step - loss: 1.0417 - mean_absolute_error: 0.8245 - val_loss: 1.0101 - val_mean_absolute_error: 0.8244\n",
            "Epoch 100/100\n",
            "72000/72000 [==============================] - 3s 37us/step - loss: 1.0499 - mean_absolute_error: 0.8279 - val_loss: 1.0102 - val_mean_absolute_error: 0.8251\n"
          ],
          "name": "stdout"
        },
        {
          "output_type": "execute_result",
          "data": {
            "text/plain": [
              "<keras.callbacks.History at 0x7f9c7d2231d0>"
            ]
          },
          "metadata": {
            "tags": []
          },
          "execution_count": 157
        }
      ]
    },
    {
      "cell_type": "markdown",
      "metadata": {
        "id": "bfaSk-59kNBX",
        "colab_type": "text"
      },
      "source": [
        "**c - prediction and MAE calculation**"
      ]
    },
    {
      "cell_type": "code",
      "metadata": {
        "id": "BNLsOiJSgzNX",
        "colab_type": "code",
        "colab": {
          "base_uri": "https://localhost:8080/",
          "height": 68
        },
        "outputId": "d5e5ddbd-e007-47e5-a699-69a819954544"
      },
      "source": [
        "# predict\n",
        "result1=NCF_model1.predict([test_with_users['userid'],test_with_users['movieid'],test_with_users['age'], test_with_users['gender']])\n",
        "print('Model 1 MAE: ', mean_absolute_error(test_with_users['rating'], result1))\n",
        "\n",
        "result2=NCF_model2.predict([test_with_users['userid'],test_with_users['movieid'],test_with_users['age'], test_with_users['gender']])\n",
        "print('Model 2 MAE: ', mean_absolute_error(test_with_users['rating'], result2))\n",
        "\n",
        "result3=NCF_model3.predict([test_with_users['userid'],test_with_users['movieid'],test_with_users['age'], test_with_users['gender']])\n",
        "print('Model 3 MAE: ', mean_absolute_error(test_with_users['rating'], result3))"
      ],
      "execution_count": 158,
      "outputs": [
        {
          "output_type": "stream",
          "text": [
            "Model 1 MAE:  0.8161504019618034\n",
            "Model 2 MAE:  0.8164411124706268\n",
            "Model 3 MAE:  0.8160355227231979\n"
          ],
          "name": "stdout"
        }
      ]
    },
    {
      "cell_type": "markdown",
      "metadata": {
        "id": "BAK1BW8OkKpu",
        "colab_type": "text"
      },
      "source": [
        "**d - compare results**"
      ]
    },
    {
      "cell_type": "markdown",
      "metadata": {
        "id": "QJFizWWTkeDq",
        "colab_type": "text"
      },
      "source": [
        "As we can see, all models MAE are very similar, and also very similar to the previous models (without user age and gender)."
      ]
    },
    {
      "cell_type": "markdown",
      "metadata": {
        "id": "QAJm6lE7lI-z",
        "colab_type": "text"
      },
      "source": [
        "**e - discuss results**"
      ]
    },
    {
      "cell_type": "markdown",
      "metadata": {
        "id": "M0nsKHhclTZu",
        "colab_type": "text"
      },
      "source": [
        "We can conclude that user age and gender don't affect the users rating significantly.\n",
        "\n",
        "From all models we used, the best one was matrix factorization - where we also used the movie genre and year in the input data. (even though the training time was the highest for this model, the MAE is significantly lower than the other models).\n",
        "\n"
      ]
    }
  ]
}