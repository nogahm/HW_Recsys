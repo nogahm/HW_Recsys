{
 "cells": [
  {
   "cell_type": "markdown",
   "metadata": {
    "collapsed": true
   },
   "source": [
    "HW1"
   ]
  },
  {
   "cell_type": "markdown",
   "metadata": {},
   "source": [
    "1 - Data Analysis"
   ]
  },
  {
   "cell_type": "heading",
   "metadata": {},
   "level": 1,
   "source": [
    "a - Average Ratings"
   ]
  },
  {
   "cell_type": "code",
   "execution_count": 3,
   "metadata": {},
   "outputs": [],
   "source": [
    "import numpy as np\n",
    "import pandas as pd\n",
    "import matplotlib.pyplot as plt"
   ]
  },
  {
   "cell_type": "code",
   "execution_count": 41,
   "metadata": {},
   "outputs": [],
   "source": [
    "# read data into dataframe\n",
    "MOVIELENS_DIR = \"C:\\\\Users\\\\nogahm\\\\PycharmProjects\\\\HW_Recsys\\\\ml-100k\"\n",
    "RATING_DATA_FILE = \"\\\\u.data\"\n",
    "# RATING_DATA_GEN_FILE = 'u_gen.data'\n",
    "# RATINGS_CSV_FILE = 'u_emb.data'\n",
    "# RATINGS_CSV_FILE_NORM = 'u_norm.data'\n",
    "# RATINGS_GEN_CSV_FILE = 'u_genr.data'\n",
    "# MODEL_WEIGHTS_FILE = 'u_emb_weights.h5'\n",
    "# MODEL_WEIGHTS_FILE_CORE = 'u_emb_weights'\n",
    "ratings = pd.read_csv(MOVIELENS_DIR+RATING_DATA_FILE, \n",
    "                    sep='\\t', \n",
    "                    engine='python', \n",
    "                    encoding='latin-1',\n",
    "                    names=['userid', 'movieid', 'rating', 'timestamp'])"
   ]
  },
  {
   "cell_type": "code",
   "execution_count": 38,
   "metadata": {
    "collapsed": true
   },
   "outputs": [
    {
     "data": {
      "image/png": "[encoded data removed]",
      "text/plain": [
       "<matplotlib.figure.Figure at 0x9b7f550>"
      ]
     },
     "metadata": {},
     "output_type": "display_data"
    }
   ],
   "source": [
    "# get average rating for each movie and print histogram\n",
    "average_rating=ratings.filter(['movieid','rating']).groupby('movieid').mean()\n",
    "# sort by rating\n",
    "average_rating.sort_values('rating', inplace=True, ascending=False)\n",
    "fig = average_rating.hist(column=\"rating\")\n",
    "plt.title(\"Average Rating Histogram\")\n",
    "plt.xlabel(\"Rating\", fontsize=15)\n",
    "plt.ylabel(\"# Of Movies in Rating\", fontsize=15)\n",
    "plt.show(fig)"
   ]
  },
  {
   "cell_type": "code",
   "execution_count": 39,
   "metadata": {},
   "outputs": [
    {
     "data": {
      "text/html": [
       "<div>\n",
       "<style>\n",
       "    .dataframe thead tr:only-child th {\n",
       "        text-align: right;\n",
       "    }\n",
       "\n",
       "    .dataframe thead th {\n",
       "        text-align: left;\n",
       "    }\n",
       "\n",
       "    .dataframe tbody tr th {\n",
       "        vertical-align: top;\n",
       "    }\n",
       "</style>\n",
       "<table border=\"1\" class=\"dataframe\">\n",
       "  <thead>\n",
       "    <tr style=\"text-align: right;\">\n",
       "      <th></th>\n",
       "      <th>rating</th>\n",
       "    </tr>\n",
       "    <tr>\n",
       "      <th>movieid</th>\n",
       "      <th></th>\n",
       "    </tr>\n",
       "  </thead>\n",
       "  <tbody>\n",
       "    <tr>\n",
       "      <th>814</th>\n",
       "      <td>5.0</td>\n",
       "    </tr>\n",
       "    <tr>\n",
       "      <th>1599</th>\n",
       "      <td>5.0</td>\n",
       "    </tr>\n",
       "    <tr>\n",
       "      <th>1201</th>\n",
       "      <td>5.0</td>\n",
       "    </tr>\n",
       "  </tbody>\n",
       "</table>\n",
       "</div>"
      ],
      "text/plain": [
       "<div>\n",
       "<style>\n",
       "    .dataframe thead tr:only-child th {\n",
       "        text-align: right;\n",
       "    }\n",
       "\n",
       "    .dataframe thead th {\n",
       "        text-align: left;\n",
       "    }\n",
       "\n",
       "    .dataframe tbody tr th {\n",
       "        vertical-align: top;\n",
       "    }\n",
       "</style>\n",
       "<table border=\"1\" class=\"dataframe\">\n",
       "  <thead>\n",
       "    <tr style=\"text-align: right;\">\n",
       "      <th></th>\n",
       "      <th>rating</th>\n",
       "    </tr>\n",
       "    <tr>\n",
       "      <th>movieid</th>\n",
       "      <th></th>\n",
       "    </tr>\n",
       "  </thead>\n",
       "  <tbody>\n",
       "    <tr>\n",
       "      <th>814</th>\n",
       "      <td>5.0</td>\n",
       "    </tr>\n",
       "    <tr>\n",
       "      <th>1599</th>\n",
       "      <td>5.0</td>\n",
       "    </tr>\n",
       "    <tr>\n",
       "      <th>1201</th>\n",
       "      <td>5.0</td>\n",
       "    </tr>\n",
       "  </tbody>\n",
       "</table>\n",
       "</div>"
      ]
     },
     "execution_count": 39,
     "metadata": {},
     "output_type": "execute_result"
    }
   ],
   "source": [
    "# print top 3 movies\n",
    "average_rating.head(3)"
   ]
  },
  {
   "cell_type": "heading",
   "metadata": {},
   "level": 1,
   "source": [
    "b - Sex Analysis"
   ]
  },
  {
   "cell_type": "code",
   "execution_count": 60,
   "metadata": {},
   "outputs": [
    {
     "data": {
      "image/png": "[encoded data removed]",
      "text/plain": [
       "<matplotlib.figure.Figure at 0xa2c6610>"
      ]
     },
     "metadata": {},
     "output_type": "display_data"
    },
    {
     "name": "stdout",
     "output_type": "stream",
     "text": [
      "Top 3 movies by males:\n"
     ]
    },
    {
     "data": {
      "text/html": [
       "<div>\n",
       "<style>\n",
       "    .dataframe thead tr:only-child th {\n",
       "        text-align: right;\n",
       "    }\n",
       "\n",
       "    .dataframe thead th {\n",
       "        text-align: left;\n",
       "    }\n",
       "\n",
       "    .dataframe tbody tr th {\n",
       "        vertical-align: top;\n",
       "    }\n",
       "</style>\n",
       "<table border=\"1\" class=\"dataframe\">\n",
       "  <thead>\n",
       "    <tr style=\"text-align: right;\">\n",
       "      <th></th>\n",
       "      <th>rating</th>\n",
       "    </tr>\n",
       "    <tr>\n",
       "      <th>movieid</th>\n",
       "      <th></th>\n",
       "    </tr>\n",
       "  </thead>\n",
       "  <tbody>\n",
       "    <tr>\n",
       "      <th>1500</th>\n",
       "      <td>5.0</td>\n",
       "    </tr>\n",
       "    <tr>\n",
       "      <th>1201</th>\n",
       "      <td>5.0</td>\n",
       "    </tr>\n",
       "    <tr>\n",
       "      <th>1605</th>\n",
       "      <td>5.0</td>\n",
       "    </tr>\n",
       "  </tbody>\n",
       "</table>\n",
       "</div>"
      ],
      "text/plain": [
       "<div>\n",
       "<style>\n",
       "    .dataframe thead tr:only-child th {\n",
       "        text-align: right;\n",
       "    }\n",
       "\n",
       "    .dataframe thead th {\n",
       "        text-align: left;\n",
       "    }\n",
       "\n",
       "    .dataframe tbody tr th {\n",
       "        vertical-align: top;\n",
       "    }\n",
       "</style>\n",
       "<table border=\"1\" class=\"dataframe\">\n",
       "  <thead>\n",
       "    <tr style=\"text-align: right;\">\n",
       "      <th></th>\n",
       "      <th>rating</th>\n",
       "    </tr>\n",
       "    <tr>\n",
       "      <th>movieid</th>\n",
       "      <th></th>\n",
       "    </tr>\n",
       "  </thead>\n",
       "  <tbody>\n",
       "    <tr>\n",
       "      <th>1500</th>\n",
       "      <td>5.0</td>\n",
       "    </tr>\n",
       "    <tr>\n",
       "      <th>1201</th>\n",
       "      <td>5.0</td>\n",
       "    </tr>\n",
       "    <tr>\n",
       "      <th>1605</th>\n",
       "      <td>5.0</td>\n",
       "    </tr>\n",
       "  </tbody>\n",
       "</table>\n",
       "</div>"
      ]
     },
     "execution_count": 60,
     "metadata": {},
     "output_type": "execute_result"
    }
   ],
   "source": [
    "# add column gender to ratings\n",
    "USERS_DATA_FILE = \"\\\\u.user\"\n",
    "users = pd.read_csv(MOVIELENS_DIR+USERS_DATA_FILE, \n",
    "                    sep='|', \n",
    "                    engine='python', \n",
    "                    encoding='latin-1',\n",
    "                    names=['userid', 'age' , 'gender' , 'occupation' , 'zip code'])\n",
    "merged_users_movies=pd.merge(ratings,users)\n",
    "\n",
    "#Male Analysis\n",
    "rating_male=merged_users_movies.loc[merged_users_movies['gender'] == 'M']\n",
    "average_rating_male = rating_male.filter(['movieid','rating']).groupby('movieid').mean()\n",
    "# sort by rating\n",
    "average_rating_male.sort_values('rating', inplace=True, ascending=False)\n",
    "fig = average_rating_male.hist(column=\"rating\")\n",
    "plt.title(\"Male Average Rating Histogram\")\n",
    "plt.xlabel(\"Rating\", fontsize=15)\n",
    "plt.ylabel(\"# Of Movies in Rating\", fontsize=15)\n",
    "plt.show(fig)\n",
    "print(\"Top 3 movies by males:\")\n",
    "average_rating_male.head(3)\n"
   ]
  },
  {
   "cell_type": "code",
   "execution_count": 75,
   "metadata": {
    "collapsed": true
   },
   "outputs": [
    {
     "data": {
      "image/png": "[encoded data removed]",
      "text/plain": [
       "<matplotlib.figure.Figure at 0xc81f870>"
      ]
     },
     "metadata": {},
     "output_type": "display_data"
    },
    {
     "name": "stdout",
     "output_type": "stream",
     "text": [
      "Top 3 movies by females:\n"
     ]
    },
    {
     "data": {
      "text/html": [
       "<div>\n",
       "<style>\n",
       "    .dataframe thead tr:only-child th {\n",
       "        text-align: right;\n",
       "    }\n",
       "\n",
       "    .dataframe thead th {\n",
       "        text-align: left;\n",
       "    }\n",
       "\n",
       "    .dataframe tbody tr th {\n",
       "        vertical-align: top;\n",
       "    }\n",
       "</style>\n",
       "<table border=\"1\" class=\"dataframe\">\n",
       "  <thead>\n",
       "    <tr style=\"text-align: right;\">\n",
       "      <th></th>\n",
       "      <th>rating</th>\n",
       "    </tr>\n",
       "    <tr>\n",
       "      <th>movieid</th>\n",
       "      <th></th>\n",
       "    </tr>\n",
       "  </thead>\n",
       "  <tbody>\n",
       "    <tr>\n",
       "      <th>1368</th>\n",
       "      <td>5.0</td>\n",
       "    </tr>\n",
       "    <tr>\n",
       "      <th>1451</th>\n",
       "      <td>5.0</td>\n",
       "    </tr>\n",
       "    <tr>\n",
       "      <th>1594</th>\n",
       "      <td>5.0</td>\n",
       "    </tr>\n",
       "  </tbody>\n",
       "</table>\n",
       "</div>"
      ],
      "text/plain": [
       "<div>\n",
       "<style>\n",
       "    .dataframe thead tr:only-child th {\n",
       "        text-align: right;\n",
       "    }\n",
       "\n",
       "    .dataframe thead th {\n",
       "        text-align: left;\n",
       "    }\n",
       "\n",
       "    .dataframe tbody tr th {\n",
       "        vertical-align: top;\n",
       "    }\n",
       "</style>\n",
       "<table border=\"1\" class=\"dataframe\">\n",
       "  <thead>\n",
       "    <tr style=\"text-align: right;\">\n",
       "      <th></th>\n",
       "      <th>rating</th>\n",
       "    </tr>\n",
       "    <tr>\n",
       "      <th>movieid</th>\n",
       "      <th></th>\n",
       "    </tr>\n",
       "  </thead>\n",
       "  <tbody>\n",
       "    <tr>\n",
       "      <th>1368</th>\n",
       "      <td>5.0</td>\n",
       "    </tr>\n",
       "    <tr>\n",
       "      <th>1451</th>\n",
       "      <td>5.0</td>\n",
       "    </tr>\n",
       "    <tr>\n",
       "      <th>1594</th>\n",
       "      <td>5.0</td>\n",
       "    </tr>\n",
       "  </tbody>\n",
       "</table>\n",
       "</div>"
      ]
     },
     "execution_count": 75,
     "metadata": {},
     "output_type": "execute_result"
    }
   ],
   "source": [
    "\n",
    "#Female Analysis\n",
    "rating_female=merged_users_movies.loc[merged_users_movies['gender'] == 'F']\n",
    "average_rating_female = rating_female.filter(['movieid','rating']).groupby('movieid').mean()\n",
    "# sort by rating\n",
    "average_rating_female.sort_values('rating', inplace=True, ascending=False)\n",
    "fig = average_rating_female.hist(column=\"rating\")\n",
    "plt.title(\"Female Average Rating Histogram\")\n",
    "plt.xlabel(\"Rating\", fontsize=15)\n",
    "plt.ylabel(\"# Of Movies in Rating\", fontsize=15)\n",
    "plt.show(fig)\n",
    "print(\"Top 3 movies by females:\")\n",
    "average_rating_female.head(3)"
   ]
  },
  {
   "cell_type": "code",
   "execution_count": 112,
   "metadata": {
    "collapsed": false
   },
   "outputs": [
    {
     "name": "stdout",
     "output_type": "stream",
     "text": [
      "movieid\n1       0.119994\n2      -0.189850\n3       0.420608\n4       0.191463\n5      -0.632102\n6      -0.028571\n7       0.300315\n8      -0.075157\n9      -0.043452\n10      0.169565\n11      0.095268\n12      0.065728\n13      0.208042\n14      0.109091\n15     -0.244160\n16     -0.056452\n17      0.318403\n18      1.000000\n19     -0.554007\n20     -0.250000\n21     -0.568915\n22      0.031136\n23     -0.061303\n24      0.236301\n25     -0.324113\n26      0.343699\n27      0.267857\n28     -0.090047\n29     -0.635452\n30      0.285714\n          ...   \n1558    3.000000\n1560    2.500000\n1573    3.000000\n1589    2.000000\n1591    2.600000\n1592    3.250000\n1594   -1.000000\n1598    0.600000\n1600    0.333333\n1602    1.000000\n1605    2.666667\n1607    0.500000\n1608   -1.000000\n1609    1.000000\n1610    1.500000\n1611    0.000000\n1612    2.500000\n1615   -0.952381\n1620   -0.666667\n1623    0.000000\n1628    0.500000\n1631   -1.000000\n1639    0.500000\n1643    0.500000\n1646    1.000000\n1652    2.000000\n1656    3.000000\n1658    1.500000\n1662   -3.000000\n1664    1.500000\nLength: 1457, dtype: float64\n"
     ]
    }
   ],
   "source": [
    "# TODO\n",
    "# get average difference between genders\n",
    "average_rating_male.rename(columns = {'rating':'male_rating'}, inplace = True)\n",
    "average_rating_female.rename(columns = {'rating':'female_rating'}, inplace = True)\n",
    "merged_users_averages=pd.merge(average_rating_male,average_rating_female,left_index=True,right_index=True,how='outer')\n",
    "# remove NAN\n",
    "merged_users_averages=merged_users_averages[np.isfinite(merged_users_averages['female_rating'])]\n",
    "merged_users_averages=merged_users_averages[np.isfinite(merged_users_averages['male_rating'])]\n",
    "# get difference\n",
    "difference_between_genders=merged_users_averages.apply(lambda row: (row['male_rating']-row['female_rating']), axis=1)\n",
    "print(difference_between_genders)\n",
    "# type(difference_between_genders)"
   ]
  },
  {
   "cell_type": "code",
   "execution_count": null,
   "metadata": {},
   "outputs": [],
   "source": []
  }
 ],
 "metadata": {
  "kernelspec": {
   "display_name": "Python 2",
   "language": "python",
   "name": "python2"
  },
  "language_info": {
   "codemirror_mode": {
    "name": "ipython",
    "version": 2
   },
   "file_extension": ".py",
   "mimetype": "text/x-python",
   "name": "python",
   "nbconvert_exporter": "python",
   "pygments_lexer": "ipython2",
   "version": "2.7.6"
  }
 },
 "nbformat": 4,
 "nbformat_minor": 0
}
